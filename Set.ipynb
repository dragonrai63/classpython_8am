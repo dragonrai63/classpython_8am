{
 "cells": [
  {
   "cell_type": "code",
   "execution_count": 1,
   "id": "9ae876e4",
   "metadata": {},
   "outputs": [],
   "source": [
    "# Set\n",
    "# -No indexing\n",
    "# -Unordered\n",
    "# -Multiple data but no duplicate\n",
    "# -Mutable\n",
    "#note set inside set doesnot exist, can be made"
   ]
  },
  {
   "cell_type": "code",
   "execution_count": null,
   "id": "a8f68549",
   "metadata": {},
   "outputs": [],
   "source": [
    "a = set()"
   ]
  },
  {
   "cell_type": "code",
   "execution_count": 2,
   "id": "109fb36b",
   "metadata": {},
   "outputs": [
    {
     "name": "stdout",
     "output_type": "stream",
     "text": [
      "{'Ball', 'Apple', 'Dog', 'Cat', 'Fish'}\n"
     ]
    }
   ],
   "source": [
    "a = {'Apple','Ball','Cat','Dog','Fish'}\n",
    "print(a) # no duplicate value can be store"
   ]
  },
  {
   "cell_type": "markdown",
   "id": "3f2d996b",
   "metadata": {},
   "source": [
    "Checking the value:-"
   ]
  },
  {
   "cell_type": "code",
   "execution_count": 3,
   "id": "9ad34fdd",
   "metadata": {},
   "outputs": [
    {
     "name": "stdout",
     "output_type": "stream",
     "text": [
      "{'Ball', 'Apple', 'Dog', 'Cat', 'Fish'}\n"
     ]
    }
   ],
   "source": [
    "a = {'Apple','Ball','Cat','Dog','Fish','Apple'}\n",
    "print(a)"
   ]
  },
  {
   "cell_type": "markdown",
   "id": "48468e0a",
   "metadata": {},
   "source": [
    "# using loop in set:\n",
    "value will change evry time we run"
   ]
  },
  {
   "cell_type": "code",
   "execution_count": 6,
   "id": "df03f9ea",
   "metadata": {},
   "outputs": [
    {
     "name": "stdout",
     "output_type": "stream",
     "text": [
      "Ball\n",
      "Apple\n",
      "Dog\n",
      "Cat\n",
      "Fish\n"
     ]
    }
   ],
   "source": [
    "a = {'Apple','Ball','Cat','Dog','Fish'}\n",
    "for i in a:\n",
    "    print(i)# note in Set() value will be in random\n",
    "    #note every time we run code it change the order of value"
   ]
  },
  {
   "cell_type": "code",
   "execution_count": 11,
   "id": "fff9eb08",
   "metadata": {},
   "outputs": [
    {
     "name": "stdout",
     "output_type": "stream",
     "text": [
      "<class 'dict'>\n"
     ]
    },
    {
     "data": {
      "text/plain": [
       "set"
      ]
     },
     "execution_count": 11,
     "metadata": {},
     "output_type": "execute_result"
    }
   ],
   "source": [
    "s = {} # this \n",
    "print(type(s))\n",
    "s = {1}\n",
    "type(s)"
   ]
  },
  {
   "cell_type": "markdown",
   "id": "f7aa7727",
   "metadata": {},
   "source": [
    "# fro adding the value in set{}"
   ]
  },
  {
   "cell_type": "code",
   "execution_count": 12,
   "id": "dbe0e6be",
   "metadata": {},
   "outputs": [
    {
     "name": "stdout",
     "output_type": "stream",
     "text": [
      "{'Ball', 'Apple', 'Cat'}\n"
     ]
    }
   ],
   "source": [
    "s = set()\n",
    "s.add(\"Apple\")\n",
    "s.add(\"Ball\")# note add function added only one by one\n",
    "s.add(\"Cat\")\n",
    "print(s)"
   ]
  },
  {
   "cell_type": "markdown",
   "id": "70370d9d",
   "metadata": {},
   "source": [
    "# we cannot conct. in set"
   ]
  },
  {
   "cell_type": "code",
   "execution_count": 13,
   "id": "eb879630",
   "metadata": {},
   "outputs": [
    {
     "ename": "TypeError",
     "evalue": "unsupported operand type(s) for +: 'set' and 'set'",
     "output_type": "error",
     "traceback": [
      "\u001b[1;31m---------------------------------------------------------------------------\u001b[0m",
      "\u001b[1;31mTypeError\u001b[0m                                 Traceback (most recent call last)",
      "Cell \u001b[1;32mIn[13], line 3\u001b[0m\n\u001b[0;32m      1\u001b[0m a \u001b[38;5;241m=\u001b[39m {\u001b[38;5;241m1\u001b[39m,\u001b[38;5;241m2\u001b[39m,\u001b[38;5;241m3\u001b[39m,\u001b[38;5;241m4\u001b[39m,\u001b[38;5;241m5\u001b[39m}\n\u001b[0;32m      2\u001b[0m b \u001b[38;5;241m=\u001b[39m {\u001b[38;5;241m2\u001b[39m,\u001b[38;5;241m3\u001b[39m,\u001b[38;5;241m4\u001b[39m,\u001b[38;5;241m5\u001b[39m}\n\u001b[1;32m----> 3\u001b[0m c \u001b[38;5;241m=\u001b[39m \u001b[43ma\u001b[49m\u001b[43m \u001b[49m\u001b[38;5;241;43m+\u001b[39;49m\u001b[43m \u001b[49m\u001b[43mb\u001b[49m\n\u001b[0;32m      4\u001b[0m \u001b[38;5;28mprint\u001b[39m(c)\n",
      "\u001b[1;31mTypeError\u001b[0m: unsupported operand type(s) for +: 'set' and 'set'"
     ]
    }
   ],
   "source": [
    "a = {1,2,3,4,5}\n",
    "b = {2,3,4,5}\n",
    "c = a + b\n",
    "print(c)"
   ]
  },
  {
   "cell_type": "markdown",
   "id": "ece2b02c",
   "metadata": {},
   "source": [
    "# but we can update a bulk of code"
   ]
  },
  {
   "cell_type": "code",
   "execution_count": 14,
   "id": "e612127b",
   "metadata": {},
   "outputs": [
    {
     "name": "stdout",
     "output_type": "stream",
     "text": [
      "{1, 2, 3, 4, 5, 6, 7, 8, 9}\n"
     ]
    }
   ],
   "source": [
    "a = {1,2,3,4,5}\n",
    "a.update({3,4,5,6,7,8,9,})# we can add multiple value\n",
    "print(a)"
   ]
  },
  {
   "cell_type": "markdown",
   "id": "82aea255",
   "metadata": {},
   "source": [
    "#for removing the data in set{} "
   ]
  },
  {
   "cell_type": "code",
   "execution_count": 15,
   "id": "be8059b7",
   "metadata": {},
   "outputs": [
    {
     "data": {
      "text/plain": [
       "{2, 3, 4, 5}"
      ]
     },
     "execution_count": 15,
     "metadata": {},
     "output_type": "execute_result"
    }
   ],
   "source": [
    "a = {1,2,3,4,5}\n",
    "a.remove(1)\n",
    "a"
   ]
  },
  {
   "cell_type": "code",
   "execution_count": 17,
   "id": "355dc022",
   "metadata": {},
   "outputs": [
    {
     "data": {
      "text/plain": [
       "{1, 2, 3, 4, 5}"
      ]
     },
     "execution_count": 17,
     "metadata": {},
     "output_type": "execute_result"
    }
   ],
   "source": [
    "a = [1,2,3,1,2,3,4,5,3,4,5,3,2,3,4,5,3]\n",
    "a = set(a)\n",
    "a\n",
    "# a = list(a)\n",
    "# a"
   ]
  },
  {
   "cell_type": "code",
   "execution_count": 19,
   "id": "06623335",
   "metadata": {},
   "outputs": [
    {
     "data": {
      "text/plain": [
       "[1, 2, 3, 4, 5]"
      ]
     },
     "execution_count": 19,
     "metadata": {},
     "output_type": "execute_result"
    }
   ],
   "source": [
    "a = list(a)\n",
    "a"
   ]
  },
  {
   "cell_type": "markdown",
   "id": "0ffc8164",
   "metadata": {},
   "source": [
    "# "
   ]
  },
  {
   "cell_type": "code",
   "execution_count": 20,
   "id": "4467dac4",
   "metadata": {},
   "outputs": [
    {
     "name": "stdout",
     "output_type": "stream",
     "text": [
      "{9, 7}\n"
     ]
    }
   ],
   "source": [
    "a = {1,3,5,7,9}\n",
    "b = {6,7,8,9,10}\n",
    "\n",
    "i = a.intersection(b)\n",
    "print(i)"
   ]
  },
  {
   "cell_type": "code",
   "execution_count": 21,
   "id": "dad72fe7",
   "metadata": {},
   "outputs": [
    {
     "name": "stdout",
     "output_type": "stream",
     "text": [
      "{1, 3, 5, 6, 7, 8, 9, 10}\n"
     ]
    }
   ],
   "source": [
    "u = a.union(b)\n",
    "print(u)"
   ]
  },
  {
   "cell_type": "code",
   "execution_count": 22,
   "id": "97f2d2ef",
   "metadata": {},
   "outputs": [],
   "source": [
    "U = {1,2,3,4,5,6,7,8,9,10}# u = universal set"
   ]
  },
  {
   "cell_type": "code",
   "execution_count": 23,
   "id": "cc76c959",
   "metadata": {},
   "outputs": [
    {
     "name": "stdout",
     "output_type": "stream",
     "text": [
      "{2, 4}\n"
     ]
    }
   ],
   "source": [
    "print(U- u)# compliment set {2,4}"
   ]
  },
  {
   "cell_type": "markdown",
   "id": "60df6464",
   "metadata": {},
   "source": [
    "# people working in two company"
   ]
  },
  {
   "cell_type": "code",
   "execution_count": 26,
   "id": "b0f57996",
   "metadata": {},
   "outputs": [
    {
     "name": "stdout",
     "output_type": "stream",
     "text": [
      "{'Sam'}\n"
     ]
    }
   ],
   "source": [
    "#apple is one company\n",
    "#ms is another company\n",
    "apple = {\"Steave\",\"Robin\",\"Jack\",\"Nabin\",\"Sam\",\"Krish\"}\n",
    "ms = {\"Bill\",\"Jhon\",\"Ram\",\"Satya\",\"Sam\",\"Sabin\",\"Sita\"}\n",
    "am = apple.intersection(ms)\n",
    "print(am) # in both company sam works"
   ]
  },
  {
   "cell_type": "code",
   "execution_count": 28,
   "id": "0862ba89",
   "metadata": {},
   "outputs": [
    {
     "name": "stdout",
     "output_type": "stream",
     "text": [
      "{'Sita', 'Jack', 'Krish', 'Ram', 'Bill', 'Jhon', 'Nabin', 'Robin', 'Steave', 'Sabin', 'Sam', 'Satya'}\n"
     ]
    }
   ],
   "source": [
    "#merage both company\n",
    "un = apple.union(ms)\n",
    "print(un)"
   ]
  },
  {
   "cell_type": "code",
   "execution_count": 29,
   "id": "a4fda431",
   "metadata": {},
   "outputs": [
    {
     "name": "stdout",
     "output_type": "stream",
     "text": [
      "{'Jack', 'Krish', 'Nabin', 'Robin', 'Steave'}\n"
     ]
    }
   ],
   "source": [
    "#note only people working in apple compnay\n",
    "ap = apple - ms\n",
    "print(ap)"
   ]
  },
  {
   "cell_type": "code",
   "execution_count": 30,
   "id": "f7b26da3",
   "metadata": {},
   "outputs": [
    {
     "name": "stdout",
     "output_type": "stream",
     "text": [
      "{'xyz', 'abc'}\n"
     ]
    }
   ],
   "source": [
    "#U = university of usa , passed out student.where only two \n",
    "#company are there to deployed which is apple and Ms\n",
    "U = {'xyz','abc','Nabin', 'Robin', 'Jack', 'Steave', 'Satya', 'Krish', 'Jhon', 'Sabin', 'Sita', 'Ram', 'Bill', 'Sam'}\n",
    "# to check unployment people\n",
    "print(U-un)\n",
    "#below out are people which are unemployed"
   ]
  },
  {
   "cell_type": "markdown",
   "id": "db1973d5",
   "metadata": {},
   "source": [
    "#"
   ]
  },
  {
   "cell_type": "markdown",
   "id": "745710f1",
   "metadata": {},
   "source": [
    "# below code which are checking the value of company people working"
   ]
  },
  {
   "cell_type": "code",
   "execution_count": null,
   "id": "008b8d06",
   "metadata": {},
   "outputs": [],
   "source": [
    "U = {'xyz','abc','Nabin', 'Robin', 'Jack', 'Steave', 'Satya', 'Krish', 'Jhon', 'Sabin', 'Sita', 'Ram', 'Bill', 'Sam'}\n",
    "apple = {\"Steave\",\"Robin\",\"Jack\",\"Nabin\",\"Sam\",\"Krish\"}\n",
    "ms = {\"Bill\",\"Jhon\",\"Ram\",\"Satya\",\"Sam\",\"Sabin\",\"Sita\"}\n",
    "\n",
    "am = apple.intersection(ms)\n",
    "print(am)\n",
    "\n",
    "un = apple.union(ms)\n",
    "print(un)\n",
    "\n",
    "ap = apple - ms\n",
    "print(ap)\n",
    "\n",
    "om = ms - apple\n",
    "print(om)\n",
    "\n",
    "print(U-un)"
   ]
  },
  {
   "cell_type": "markdown",
   "id": "efbd5897",
   "metadata": {},
   "source": [
    "# set can be used in job searching"
   ]
  },
  {
   "cell_type": "code",
   "execution_count": 32,
   "id": "539b930d",
   "metadata": {},
   "outputs": [
    {
     "name": "stdout",
     "output_type": "stream",
     "text": [
      "2\n",
      "6\n",
      "33.33333333333333\n"
     ]
    }
   ],
   "source": [
    "job = {\"python\",\"django\",\"restapi\",\"ml\",\"tensorflow\",\"pytorch\"}# this is skilled need at job\n",
    "profile = {\"python\",\"django\",\"html\",\"css\"}# this is my skill have\n",
    "\n",
    "#note how to check i am fitted in this job by check set\n",
    "\n",
    "len_skill = len(job.intersection(profile))\n",
    "print(len_skill)\n",
    "\n",
    "\n",
    "len_job_skill = len(job)\n",
    "print(len_job_skill)\n",
    "\n",
    "chance = len_skill/len_job_skill * 100\n",
    "print(chance)\n"
   ]
  },
  {
   "cell_type": "markdown",
   "id": "eb501c7f",
   "metadata": {},
   "source": [
    "# dis-joint set if job skill doesn't match with profile skill"
   ]
  },
  {
   "cell_type": "markdown",
   "id": "dcbac984",
   "metadata": {},
   "source": [
    "# super set:"
   ]
  },
  {
   "cell_type": "code",
   "execution_count": null,
   "id": "2c5fe5de",
   "metadata": {},
   "outputs": [],
   "source": [
    "super set is job skill == profile skill"
   ]
  },
  {
   "cell_type": "code",
   "execution_count": 34,
   "id": "44fdab28",
   "metadata": {},
   "outputs": [
    {
     "name": "stdout",
     "output_type": "stream",
     "text": [
      "False\n"
     ]
    }
   ],
   "source": [
    "job = {\"python\",\"django\",\"restapi\",\"ml\",\"tensorflow\",\"pytorch\"}\n",
    "profile = {\"python\",\"django\"}\n",
    "\n",
    "print(profile.issuperset(job))"
   ]
  },
  {
   "cell_type": "markdown",
   "id": "f57a9f84",
   "metadata": {},
   "source": [
    "# sub -set:\n",
    "is all iteam of profile skilled is == all in job skilled "
   ]
  },
  {
   "cell_type": "code",
   "execution_count": 35,
   "id": "02f24b6e",
   "metadata": {},
   "outputs": [
    {
     "name": "stdout",
     "output_type": "stream",
     "text": [
      "True\n"
     ]
    }
   ],
   "source": [
    "print(profile.issubset(job))"
   ]
  },
  {
   "cell_type": "markdown",
   "id": "d76c4c29",
   "metadata": {},
   "source": [
    "# in set mutable data are not store"
   ]
  },
  {
   "cell_type": "code",
   "execution_count": 36,
   "id": "189e925a",
   "metadata": {},
   "outputs": [
    {
     "data": {
      "text/plain": [
       "{(1, 2, 3), (4, 5, 6, 7)}"
      ]
     },
     "execution_count": 36,
     "metadata": {},
     "output_type": "execute_result"
    }
   ],
   "source": [
    "s = {(1,2,3),(4,5,6,7)}\n",
    "s"
   ]
  },
  {
   "cell_type": "code",
   "execution_count": null,
   "id": "cbdbc4b6",
   "metadata": {},
   "outputs": [],
   "source": [
    "#note set inside set is not exist"
   ]
  },
  {
   "cell_type": "code",
   "execution_count": 37,
   "id": "f062c144",
   "metadata": {},
   "outputs": [
    {
     "ename": "TypeError",
     "evalue": "unhashable type: 'list'",
     "output_type": "error",
     "traceback": [
      "\u001b[1;31m---------------------------------------------------------------------------\u001b[0m",
      "\u001b[1;31mTypeError\u001b[0m                                 Traceback (most recent call last)",
      "Cell \u001b[1;32mIn[37], line 1\u001b[0m\n\u001b[1;32m----> 1\u001b[0m s \u001b[38;5;241m=\u001b[39m {[\u001b[38;5;241m1\u001b[39m,\u001b[38;5;241m2\u001b[39m,\u001b[38;5;241m3\u001b[39m],[\u001b[38;5;241m4\u001b[39m,\u001b[38;5;241m5\u001b[39m,\u001b[38;5;241m6\u001b[39m,\u001b[38;5;241m7\u001b[39m]}\n\u001b[0;32m      2\u001b[0m s\n",
      "\u001b[1;31mTypeError\u001b[0m: unhashable type: 'list'"
     ]
    }
   ],
   "source": [
    "s = {[1,2,3],[4,5,6,7]}\n",
    "s # note set inside set doesn't exist:"
   ]
  },
  {
   "cell_type": "code",
   "execution_count": null,
   "id": "abfa4b81",
   "metadata": {},
   "outputs": [],
   "source": []
  }
 ],
 "metadata": {
  "kernelspec": {
   "display_name": "Python 3 (ipykernel)",
   "language": "python",
   "name": "python3"
  },
  "language_info": {
   "codemirror_mode": {
    "name": "ipython",
    "version": 3
   },
   "file_extension": ".py",
   "mimetype": "text/x-python",
   "name": "python",
   "nbconvert_exporter": "python",
   "pygments_lexer": "ipython3",
   "version": "3.11.3"
  }
 },
 "nbformat": 4,
 "nbformat_minor": 5
}
