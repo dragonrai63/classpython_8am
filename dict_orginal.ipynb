{
 "cells": [
  {
   "cell_type": "markdown",
   "id": "05f853e5",
   "metadata": {},
   "source": [
    "dict:\n",
    "    1.indexing\n",
    "    2.ordered\n",
    "    3. muitable\n",
    "    4. note no any operation will \n",
    "    take place like +,/,*,- etc\n",
    "    5. no searching in dict.we do usally in list\n",
    "    6. for deleting use del, pop\n",
    "    7.only we are doing a key and value making"
   ]
  },
  {
   "cell_type": "code",
   "execution_count": 6,
   "id": "afe07d24",
   "metadata": {},
   "outputs": [
    {
     "name": "stdout",
     "output_type": "stream",
     "text": [
      "{'a': 'Apple', 'b': 'Ball', 'c': 'Cat'}\n",
      "Apple\n",
      "3\n"
     ]
    }
   ],
   "source": [
    "d = {'a':'Apple','b':'Ball','c':'Cat'}\n",
    "print(d)\n",
    "print(d['a'])#note put a key word only:\n",
    "print(len(d))"
   ]
  },
  {
   "cell_type": "markdown",
   "id": "8f53443d",
   "metadata": {},
   "source": [
    "# this below code print only key . it did not print value"
   ]
  },
  {
   "cell_type": "code",
   "execution_count": 8,
   "id": "92d7a5fc",
   "metadata": {},
   "outputs": [
    {
     "name": "stdout",
     "output_type": "stream",
     "text": [
      "a b c "
     ]
    }
   ],
   "source": [
    "d = {'a':'Apple','b':'Ball','c':'Cat'}\n",
    "for i in d:\n",
    "    print(i,end = \" \") # p"
   ]
  },
  {
   "cell_type": "markdown",
   "id": "de7e164f",
   "metadata": {},
   "source": [
    "# if you are only printing a value below code is used:-"
   ]
  },
  {
   "cell_type": "code",
   "execution_count": 9,
   "id": "a95ea4a2",
   "metadata": {},
   "outputs": [
    {
     "name": "stdout",
     "output_type": "stream",
     "text": [
      "Apple Ball Cat "
     ]
    }
   ],
   "source": [
    "d = {'a':'Apple','b':'Ball','c':'Cat'}\n",
    "for i in d.values():\n",
    "    print(i, end = \" \")"
   ]
  },
  {
   "cell_type": "markdown",
   "id": "a297369a",
   "metadata": {},
   "source": [
    "# how to print whole dict, keys and value same :"
   ]
  },
  {
   "cell_type": "code",
   "execution_count": 10,
   "id": "c7357dd3",
   "metadata": {},
   "outputs": [
    {
     "name": "stdout",
     "output_type": "stream",
     "text": [
      "('a', 'Apple') ('b', 'Ball') ('c', 'Cat') "
     ]
    }
   ],
   "source": [
    "d = {'a':'Apple','b':'Ball','c':'Cat'}\n",
    "for i in d.items():\n",
    "    print(i, end = \" \")# note belwo output is in tuple type"
   ]
  },
  {
   "cell_type": "markdown",
   "id": "d25035c9",
   "metadata": {},
   "source": [
    "converting the value of list insde into dic where only two element should be there\n"
   ]
  },
  {
   "cell_type": "code",
   "execution_count": 11,
   "id": "6a2f41a6",
   "metadata": {},
   "outputs": [
    {
     "data": {
      "text/plain": [
       "{'a': 'Apple', 'b': 'Ball', 'c': 'Cat'}"
      ]
     },
     "execution_count": 11,
     "metadata": {},
     "output_type": "execute_result"
    }
   ],
   "source": [
    "a = [['a', 'Apple'],['b', 'Ball'],['c', 'Cat']] #list inside list\n",
    "dict(a)"
   ]
  },
  {
   "cell_type": "code",
   "execution_count": 13,
   "id": "88636a55",
   "metadata": {},
   "outputs": [
    {
     "data": {
      "text/plain": [
       "['a', 'b', 'c']"
      ]
     },
     "execution_count": 13,
     "metadata": {},
     "output_type": "execute_result"
    }
   ],
   "source": [
    "a = {'a': 'Apple', 'b': 'Ball', 'c': 'Cat'}\n",
    "list(a)# only keys were listed so some time it does not change"
   ]
  },
  {
   "cell_type": "markdown",
   "id": "dbeb5925",
   "metadata": {},
   "source": [
    "# by adding below code we can change into "
   ]
  },
  {
   "cell_type": "code",
   "execution_count": 14,
   "id": "403a2e12",
   "metadata": {
    "scrolled": true
   },
   "outputs": [
    {
     "data": {
      "text/plain": [
       "[('a', 'Apple'), ('b', 'Ball'), ('c', 'Cat')]"
      ]
     },
     "execution_count": 14,
     "metadata": {},
     "output_type": "execute_result"
    }
   ],
   "source": [
    "a = {'a': 'Apple', 'b': 'Ball', 'c': 'Cat'}\n",
    "list(a.items())"
   ]
  },
  {
   "cell_type": "code",
   "execution_count": 15,
   "id": "e2e99171",
   "metadata": {},
   "outputs": [
    {
     "data": {
      "text/plain": [
       "list"
      ]
     },
     "execution_count": 15,
     "metadata": {},
     "output_type": "execute_result"
    }
   ],
   "source": [
    "c =[('a', 'Apple'), ('b', 'Ball'), ('c', 'Cat')]\n",
    "type(c)"
   ]
  },
  {
   "cell_type": "markdown",
   "id": "73216a58",
   "metadata": {},
   "source": [
    "# ceate a dict."
   ]
  },
  {
   "cell_type": "code",
   "execution_count": 16,
   "id": "612851b9",
   "metadata": {},
   "outputs": [
    {
     "data": {
      "text/plain": [
       "{'a': 'Apple', 'b': 'Ball', 'c': 'cat', 'd': 'Dog'}"
      ]
     },
     "execution_count": 16,
     "metadata": {},
     "output_type": "execute_result"
    }
   ],
   "source": [
    "# create\n",
    "# d = dict()\n",
    "d = {}# note emtpy dict. create\n",
    "d['a'] = 'Apple' # note we have to input key and value by \n",
    "d['b'] = 'Ball'\n",
    "d['c'] = 'cat'\n",
    "d['d'] = 'Dog'\n",
    "d\n",
    "# l = list()\n",
    "# d = dict()"
   ]
  },
  {
   "cell_type": "markdown",
   "id": "39a1d44c",
   "metadata": {},
   "source": [
    "note we have to put key and value at the same order to print dict."
   ]
  },
  {
   "cell_type": "markdown",
   "id": "9808a1ab",
   "metadata": {},
   "source": [
    "# note if we are adding the value in dict. key should be unique , if not then value will be update :which are shown below:\n"
   ]
  },
  {
   "cell_type": "code",
   "execution_count": 17,
   "id": "90eda30a",
   "metadata": {},
   "outputs": [
    {
     "data": {
      "text/plain": [
       "{'a': 'Ant', 'b': 'Ball', 'c': 'cat', 'd': 'Dog'}"
      ]
     },
     "execution_count": 17,
     "metadata": {},
     "output_type": "execute_result"
    }
   ],
   "source": [
    "a = {'a': 'Apple', 'b': 'Ball', 'c': 'cat', 'd': 'Dog'}\n",
    "a['a'] = 'Ant'\n",
    "a #note before a = apple now a= ant"
   ]
  },
  {
   "cell_type": "markdown",
   "id": "fd028743",
   "metadata": {},
   "source": [
    "# deleting value in dict{}\n",
    "note while using pop we can store value in another variable"
   ]
  },
  {
   "cell_type": "code",
   "execution_count": 18,
   "id": "9f380d0f",
   "metadata": {},
   "outputs": [
    {
     "name": "stdout",
     "output_type": "stream",
     "text": [
      "{'a': 'Apple', 'b': 'Ball', 'c': 'cat'}\n"
     ]
    }
   ],
   "source": [
    "# using del(), pop()\n",
    "a = {'a': 'Apple', 'b': 'Ball', 'c': 'cat', 'd': 'Dog'}\n",
    "del a['d']\n",
    "print(a)"
   ]
  },
  {
   "cell_type": "code",
   "execution_count": 19,
   "id": "43f17a23",
   "metadata": {},
   "outputs": [
    {
     "name": "stdout",
     "output_type": "stream",
     "text": [
      "{'a': 'Apple', 'b': 'Ball', 'c': 'cat'}\n",
      "Dog\n"
     ]
    }
   ],
   "source": [
    "a = {'a': 'Apple', 'b': 'Ball', 'c': 'cat', 'd': 'Dog'}\n",
    "b = a.pop('d')\n",
    "print(a)\n",
    "print(b)"
   ]
  },
  {
   "cell_type": "markdown",
   "id": "764a75e6",
   "metadata": {},
   "source": [
    "# simple WAP for creating a dict{}"
   ]
  },
  {
   "cell_type": "code",
   "execution_count": 1,
   "id": "82d59021",
   "metadata": {},
   "outputs": [
    {
     "name": "stdout",
     "output_type": "stream",
     "text": [
      "Enter n = 2\n",
      "Enter name = Ram\n",
      "Enter phone = 98017364835\n",
      "Enter name = Shyam\n",
      "Enter phone = 9817364835\n",
      "{'98017364835': 'Ram', '9817364835': 'Shyam'}\n"
     ]
    }
   ],
   "source": [
    "d = {}\n",
    "n = int(input('Enter n = '))\n",
    "for i in range(n):\n",
    "    name = input('Enter name = ')\n",
    "    phone = input(\"Enter phone = \")\n",
    "    d[phone] = name #note we are keeping phone are key . since name can be duplicate . so we know that key should be unique\n",
    "    \n",
    "    \n",
    "print(d)"
   ]
  },
  {
   "cell_type": "code",
   "execution_count": 2,
   "id": "f585d33b",
   "metadata": {},
   "outputs": [
    {
     "name": "stdout",
     "output_type": "stream",
     "text": [
      "Enter n = 2\n",
      "Enter name = Ram\n",
      "Enter phone = 9817364835\n",
      "Enter name = Shyam\n",
      "Enter phone = 9817264835\n",
      "{'Ram': '9817364835', 'Shyam': '9817264835'}\n"
     ]
    }
   ],
   "source": [
    "d = {}\n",
    "n = int(input('Enter n = '))\n",
    "for i in range(n):\n",
    "    name = input('Enter name = ')\n",
    "    phone = input(\"Enter phone = \")\n",
    "    d[name] = phone #note we are keeping phone are key . since name can be duplicate . so we know that key should be unique\n",
    "    \n",
    "    \n",
    "print(d)"
   ]
  },
  {
   "cell_type": "markdown",
   "id": "5f3e9c13",
   "metadata": {},
   "source": [
    "# List inside Dict{}"
   ]
  },
  {
   "cell_type": "markdown",
   "id": "7b827edb",
   "metadata": {},
   "source": [
    "#note if key has two or more value then we have to use list inside dict{}, as show below "
   ]
  },
  {
   "cell_type": "code",
   "execution_count": 3,
   "id": "9ead5e24",
   "metadata": {},
   "outputs": [
    {
     "name": "stdout",
     "output_type": "stream",
     "text": [
      "{'Ram': [9843667654, 9808778765], 'Shyam': [9843556543, 9808778765]}\n"
     ]
    }
   ],
   "source": [
    "# list inside dict\n",
    "d = {'Ram': [9843667654,9808778765], 'Shyam': [9843556543,9808778765]}\n",
    "print(d)"
   ]
  },
  {
   "cell_type": "code",
   "execution_count": 6,
   "id": "f4c0bc73",
   "metadata": {},
   "outputs": [
    {
     "name": "stdout",
     "output_type": "stream",
     "text": [
      "[9843667654, 9808778765]\n",
      "9843667654\n"
     ]
    }
   ],
   "source": [
    "print(d['Ram'])\n",
    "\n",
    "print(d['Ram'][0])# this above code are used to read the "
   ]
  },
  {
   "cell_type": "markdown",
   "id": "43c2c87a",
   "metadata": {},
   "source": [
    "# create a list inside dict{} from user"
   ]
  },
  {
   "cell_type": "code",
   "execution_count": 7,
   "id": "1ca81ad5",
   "metadata": {},
   "outputs": [
    {
     "name": "stdout",
     "output_type": "stream",
     "text": [
      "Enter n = 1\n",
      "Enter name = Ram\n",
      "Enter ntc no = 984264835\n",
      "Enter ncell no = 9817364835\n",
      "{'Ram': [984264835, 9817364835]}\n"
     ]
    }
   ],
   "source": [
    "d = {}\n",
    "n = int(input('Enter n = '))\n",
    "for i in range(n):\n",
    "    name = input('Enter name = ')\n",
    "    ntc_phone = int(input(\"Enter ntc no = \"))\n",
    "    ncell_phone = int(input(\"Enter ncell no = \"))\n",
    "    d[name] = [ntc_phone,ncell_phone]\n",
    "    \n",
    "print(d)"
   ]
  },
  {
   "cell_type": "markdown",
   "id": "455fcc2a",
   "metadata": {},
   "source": [
    "# creating the data of same name person and other in list inside dict{}"
   ]
  },
  {
   "cell_type": "code",
   "execution_count": null,
   "id": "7db95962",
   "metadata": {},
   "outputs": [],
   "source": [
    "d = {'name':['Ram','Shyam','Ram'],\n",
    "    'ntc_phone':[9856556543,9834334321,9845445321],\n",
    "    'ncell_phone':[9808778765,9808445432,9808556543]}\n",
    "d"
   ]
  },
  {
   "cell_type": "markdown",
   "id": "3722806c",
   "metadata": {},
   "source": [
    "# WAP to create where same name person can be store in program like above data. d data\n",
    "# below is immportant code in real world "
   ]
  },
  {
   "cell_type": "code",
   "execution_count": 8,
   "id": "f726d593",
   "metadata": {},
   "outputs": [
    {
     "name": "stdout",
     "output_type": "stream",
     "text": [
      "Enter n = 2\n",
      "Enter name = Ram\n",
      "Enter ntc no = 984164835\n",
      "Enter ncell no = 9817364835\n",
      "Enter name = Ram\n",
      "Enter ntc no = 984275891\n",
      "Enter ncell no = 980176865\n",
      "{'name': ['Ram', 'Ram'], 'ntc_phone': [984164835, 984275891], 'ncell_phone': [9817364835, 980176865]}\n"
     ]
    }
   ],
   "source": [
    "d = {'name':[],\n",
    "    'ntc_phone':[],\n",
    "    'ncell_phone':[]}\n",
    "n = int(input(\"Enter n = \"))\n",
    "for i in range(n):\n",
    "    name = input('Enter name = ')\n",
    "    ntc_phone = int(input(\"Enter ntc no = \"))\n",
    "    ncell_phone = int(input(\"Enter ncell no = \"))\n",
    "    d['name'].append(name)\n",
    "    d['ntc_phone'].append(ntc_phone)\n",
    "    d['ncell_phone'].append(ncell_phone)\n",
    "    \n",
    "print(d)"
   ]
  },
  {
   "cell_type": "code",
   "execution_count": 10,
   "id": "4b0afdf5",
   "metadata": {},
   "outputs": [
    {
     "name": "stdout",
     "output_type": "stream",
     "text": [
      "Enter n = 2\n",
      "Enter name = Ram \n",
      "Enter ntc no = 98410758\n",
      "Enter ncell no = 9817364835\n",
      "Enter name = Shyam\n",
      "Enter ntc no = 984256879\n",
      "Enter ncell no = 980321457\n",
      "{'name': ['Ram ', 'Shyam'], 'ntc_phone': [98410758, 984256879], 'ncell_phone': [9817364835, 980321457]}\n"
     ]
    }
   ],
   "source": [
    "d = {'name':[],\n",
    "    'ntc_phone':[],\n",
    "    'ncell_phone':[]}\n",
    "n = int(input(\"Enter n = \"))\n",
    "for i in range(n):\n",
    "    name = input('Enter name = ')\n",
    "    ntc_phone = int(input(\"Enter ntc no = \"))\n",
    "    ncell_phone = int(input(\"Enter ncell no = \"))\n",
    "    d['name'].append(name)\n",
    "    d['ntc_phone'].append(ntc_phone)\n",
    "    d['ncell_phone'].append(ncell_phone)\n",
    "    \n",
    "print(d)"
   ]
  },
  {
   "cell_type": "markdown",
   "id": "62a4e87f",
   "metadata": {},
   "source": [
    "#  if we need a ram data \"ntc nbr, ncell nbr\" which are shown below"
   ]
  },
  {
   "cell_type": "code",
   "execution_count": 11,
   "id": "6a5f93a2",
   "metadata": {},
   "outputs": [
    {
     "name": "stdout",
     "output_type": "stream",
     "text": [
      "Ram  98410758 9817364835\n"
     ]
    }
   ],
   "source": [
    "print(d['name'][0],d['ntc_phone'][0],d['ncell_phone'][0])"
   ]
  },
  {
   "cell_type": "code",
   "execution_count": null,
   "id": "0a1bef2d",
   "metadata": {},
   "outputs": [],
   "source": []
  },
  {
   "cell_type": "markdown",
   "id": "e7f064e0",
   "metadata": {},
   "source": [
    "# dict inside list"
   ]
  },
  {
   "cell_type": "code",
   "execution_count": 12,
   "id": "f7cb5356",
   "metadata": {},
   "outputs": [
    {
     "data": {
      "text/plain": [
       "[{'name': 'Ram', 'age': 34, 'add': 'Kathmandu'},\n",
       " {'name': 'Shyam', 'age': 44, 'add': 'Bhaktapur'},\n",
       " {'name': 'Hari', 'age': 54, 'add': 'Lalitpur'}]"
      ]
     },
     "execution_count": 12,
     "metadata": {},
     "output_type": "execute_result"
    }
   ],
   "source": [
    "#dict inside list\n",
    "d = [{'name':'Ram','age':34,'add':'Kathmandu'},\n",
    "    {'name':'Shyam','age':44,'add':'Bhaktapur'},\n",
    "    {'name':'Hari','age':54,'add':'Lalitpur'}]\n",
    "d #note data type is list since [] is outside"
   ]
  },
  {
   "cell_type": "code",
   "execution_count": 13,
   "id": "14ddc0ea",
   "metadata": {},
   "outputs": [
    {
     "data": {
      "text/plain": [
       "{'name': 'Hari', 'age': 54, 'add': 'Lalitpur'}"
      ]
     },
     "execution_count": 13,
     "metadata": {},
     "output_type": "execute_result"
    }
   ],
   "source": [
    "d[2]"
   ]
  },
  {
   "cell_type": "markdown",
   "id": "3453fa39",
   "metadata": {},
   "source": [
    "# how to create dict inside list:"
   ]
  },
  {
   "cell_type": "code",
   "execution_count": 15,
   "id": "cef81c24",
   "metadata": {},
   "outputs": [
    {
     "name": "stdout",
     "output_type": "stream",
     "text": [
      "Enter n = 2\n",
      "Enter name = ram\n",
      "Enter age = 34\n",
      "Enter add = kathmandu\n",
      "Enter name = Shyam\n",
      "Enter age = 35\n",
      "Enter add = lalitpur\n",
      "[{'name': 'ram', 'age': 34, 'add': 'kathmandu'}, {'name': 'Shyam', 'age': 35, 'add': 'lalitpur'}]\n",
      "{'name': 'Shyam', 'age': 35, 'add': 'lalitpur'}\n"
     ]
    }
   ],
   "source": [
    "d = []\n",
    "n = int(input(\"Enter n = \"))\n",
    "for i in range(n):\n",
    "    name = input(\"Enter name = \")\n",
    "    age = int(input('Enter age = '))\n",
    "    add = input(\"Enter add = \")\n",
    "    x = {'name': name, 'age': age, 'add': add}\n",
    "    d.append(x)\n",
    "    \n",
    "print(d) \n",
    "print(d[1])# note "
   ]
  },
  {
   "cell_type": "markdown",
   "id": "79930b1d",
   "metadata": {},
   "source": [
    "# # dict inside dict"
   ]
  },
  {
   "cell_type": "code",
   "execution_count": 17,
   "id": "7e7dfd1b",
   "metadata": {},
   "outputs": [
    {
     "name": "stdout",
     "output_type": "stream",
     "text": [
      "<class 'dict'>\n"
     ]
    },
    {
     "data": {
      "text/plain": [
       "{1: {'name': 'Ram', 'age': 34, 'add': 'Kathmandu'},\n",
       " 2: {'name': 'Shyam', 'age': 44, 'add': 'Bhaktapur'},\n",
       " 3: {'name': 'Hari', 'age': 54, 'add': 'Lalitpur'}}"
      ]
     },
     "execution_count": 17,
     "metadata": {},
     "output_type": "execute_result"
    }
   ],
   "source": [
    "d = {1:{'name': 'Ram', 'age': 34, 'add': 'Kathmandu'},\n",
    "     2:{'name': 'Shyam', 'age': 44, 'add': 'Bhaktapur'},\n",
    "     3:{'name': 'Hari', 'age': 54, 'add': 'Lalitpur'}}\n",
    "print(type(d))\n",
    "d"
   ]
  },
  {
   "cell_type": "code",
   "execution_count": 18,
   "id": "fbbfa4a5",
   "metadata": {},
   "outputs": [
    {
     "name": "stdout",
     "output_type": "stream",
     "text": [
      "{'name': 'Ram', 'age': 34, 'add': 'Kathmandu'}\n"
     ]
    }
   ],
   "source": [
    "print(d[1])"
   ]
  },
  {
   "cell_type": "markdown",
   "id": "85386550",
   "metadata": {},
   "source": [
    "# how to create dict inside dict{} from user input"
   ]
  },
  {
   "cell_type": "code",
   "execution_count": 19,
   "id": "f9d87d46",
   "metadata": {},
   "outputs": [
    {
     "name": "stdout",
     "output_type": "stream",
     "text": [
      "Enter n = 2\n",
      "Enter name = Ram\n",
      "Enter age = 34\n",
      "Enter add = kathmandu\n",
      "Enter name = Shyam\n",
      "Enter age = 40\n",
      "Enter add = lalitpur\n",
      "{1: {'name': 'Ram', 'age': 34, 'add': 'kathmandu'}, 2: {'name': 'Shyam', 'age': 40, 'add': 'lalitpur'}}\n"
     ]
    }
   ],
   "source": [
    "d = {}\n",
    "n = int(input(\"Enter n = \"))\n",
    "for i in range(1,n+1):\n",
    "    name = input(\"Enter name = \")\n",
    "    age = int(input('Enter age = '))\n",
    "    add = input(\"Enter add = \")\n",
    "    x = {'name': name, 'age': age, 'add': add}\n",
    "    d[i] = x\n",
    "    \n",
    "print(d)"
   ]
  },
  {
   "cell_type": "markdown",
   "id": "881e1385",
   "metadata": {},
   "source": [
    "# how to read the value in dict inside dict"
   ]
  },
  {
   "cell_type": "code",
   "execution_count": 22,
   "id": "500f6433",
   "metadata": {},
   "outputs": [
    {
     "name": "stdout",
     "output_type": "stream",
     "text": [
      "Ram\n",
      "40\n"
     ]
    }
   ],
   "source": [
    "print(d[1]['name'])\n",
    "print(d[2]['age'])"
   ]
  },
  {
   "cell_type": "markdown",
   "id": "b3edcdf9",
   "metadata": {},
   "source": [
    "# n ote how to update in above code\n"
   ]
  },
  {
   "cell_type": "code",
   "execution_count": null,
   "id": "c2027518",
   "metadata": {},
   "outputs": [],
   "source": [
    "d[1]['name'] = \"Ram Prasad\"\n",
    "d"
   ]
  },
  {
   "cell_type": "markdown",
   "id": "1f6098d7",
   "metadata": {},
   "source": [
    "# how to delet in this dict inside dic"
   ]
  },
  {
   "cell_type": "code",
   "execution_count": 23,
   "id": "c3d8233e",
   "metadata": {},
   "outputs": [
    {
     "data": {
      "text/plain": [
       "{2: {'name': 'Shyam', 'age': 34, 'add': 'Bhaktapur'}}"
      ]
     },
     "execution_count": 23,
     "metadata": {},
     "output_type": "execute_result"
    }
   ],
   "source": [
    "a = {1: {'name': 'Ram', 'age': 34, 'add': 'Kathmandu'}, \n",
    "     2: {'name': 'Shyam', 'age': 34, 'add': 'Bhaktapur'}}\n",
    "del a[1]\n",
    "a# note dict del is used most in dict inside dict"
   ]
  },
  {
   "cell_type": "markdown",
   "id": "8cb218b5",
   "metadata": {},
   "source": [
    "# below can be store also structure of dict ."
   ]
  },
  {
   "cell_type": "code",
   "execution_count": 24,
   "id": "aa0d5a52",
   "metadata": {},
   "outputs": [
    {
     "data": {
      "text/plain": [
       "{1: {'name': 'Ram',\n",
       "  'age': 34,\n",
       "  'add': {'per': 'Kathmandu', 'temp': 'Koteswor'}},\n",
       " 2: {'name': 'Shyam',\n",
       "  'age': 34,\n",
       "  'add': {'per': 'Kathmandu', 'temp': 'Koteswor'}}}"
      ]
     },
     "execution_count": 24,
     "metadata": {},
     "output_type": "execute_result"
    }
   ],
   "source": [
    "a = {1:{'name': 'Ram','age':34,'add': {'per':'Kathmandu','temp':\"Koteswor\"}}, \n",
    "     2: {'name':'Shyam','age':34,'add': {'per':'Kathmandu','temp':\"Koteswor\"}}}\n",
    "a"
   ]
  },
  {
   "cell_type": "code",
   "execution_count": null,
   "id": "1ef571a2",
   "metadata": {},
   "outputs": [],
   "source": []
  }
 ],
 "metadata": {
  "kernelspec": {
   "display_name": "Python 3 (ipykernel)",
   "language": "python",
   "name": "python3"
  },
  "language_info": {
   "codemirror_mode": {
    "name": "ipython",
    "version": 3
   },
   "file_extension": ".py",
   "mimetype": "text/x-python",
   "name": "python",
   "nbconvert_exporter": "python",
   "pygments_lexer": "ipython3",
   "version": "3.11.3"
  }
 },
 "nbformat": 4,
 "nbformat_minor": 5
}
