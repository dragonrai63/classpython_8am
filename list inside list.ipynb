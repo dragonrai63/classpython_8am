{
 "cells": [
  {
   "cell_type": "code",
   "execution_count": null,
   "id": "71150918",
   "metadata": {},
   "outputs": [],
   "source": [
    "a = [[1,2,3,4],\n",
    "     [4,3,6,5]]"
   ]
  },
  {
   "cell_type": "code",
   "execution_count": 1,
   "id": "69e0b006",
   "metadata": {},
   "outputs": [
    {
     "name": "stdout",
     "output_type": "stream",
     "text": [
      "<class 'list'>\n",
      "[['Ram', 34, 'Kathmandu'], ['Shyam', 45, 'Bhaktapur'], ['Hari', 34, 'Lalitpur']]\n"
     ]
    }
   ],
   "source": [
    "info = [[\"Ram\",34,\"Kathmandu\"],\n",
    "       [\"Shyam\",45,\"Bhaktapur\"],\n",
    "       [\"Hari\",34,\"Lalitpur\"]]\n",
    "print(type(info))\n",
    "print(info)"
   ]
  },
  {
   "cell_type": "markdown",
   "id": "0b25338e",
   "metadata": {},
   "source": [
    "# indexing: in list inside list:"
   ]
  },
  {
   "cell_type": "code",
   "execution_count": 4,
   "id": "19564fd1",
   "metadata": {},
   "outputs": [
    {
     "name": "stdout",
     "output_type": "stream",
     "text": [
      "['Ram', 34, 'Kathmandu']\n",
      "['Shyam', 45, 'Bhaktapur']\n",
      "['Hari', 34, 'Lalitpur']\n"
     ]
    }
   ],
   "source": [
    "print(info[0])\n",
    "print(info[1])\n",
    "print(info[2])"
   ]
  },
  {
   "cell_type": "markdown",
   "id": "cd52062a",
   "metadata": {},
   "source": [
    "# getting detail of ram age and add."
   ]
  },
  {
   "cell_type": "code",
   "execution_count": 6,
   "id": "4e5d7621",
   "metadata": {},
   "outputs": [
    {
     "name": "stdout",
     "output_type": "stream",
     "text": [
      "[34, 'Kathmandu']\n",
      "Ram\n"
     ]
    }
   ],
   "source": [
    "print(info[0][1:3])\n",
    "print(info[0][0])"
   ]
  },
  {
   "cell_type": "markdown",
   "id": "ae48a917",
   "metadata": {},
   "source": [
    "# getting detail of hari;"
   ]
  },
  {
   "cell_type": "code",
   "execution_count": 8,
   "id": "5d8780c9",
   "metadata": {},
   "outputs": [
    {
     "name": "stdout",
     "output_type": "stream",
     "text": [
      "Hari\n"
     ]
    }
   ],
   "source": [
    "print(info[2][0])"
   ]
  },
  {
   "cell_type": "markdown",
   "id": "6273fa8e",
   "metadata": {},
   "source": [
    "# creating the list inside list from user;\n"
   ]
  },
  {
   "cell_type": "code",
   "execution_count": 6,
   "id": "87e6dce2",
   "metadata": {},
   "outputs": [
    {
     "name": "stdout",
     "output_type": "stream",
     "text": [
      "Enter n = 4\n",
      "Enter name = Ram\n",
      "Enter a age = 89\n",
      "Enter a add = Kathmandu\n",
      "Enter name = Hari\n",
      "Enter a age = 87\n",
      "Enter a add = Bhaktpur\n",
      "Enter name = Shayam\n",
      "Enter a age = 80\n",
      "Enter a add = Lalitpur\n",
      "Enter name = Kiran\n",
      "Enter a age = 33\n",
      "Enter a add = Urlabari\n",
      "[['Ram', 89, 'Kathmandu'], ['Hari', 87, 'Bhaktpur'], ['Shayam', 80, 'Lalitpur'], ['Kiran', 33, 'Urlabari']]\n"
     ]
    }
   ],
   "source": [
    "info = []\n",
    "n = int(input(\"Enter n = \"))\n",
    "for i in range(n):\n",
    "    name = input(\"Enter name = \")\n",
    "    age = int(input(\"Enter a age = \"))\n",
    "    add = input(\"Enter a add = \")\n",
    "    #x = [name,age,add]\n",
    "    #info.append(x) # this can be also done\n",
    "    info.append([name,age,add])\n",
    "print(info)"
   ]
  },
  {
   "cell_type": "code",
   "execution_count": 7,
   "id": "9e8b210b",
   "metadata": {},
   "outputs": [
    {
     "name": "stdout",
     "output_type": "stream",
     "text": [
      "[['Ram', 89, 'Kathmandu'], ['Hari', 87, 'Bhaktpur'], ['Shayam', 80, 'Lalitpur'], ['Kiran', 33, 'Urlabari']]\n",
      "4\n"
     ]
    }
   ],
   "source": [
    "print(info)\n",
    "print(len(info))"
   ]
  },
  {
   "cell_type": "markdown",
   "id": "8777d106",
   "metadata": {},
   "source": [
    "# read"
   ]
  },
  {
   "cell_type": "code",
   "execution_count": 8,
   "id": "bb771cbb",
   "metadata": {},
   "outputs": [
    {
     "name": "stdout",
     "output_type": "stream",
     "text": [
      "['Ram', 89, 'Kathmandu']\n",
      "['Hari', 87, 'Bhaktpur']\n",
      "['Shayam', 80, 'Lalitpur']\n",
      "['Kiran', 33, 'Urlabari']\n"
     ]
    }
   ],
   "source": [
    "for i in info:\n",
    "    print(i)"
   ]
  },
  {
   "cell_type": "markdown",
   "id": "4014ee48",
   "metadata": {},
   "source": [
    "# search a Ram only in info variable"
   ]
  },
  {
   "cell_type": "code",
   "execution_count": 9,
   "id": "c7909b9f",
   "metadata": {},
   "outputs": [
    {
     "name": "stdout",
     "output_type": "stream",
     "text": [
      "Enter name = Ram\n",
      "['Ram', 89, 'Kathmandu']\n"
     ]
    }
   ],
   "source": [
    "\n",
    "name = input(\"Enter name = \")\n",
    "for i in info:\n",
    "    if name in i :\n",
    "        print(i)"
   ]
  },
  {
   "cell_type": "markdown",
   "id": "85d53db1",
   "metadata": {},
   "source": [
    "finding the info data where age = 80/ given age data in below"
   ]
  },
  {
   "cell_type": "code",
   "execution_count": 10,
   "id": "20e108bd",
   "metadata": {},
   "outputs": [
    {
     "name": "stdout",
     "output_type": "stream",
     "text": [
      "Enter a age = 80\n",
      "['Ram', 89, 'Kathmandu']\n",
      "['Hari', 87, 'Bhaktpur']\n",
      "['Shayam', 80, 'Lalitpur']\n"
     ]
    }
   ],
   "source": [
    "age= int(input(\"Enter a age = \"))\n",
    "for i in info:\n",
    "    if i[1]>=age:\n",
    "        print(i) # note user should alwasy keep the age in 1 index. \n",
    "        # WE ARE doing i[1]"
   ]
  },
  {
   "cell_type": "markdown",
   "id": "d4a3e8a2",
   "metadata": {},
   "source": [
    "# makeing program case insencitive "
   ]
  },
  {
   "cell_type": "code",
   "execution_count": 14,
   "id": "cea5bf6c",
   "metadata": {},
   "outputs": [
    {
     "name": "stdout",
     "output_type": "stream",
     "text": [
      "Enter name = ram\n",
      "['Ram', 89, 'Kathmandu']\n"
     ]
    }
   ],
   "source": [
    "name = input(\"Enter name = \")\n",
    "for i in info:\n",
    "    \n",
    "    if name.lower() == i[0].lower():\n",
    "        print(i)"
   ]
  },
  {
   "cell_type": "code",
   "execution_count": 19,
   "id": "dddda2d5",
   "metadata": {},
   "outputs": [
    {
     "name": "stdout",
     "output_type": "stream",
     "text": [
      "Enter name = ram\n",
      "Enter name = ram\n",
      "['Ram', 89, 'Kathmandu']\n"
     ]
    }
   ],
   "source": [
    "#case sensitive\n",
    "\n",
    "name = input(\"Enter name = \")\n",
    "for i in info:\n",
    "    if name in i :\n",
    "        print(i)\n",
    "        \n",
    "        \n",
    "        \n",
    "#no any case sencitive\n",
    "name = input(\"Enter name = \")\n",
    "for i in info:\n",
    "    \n",
    "    if name.lower() == i[0].lower():\n",
    "        print(i)\n",
    "        "
   ]
  },
  {
   "cell_type": "code",
   "execution_count": null,
   "id": "b9d068ea",
   "metadata": {},
   "outputs": [],
   "source": []
  },
  {
   "cell_type": "markdown",
   "id": "ad1f9dac",
   "metadata": {},
   "source": [
    "# for address without case sensitive"
   ]
  },
  {
   "cell_type": "code",
   "execution_count": 20,
   "id": "b8162408",
   "metadata": {},
   "outputs": [
    {
     "name": "stdout",
     "output_type": "stream",
     "text": [
      "Enter add = Kathmandu\n",
      "['Ram', 89, 'Kathmandu']\n",
      "Enter add = kathmandu\n",
      "['Ram', 89, 'Kathmandu']\n"
     ]
    }
   ],
   "source": [
    "#case sensitive WAP\n",
    "add = input(\"Enter add = \")\n",
    "for i in info:\n",
    "    if add in i :\n",
    "        print(i)\n",
    "\n",
    "## no any case sensitive\n",
    "#below Program\n",
    "add = input(\"Enter add = \")\n",
    "for i in info:\n",
    "    \n",
    "    if add.lower() == i[2].lower():\n",
    "        print(i)"
   ]
  },
  {
   "cell_type": "markdown",
   "id": "13577672",
   "metadata": {},
   "source": [
    "# updating a data in list inside list"
   ]
  },
  {
   "cell_type": "code",
   "execution_count": 21,
   "id": "0ce3101b",
   "metadata": {},
   "outputs": [
    {
     "data": {
      "text/plain": [
       "['Ram', 89, 'Kathmandu']"
      ]
     },
     "execution_count": 21,
     "metadata": {},
     "output_type": "execute_result"
    }
   ],
   "source": [
    "info[0]"
   ]
  },
  {
   "cell_type": "code",
   "execution_count": 23,
   "id": "eebe8bb6",
   "metadata": {},
   "outputs": [
    {
     "data": {
      "text/plain": [
       "['ram', 34, 'Kathmandu']"
      ]
     },
     "execution_count": 23,
     "metadata": {},
     "output_type": "execute_result"
    }
   ],
   "source": [
    "info[0]=['ram',34,'Kathmandu']\n",
    "info[0]"
   ]
  },
  {
   "cell_type": "code",
   "execution_count": 25,
   "id": "0195cd36",
   "metadata": {},
   "outputs": [
    {
     "data": {
      "text/plain": [
       "['RaM', 34, 'Kathmandu']"
      ]
     },
     "execution_count": 25,
     "metadata": {},
     "output_type": "execute_result"
    }
   ],
   "source": [
    "info[0][0]= 'RaM'\n",
    "info[0]# changing the value of list inside list"
   ]
  },
  {
   "cell_type": "markdown",
   "id": "b9ce70c1",
   "metadata": {},
   "source": [
    "# deleting in list inside list"
   ]
  },
  {
   "cell_type": "code",
   "execution_count": 26,
   "id": "c56db566",
   "metadata": {},
   "outputs": [],
   "source": [
    "#remove\n",
    "#del"
   ]
  },
  {
   "cell_type": "code",
   "execution_count": 30,
   "id": "cfd0b0b0",
   "metadata": {},
   "outputs": [
    {
     "name": "stdout",
     "output_type": "stream",
     "text": [
      "[['Shayam', 80, 'Lalitpur'], ['Kiran', 33, 'Urlabari']]\n"
     ]
    }
   ],
   "source": [
    "del info[0]\n",
    "print(info) # don't do again gain\n",
    "#note do run again again so it will delet value"
   ]
  },
  {
   "cell_type": "code",
   "execution_count": 32,
   "id": "f368173d",
   "metadata": {},
   "outputs": [],
   "source": [
    "info= [['Ram', 89, 'Kathmandu'],\n",
    "['Hari', 87, 'Bhaktpur'],\n",
    "['Shayam', 80, 'Lalitpur'],\n",
    "['Kiran', 33, 'Urlabari']]"
   ]
  },
  {
   "cell_type": "markdown",
   "id": "73893ad9",
   "metadata": {},
   "source": [
    "#Remove"
   ]
  },
  {
   "cell_type": "code",
   "execution_count": 33,
   "id": "7f6d89ce",
   "metadata": {},
   "outputs": [
    {
     "data": {
      "text/plain": [
       "[['Hari', 87, 'Bhaktpur'],\n",
       " ['Shayam', 80, 'Lalitpur'],\n",
       " ['Kiran', 33, 'Urlabari']]"
      ]
     },
     "execution_count": 33,
     "metadata": {},
     "output_type": "execute_result"
    }
   ],
   "source": [
    "info.remove(['Ram', 89, 'Kathmandu'])\n",
    "info\n",
    "# we have to copy whole element in remove "
   ]
  },
  {
   "cell_type": "code",
   "execution_count": 39,
   "id": "6e4f63cf",
   "metadata": {},
   "outputs": [],
   "source": [
    "info= [['Ram', 89, 'Kathmandu'],\n",
    "['Hari', 87, 'Bhaktpur'],\n",
    "['Shayam', 80, 'Lalitpur'],\n",
    "['Ram', 33, 'Urlabari']]"
   ]
  },
  {
   "cell_type": "code",
   "execution_count": null,
   "id": "3ff403d7",
   "metadata": {},
   "outputs": [],
   "source": [
    "#removeing both value"
   ]
  },
  {
   "cell_type": "code",
   "execution_count": 41,
   "id": "242f382a",
   "metadata": {},
   "outputs": [
    {
     "name": "stdout",
     "output_type": "stream",
     "text": [
      "Enter name = hari\n",
      "[['Shayam', 80, 'Lalitpur']]\n"
     ]
    }
   ],
   "source": [
    "name = input(\"Enter name = \")\n",
    "for i in info:\n",
    "    \n",
    "    if name.lower() == i[0].lower():\n",
    "        info.remove(i)\n",
    "print(info)"
   ]
  },
  {
   "cell_type": "code",
   "execution_count": 37,
   "id": "d31460f4",
   "metadata": {},
   "outputs": [
    {
     "data": {
      "text/plain": [
       "[['Hari', 87, 'Bhaktpur'],\n",
       " ['Shayam', 80, 'Lalitpur'],\n",
       " ['Kiran', 33, 'Urlabari']]"
      ]
     },
     "execution_count": 37,
     "metadata": {},
     "output_type": "execute_result"
    }
   ],
   "source": [
    "info\n"
   ]
  },
  {
   "cell_type": "code",
   "execution_count": null,
   "id": "e66d91b0",
   "metadata": {},
   "outputs": [],
   "source": []
  },
  {
   "cell_type": "markdown",
   "id": "a416d916",
   "metadata": {},
   "source": [
    "#WAP\n",
    "1. create a list from user\n",
    " crud \n",
    "c = create\n",
    "r= read\n",
    "u = update\n",
    "d = delet\n",
    "adding UI can make a software"
   ]
  },
  {
   "cell_type": "markdown",
   "id": "33d7a597",
   "metadata": {},
   "source": [
    "# updating in a bulk"
   ]
  },
  {
   "cell_type": "markdown",
   "id": "4c2701bb",
   "metadata": {},
   "source": [
    "# WAP to increase the salary by 5% and updating the list below:"
   ]
  },
  {
   "cell_type": "code",
   "execution_count": 43,
   "id": "ea5a6b5c",
   "metadata": {},
   "outputs": [
    {
     "data": {
      "text/plain": [
       "['Ram', 33, 'Urlabari', 65000]"
      ]
     },
     "execution_count": 43,
     "metadata": {},
     "output_type": "execute_result"
    }
   ],
   "source": [
    "info= [['Ram', 89, 'Kathmandu',50000],\n",
    "['Hari', 87, 'Bhaktpur',60000],\n",
    "['Shayam', 80, 'Lalitpur',40000],\n",
    "['Ram', 33, 'Urlabari',65000]]\n",
    "\n"
   ]
  },
  {
   "cell_type": "code",
   "execution_count": 50,
   "id": "1a6c4045",
   "metadata": {},
   "outputs": [
    {
     "name": "stdout",
     "output_type": "stream",
     "text": [
      "55125.0\n",
      "66150.0\n",
      "44100.0\n",
      "71662.5\n",
      "['Ram', 89, 'Kathmandu', 55125.0]\n",
      "['Hari', 87, 'Bhaktpur', 66150.0]\n",
      "['Shayam', 80, 'Lalitpur', 44100.0]\n",
      "['Ram', 33, 'Urlabari', 71662.5]\n"
     ]
    }
   ],
   "source": [
    "for person in info:\n",
    "    person[3] *= 1.05 \n",
    "    print(person[3])\n",
    "for data in info:\n",
    "    print(data)"
   ]
  },
  {
   "cell_type": "markdown",
   "id": "e95e7259",
   "metadata": {},
   "source": [
    "# checking the value in bulk"
   ]
  },
  {
   "cell_type": "code",
   "execution_count": 48,
   "id": "ece35188",
   "metadata": {
    "collapsed": true
   },
   "outputs": [
    {
     "name": "stdout",
     "output_type": "stream",
     "text": [
      "50000\n",
      "60000\n",
      "40000\n",
      "65000\n",
      "\n",
      "Ram\n",
      "Hari\n",
      "Shayam\n",
      "Ram\n",
      "\n",
      "89\n",
      "87\n",
      "80\n",
      "33\n",
      "\n",
      "Kathmandu\n",
      "Bhaktpur\n",
      "Lalitpur\n",
      "Urlabari\n"
     ]
    }
   ],
   "source": [
    "for salary in info:\n",
    "    print(salary[3])\n",
    "print()\n",
    "for name in info:\n",
    "    print(name[0])\n",
    "print()\n",
    "for age in info:\n",
    "    print(age[1])\n",
    "print()\n",
    "for add in info:\n",
    "    print(add[2])"
   ]
  },
  {
   "cell_type": "code",
   "execution_count": null,
   "id": "d75173c6",
   "metadata": {},
   "outputs": [],
   "source": [
    "\n",
    "for salary in info:\n",
    "    print(salary[3])"
   ]
  }
 ],
 "metadata": {
  "kernelspec": {
   "display_name": "Python 3 (ipykernel)",
   "language": "python",
   "name": "python3"
  },
  "language_info": {
   "codemirror_mode": {
    "name": "ipython",
    "version": 3
   },
   "file_extension": ".py",
   "mimetype": "text/x-python",
   "name": "python",
   "nbconvert_exporter": "python",
   "pygments_lexer": "ipython3",
   "version": "3.11.3"
  }
 },
 "nbformat": 4,
 "nbformat_minor": 5
}
