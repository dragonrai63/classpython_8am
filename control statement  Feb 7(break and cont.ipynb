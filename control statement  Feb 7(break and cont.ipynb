{
 "cells": [
  {
   "cell_type": "markdown",
   "id": "d81df9a0",
   "metadata": {},
   "source": [
    "# control statement\n"
   ]
  },
  {
   "cell_type": "markdown",
   "id": "a20c8020",
   "metadata": {},
   "source": [
    "# break statment\n",
    "#continue statment\n",
    "#pass statment\n"
   ]
  },
  {
   "cell_type": "code",
   "execution_count": 1,
   "id": "0b488014",
   "metadata": {},
   "outputs": [
    {
     "name": "stdout",
     "output_type": "stream",
     "text": [
      "0\n",
      "1\n",
      "2\n",
      "3\n",
      "4\n"
     ]
    }
   ],
   "source": [
    "for i in range(5):\n",
    "    print(i)"
   ]
  },
  {
   "cell_type": "markdown",
   "id": "b25fac41",
   "metadata": {},
   "source": [
    "# break statement\n"
   ]
  },
  {
   "cell_type": "code",
   "execution_count": 1,
   "id": "a57f3828",
   "metadata": {},
   "outputs": [
    {
     "name": "stdout",
     "output_type": "stream",
     "text": [
      "0\n",
      "1\n"
     ]
    }
   ],
   "source": [
    "for i in range(5):\n",
    "    if i == 2:\n",
    "        break # this will stop the loop \n",
    "    print(i)"
   ]
  },
  {
   "cell_type": "markdown",
   "id": "cd604470",
   "metadata": {},
   "source": [
    "# continue statement"
   ]
  },
  {
   "cell_type": "code",
   "execution_count": 19,
   "id": "771ca0fd",
   "metadata": {},
   "outputs": [
    {
     "name": "stdout",
     "output_type": "stream",
     "text": [
      "0 1 2 3 4 6 7 8 9 "
     ]
    }
   ],
   "source": [
    "for i in range(10):\n",
    "    if i ==5:\n",
    "           continue # skip to next loop\n",
    "           \n",
    "    print(i,end=\" \")"
   ]
  },
  {
   "cell_type": "markdown",
   "id": "71d2f886",
   "metadata": {},
   "source": [
    "Break Statment in String:-"
   ]
  },
  {
   "cell_type": "code",
   "execution_count": 20,
   "id": "7f307582",
   "metadata": {},
   "outputs": [
    {
     "name": "stdout",
     "output_type": "stream",
     "text": [
      "h e l l o "
     ]
    }
   ],
   "source": [
    "a = \"hello world\"\n",
    "for i in a:\n",
    "    if i == \" \":\n",
    "        break # after space the break will be their with break statment\n",
    "    print(i,end= \" \")"
   ]
  },
  {
   "cell_type": "code",
   "execution_count": 22,
   "id": "a29e31d2",
   "metadata": {},
   "outputs": [
    {
     "name": "stdout",
     "output_type": "stream",
     "text": [
      "hari is good boy"
     ]
    }
   ],
   "source": [
    "a = \"hari is good boy. ram is good boy. kiran is also good boy\"\n",
    "for i in a:\n",
    "    if i == \".\":\n",
    "        break# this will stop the value after . as condition in if \n",
    "    print(i, end = \"\")\n",
    "print()\n"
   ]
  },
  {
   "cell_type": "markdown",
   "id": "9be5b102",
   "metadata": {},
   "source": [
    "# pass statment :"
   ]
  },
  {
   "cell_type": "code",
   "execution_count": 1,
   "id": "fb38f537",
   "metadata": {},
   "outputs": [],
   "source": [
    "a = 2\n",
    "if a == 2:\n",
    "    pass # just like hold it will hold the if statment"
   ]
  },
  {
   "cell_type": "markdown",
   "id": "a9eed7ab",
   "metadata": {},
   "source": [
    "# for else loop:\n"
   ]
  },
  {
   "cell_type": "code",
   "execution_count": 2,
   "id": "927895ea",
   "metadata": {},
   "outputs": [],
   "source": [
    "# prime number :- 2,3,5,7,11,13,17\n",
    "# composite :- 4.6.8.9.10.12.14.15"
   ]
  },
  {
   "cell_type": "markdown",
   "id": "170be79a",
   "metadata": {},
   "source": [
    "checking the prime or composite number :-"
   ]
  },
  {
   "cell_type": "code",
   "execution_count": 15,
   "id": "9f8f3446",
   "metadata": {},
   "outputs": [
    {
     "name": "stdout",
     "output_type": "stream",
     "text": [
      "enter any number = 2\n",
      "The value of n >2 \n"
     ]
    }
   ],
   "source": [
    "n = int (input(\"enter any number = \"))\n",
    "if n > 2:\n",
    "    for i in range(2,n):\n",
    "        if n %i ==0:\n",
    "            print(\"This number is composite!\")\n",
    "            break\n",
    "    else:\n",
    "        print(\"The number is prime!\")\n",
    "else:\n",
    "    print(\"The value of n >2 \")"
   ]
  },
  {
   "cell_type": "code",
   "execution_count": null,
   "id": "46a70b4c",
   "metadata": {},
   "outputs": [],
   "source": []
  },
  {
   "cell_type": "code",
   "execution_count": null,
   "id": "15214bd0",
   "metadata": {},
   "outputs": [],
   "source": []
  }
 ],
 "metadata": {
  "kernelspec": {
   "display_name": "Python 3 (ipykernel)",
   "language": "python",
   "name": "python3"
  },
  "language_info": {
   "codemirror_mode": {
    "name": "ipython",
    "version": 3
   },
   "file_extension": ".py",
   "mimetype": "text/x-python",
   "name": "python",
   "nbconvert_exporter": "python",
   "pygments_lexer": "ipython3",
   "version": "3.11.3"
  }
 },
 "nbformat": 4,
 "nbformat_minor": 5
}
