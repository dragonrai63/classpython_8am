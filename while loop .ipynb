{
 "cells": [
  {
   "cell_type": "code",
   "execution_count": null,
   "id": "84ab2813",
   "metadata": {},
   "outputs": [],
   "source": [
    "# while loop\n",
    "#while True:\n",
    "    print(\"Hello world\") # this will run infinite time"
   ]
  },
  {
   "cell_type": "markdown",
   "id": "f3fb639b",
   "metadata": {},
   "source": [
    "while loop can be customisez by user "
   ]
  },
  {
   "cell_type": "code",
   "execution_count": null,
   "id": "12be2f6c",
   "metadata": {},
   "outputs": [],
   "source": [
    "a = 0\n",
    "while a<5:\n",
    "    print(a,\"hello world\")\n",
    "    \n",
    "#    a = a + 1\n",
    "    a+= 1"
   ]
  },
  {
   "cell_type": "markdown",
   "id": "434a0adf",
   "metadata": {},
   "source": [
    "#note how many time does the loop run in above while loop. we can say loop can be run many time time as user required , it depend in increament or decrement of conditon"
   ]
  },
  {
   "cell_type": "code",
   "execution_count": null,
   "id": "3031d089",
   "metadata": {},
   "outputs": [],
   "source": [
    "a = 5\n",
    "while a>=0:\n",
    "    print(a,\"hello world\")\n",
    "    \n",
    "#    a = a + 1\n",
    "    #a+= 1 if we do this it goes on \n",
    "    a-=1"
   ]
  },
  {
   "cell_type": "markdown",
   "id": "a96910e3",
   "metadata": {},
   "source": [
    "calculation by while loop"
   ]
  },
  {
   "cell_type": "code",
   "execution_count": null,
   "id": "da31378a",
   "metadata": {},
   "outputs": [],
   "source": [
    "i = 1 # initial point\n",
    "a =  int(input(\"Enter the value to valculate = \"))\n",
    "while i<=10:\n",
    "    print(a,\"*\",i,\"=\",i*a)\n",
    "    i = i + 1\n"
   ]
  },
  {
   "cell_type": "markdown",
   "id": "22a755cb",
   "metadata": {},
   "source": [
    "calculation of total"
   ]
  },
  {
   "cell_type": "code",
   "execution_count": null,
   "id": "c76bdaa2",
   "metadata": {},
   "outputs": [],
   "source": [
    "i = 0\n",
    "s = 0\n",
    "while i <5:\n",
    "    a = int(input(\"Enter the value = \"))\n",
    "    s = s + a\n",
    "    i = i +1\n",
    "print(s)"
   ]
  },
  {
   "cell_type": "markdown",
   "id": "be9d48cb",
   "metadata": {},
   "source": [
    "# billing in while loop:-\n"
   ]
  },
  {
   "cell_type": "code",
   "execution_count": null,
   "id": "ded068a7",
   "metadata": {},
   "outputs": [],
   "source": [
    "i = 0\n",
    "bill = \"\"# note we can also write str()\n",
    "all_total = 0\n",
    "n = int(input(\"Enter how many iteam do you bought\"))\n",
    "while i<n:\n",
    "    name = input(\"Enter the  name = \")\n",
    "    price = int(input(\"Enter the price =\"))\n",
    "    qty = float(input(\"Enter qty = \"))\n",
    "    total = price * qty\n",
    "    bill = bill+name+\" \"+str(price)+\" \"+str(qty)+\" \"+str(total)+\"\\n\"\n",
    "    all_total = all_total + total\n",
    "    i = i +1\n",
    "print(bill)\n",
    "print(\"Total price is =\",all_total)"
   ]
  },
  {
   "cell_type": "code",
   "execution_count": null,
   "id": "f3ed7801",
   "metadata": {},
   "outputs": [],
   "source": [
    "# # for i value = 0 , look if the range is there then we have to give i = 0\n",
    "# # all code are same in while loop \n",
    "# 1. check starting point that is i = ?\n",
    "# 2. while conditon:\n",
    "#     3. increment point"
   ]
  },
  {
   "cell_type": "markdown",
   "id": "6f2f4d58",
   "metadata": {},
   "source": [
    "# using break and continue statment in while loop>\n"
   ]
  },
  {
   "cell_type": "code",
   "execution_count": null,
   "id": "56062956",
   "metadata": {},
   "outputs": [],
   "source": [
    "for i in range(10):\n",
    "    if i ==5:\n",
    "           continue # skip to next loop\n",
    "           \n",
    "    print(i,end=\" \")"
   ]
  },
  {
   "cell_type": "code",
   "execution_count": 4,
   "id": "447d3a07",
   "metadata": {},
   "outputs": [
    {
     "name": "stdout",
     "output_type": "stream",
     "text": [
      "0 1 2 3 4 6 7 8 9 "
     ]
    }
   ],
   "source": [
    "i = 0\n",
    "while i <10:\n",
    "    if i ==5:\n",
    "            i = i +1           #  We need to ensure that the loop counter (i) \n",
    "                                #gets incremented within the loop, regardless of whether \n",
    "                        #we continue to the next iteration or not. Here's the corrected version:\n",
    "            continue # skip to next loop\n",
    "           \n",
    "    print(i,end=\" \")\n",
    "    i = i +1"
   ]
  },
  {
   "cell_type": "code",
   "execution_count": 11,
   "id": "4248c887",
   "metadata": {},
   "outputs": [
    {
     "name": "stdout",
     "output_type": "stream",
     "text": [
      "1 2 3 4 5 "
     ]
    }
   ],
   "source": [
    "i = 0\n",
    "while i <10:\n",
    "    if i == 5:\n",
    "        break \n",
    "        \n",
    "    i = i +1\n",
    "    print(i, end = \" \")"
   ]
  },
  {
   "cell_type": "code",
   "execution_count": null,
   "id": "cba37ddd",
   "metadata": {},
   "outputs": [],
   "source": [
    "i = 0\n",
    "while i <10:\n",
    "    if i ==5:\n",
    "            continue # \n",
    "    Print(i)\n",
    "    i = i + 1# note this will run continueslly"
   ]
  },
  {
   "cell_type": "markdown",
   "id": "50ea500a",
   "metadata": {},
   "source": [
    "#  while working with continue in while loop we have to give increment in two line. in if stament also as well as below also to increase the value ."
   ]
  },
  {
   "cell_type": "code",
   "execution_count": null,
   "id": "3e083c57",
   "metadata": {},
   "outputs": [],
   "source": []
  }
 ],
 "metadata": {
  "kernelspec": {
   "display_name": "Python 3 (ipykernel)",
   "language": "python",
   "name": "python3"
  },
  "language_info": {
   "codemirror_mode": {
    "name": "ipython",
    "version": 3
   },
   "file_extension": ".py",
   "mimetype": "text/x-python",
   "name": "python",
   "nbconvert_exporter": "python",
   "pygments_lexer": "ipython3",
   "version": "3.12.2"
  }
 },
 "nbformat": 4,
 "nbformat_minor": 5
}
