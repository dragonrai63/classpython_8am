{
 "cells": [
  {
   "cell_type": "markdown",
   "id": "05ae18f3",
   "metadata": {},
   "source": [
    "# file handling\n",
    "1.how to read\n",
    "2..txt\n",
    "3. .csv extension"
   ]
  },
  {
   "cell_type": "code",
   "execution_count": 1,
   "id": "c3790830",
   "metadata": {},
   "outputs": [],
   "source": [
    "# file = open('<file location>)','<mode>') #to open\n",
    "# <operation>\n",
    "# file.close() # we have to use this to closed file also"
   ]
  },
  {
   "cell_type": "code",
   "execution_count": 2,
   "id": "9a639b60",
   "metadata": {},
   "outputs": [],
   "source": [
    "# with open ('<file_name>'.'mode') as file: # no need to closed\n",
    "#     <operation>"
   ]
  },
  {
   "cell_type": "code",
   "execution_count": 3,
   "id": "1a9045a2",
   "metadata": {},
   "outputs": [],
   "source": [
    "# #mode are below :-\n",
    "# read -> r # mode 'r' to read\n",
    "# write -> w use 'w  to write\n",
    "# create -> x 'x'mode to create\n",
    "# append -> a''"
   ]
  },
  {
   "cell_type": "markdown",
   "id": "0ec54f15",
   "metadata": {},
   "source": [
    "# how to create file , is below :-"
   ]
  },
  {
   "cell_type": "markdown",
   "id": "cdc18e60",
   "metadata": {},
   "source": [
    "#if we have one mode used , then we have to closed this then only next mode can be work"
   ]
  },
  {
   "cell_type": "code",
   "execution_count": 5,
   "id": "fa970752",
   "metadata": {
    "collapsed": true
   },
   "outputs": [
    {
     "ename": "FileExistsError",
     "evalue": "[Errno 17] File exists: 'data.txt'",
     "output_type": "error",
     "traceback": [
      "\u001b[1;31m---------------------------------------------------------------------------\u001b[0m",
      "\u001b[1;31mFileExistsError\u001b[0m                           Traceback (most recent call last)",
      "Cell \u001b[1;32mIn[5], line 1\u001b[0m\n\u001b[1;32m----> 1\u001b[0m file \u001b[38;5;241m=\u001b[39m \u001b[38;5;28;43mopen\u001b[39;49m\u001b[43m(\u001b[49m\u001b[38;5;124;43m'\u001b[39;49m\u001b[38;5;124;43mdata.txt\u001b[39;49m\u001b[38;5;124;43m'\u001b[39;49m\u001b[43m,\u001b[49m\u001b[38;5;124;43m'\u001b[39;49m\u001b[38;5;124;43mx\u001b[39;49m\u001b[38;5;124;43m'\u001b[39;49m\u001b[43m)\u001b[49m \u001b[38;5;66;03m# we creat data.txt file see in python jupyter\u001b[39;00m\n\u001b[0;32m      2\u001b[0m file\u001b[38;5;241m.\u001b[39mclose()\n",
      "File \u001b[1;32m~\\AppData\\Local\\Programs\\Python\\Python311\\Lib\\site-packages\\IPython\\core\\interactiveshell.py:284\u001b[0m, in \u001b[0;36m_modified_open\u001b[1;34m(file, *args, **kwargs)\u001b[0m\n\u001b[0;32m    277\u001b[0m \u001b[38;5;28;01mif\u001b[39;00m file \u001b[38;5;129;01min\u001b[39;00m {\u001b[38;5;241m0\u001b[39m, \u001b[38;5;241m1\u001b[39m, \u001b[38;5;241m2\u001b[39m}:\n\u001b[0;32m    278\u001b[0m     \u001b[38;5;28;01mraise\u001b[39;00m \u001b[38;5;167;01mValueError\u001b[39;00m(\n\u001b[0;32m    279\u001b[0m         \u001b[38;5;124mf\u001b[39m\u001b[38;5;124m\"\u001b[39m\u001b[38;5;124mIPython won\u001b[39m\u001b[38;5;124m'\u001b[39m\u001b[38;5;124mt let you open fd=\u001b[39m\u001b[38;5;132;01m{\u001b[39;00mfile\u001b[38;5;132;01m}\u001b[39;00m\u001b[38;5;124m by default \u001b[39m\u001b[38;5;124m\"\u001b[39m\n\u001b[0;32m    280\u001b[0m         \u001b[38;5;124m\"\u001b[39m\u001b[38;5;124mas it is likely to crash IPython. If you know what you are doing, \u001b[39m\u001b[38;5;124m\"\u001b[39m\n\u001b[0;32m    281\u001b[0m         \u001b[38;5;124m\"\u001b[39m\u001b[38;5;124myou can use builtins\u001b[39m\u001b[38;5;124m'\u001b[39m\u001b[38;5;124m open.\u001b[39m\u001b[38;5;124m\"\u001b[39m\n\u001b[0;32m    282\u001b[0m     )\n\u001b[1;32m--> 284\u001b[0m \u001b[38;5;28;01mreturn\u001b[39;00m \u001b[43mio_open\u001b[49m\u001b[43m(\u001b[49m\u001b[43mfile\u001b[49m\u001b[43m,\u001b[49m\u001b[43m \u001b[49m\u001b[38;5;241;43m*\u001b[39;49m\u001b[43margs\u001b[49m\u001b[43m,\u001b[49m\u001b[43m \u001b[49m\u001b[38;5;241;43m*\u001b[39;49m\u001b[38;5;241;43m*\u001b[39;49m\u001b[43mkwargs\u001b[49m\u001b[43m)\u001b[49m\n",
      "\u001b[1;31mFileExistsError\u001b[0m: [Errno 17] File exists: 'data.txt'"
     ]
    }
   ],
   "source": [
    "file = open('data.txt','x') # we creat data.txt file see in python jupyter\n",
    "file.close()"
   ]
  },
  {
   "cell_type": "markdown",
   "id": "4b0dee80",
   "metadata": {},
   "source": [
    "# how to read"
   ]
  },
  {
   "cell_type": "markdown",
   "id": "0b91207d",
   "metadata": {},
   "source": [
    "all the value will be in string\n",
    "1."
   ]
  },
  {
   "cell_type": "code",
   "execution_count": 6,
   "id": "d7da480d",
   "metadata": {},
   "outputs": [
    {
     "name": "stdout",
     "output_type": "stream",
     "text": [
      "1. Hello world\n",
      "2. Hello world\n",
      "3. Hello world\n",
      "4. Hello world\n",
      "5. Hello world\n"
     ]
    }
   ],
   "source": [
    "file = open('data.txt','r')\n",
    "x = file.read()\n",
    "print(x)\n",
    "file.close()"
   ]
  },
  {
   "cell_type": "code",
   "execution_count": 7,
   "id": "594328c0",
   "metadata": {},
   "outputs": [
    {
     "name": "stdout",
     "output_type": "stream",
     "text": [
      "['1. Hello world', '2. Hello world', '3. Hello world', '4. Hello world', '5. Hello world']\n",
      "1. Hello world\n",
      "5. Hello world\n"
     ]
    }
   ],
   "source": [
    "x.split('\\n') # note all data will be in list so we can read it by indexing \n",
    "b = x.split('\\n')\n",
    "print(b)\n",
    "print(b[0])\n",
    "print(b[4])\n"
   ]
  },
  {
   "cell_type": "markdown",
   "id": "4330b4e9",
   "metadata": {},
   "source": [
    "# note in txt file when we press enter then next line will come . but if the word are long then it will display in below which is not called second line . if we have to create line 2 , we have to press enter button."
   ]
  },
  {
   "cell_type": "markdown",
   "id": "325b7a54",
   "metadata": {},
   "source": [
    "# write in the file:-\n",
    "# note in write mode, if we give file name, which has been saved then it will delet the data and add new operation data.\n",
    "# but if we give new file name which we don't have then it will create and print the data wihch are in operation.\n",
    "#note onnly support string variable"
   ]
  },
  {
   "cell_type": "code",
   "execution_count": 8,
   "id": "b3906c89",
   "metadata": {},
   "outputs": [],
   "source": [
    "#write\n",
    "#2.\n",
    "file =  open('data1.txt','w')\n",
    "file.write('Hello world')\n",
    "file.close()\n"
   ]
  },
  {
   "cell_type": "code",
   "execution_count": 40,
   "id": "9d20780e",
   "metadata": {},
   "outputs": [
    {
     "name": "stdout",
     "output_type": "stream",
     "text": [
      "Enter how many iteam do you bought2\n",
      "Enter the  name = apple\n",
      "Enter the price =320\n",
      "Enter qty = 2.5\n",
      "Enter the  name = ice cream \n",
      "Enter the price =170\n",
      "Enter qty = 2\n",
      "apple\t 320\t 2.5\t 800.0\t \n",
      "ice cream \t 170\t 2.0\t 340.0\t \n",
      "\n"
     ]
    }
   ],
   "source": [
    "# name, price qty bill save = \"\"# note we can also write str()\n",
    "bill=str()\n",
    "n = int(input(\"Enter how many iteam do you bought\"))\n",
    "for i in range(n):\n",
    "    name = input(\"Enter the  name = \")\n",
    "    price = int(input(\"Enter the price =\"))\n",
    "    qty = float(input(\"Enter qty = \"))\n",
    "    total = price * qty\n",
    "    \n",
    "    bill = bill+f\"{name}\\t {price}\\t {qty}\\t {total}\\t \\n\"# note we have to keep \n",
    "    #\\t so we can keep in list \n",
    "    #while doing split it will do by space so we have to keep space \n",
    "    #\n",
    "    \n",
    "print(bill)\n",
    "file =  open('bill.txt','w')\n",
    "file.write(bill)\n",
    "file.close()"
   ]
  },
  {
   "cell_type": "code",
   "execution_count": 41,
   "id": "98e6f92d",
   "metadata": {},
   "outputs": [
    {
     "name": "stdout",
     "output_type": "stream",
     "text": [
      "apple\t 320\t 2.5\t 800.0\t \n",
      "ice cream \t 170\t 2.0\t 340.0\t \n",
      "\n"
     ]
    }
   ],
   "source": [
    "print(bill)"
   ]
  },
  {
   "cell_type": "code",
   "execution_count": 42,
   "id": "883063d5",
   "metadata": {},
   "outputs": [
    {
     "data": {
      "text/plain": [
       "'apple\\t 320\\t 2.5\\t 800.0\\t \\nice cream \\t 170\\t 2.0\\t 340.0\\t \\n'"
      ]
     },
     "execution_count": 42,
     "metadata": {},
     "output_type": "execute_result"
    }
   ],
   "source": [
    "bill# note this is view\n"
   ]
  },
  {
   "cell_type": "markdown",
   "id": "8d7b1ce9",
   "metadata": {},
   "source": [
    "# this below code is to read :-"
   ]
  },
  {
   "cell_type": "code",
   "execution_count": 43,
   "id": "0fa28975",
   "metadata": {},
   "outputs": [
    {
     "name": "stdout",
     "output_type": "stream",
     "text": [
      "['apple\\t 320\\t 2.5\\t 800.0\\t ', 'ice cream \\t 170\\t 2.0\\t 340.0\\t ', '']\n"
     ]
    }
   ],
   "source": [
    "file = open('bill.txt','r') # check in the bill.txt\n",
    "x = file.read()\n",
    "print(x.split('\\n'))#note \n",
    "file.close() # read in list\n",
    "#note we have to keep in list inside list to do further arry"
   ]
  },
  {
   "cell_type": "markdown",
   "id": "6eee6cd5",
   "metadata": {},
   "source": [
    "#note splist will convert string into list "
   ]
  },
  {
   "cell_type": "code",
   "execution_count": 32,
   "id": "fdb187d5",
   "metadata": {},
   "outputs": [
    {
     "name": "stdout",
     "output_type": "stream",
     "text": [
      "ram hari shyam\n"
     ]
    }
   ],
   "source": [
    "#eg:-\n",
    "a = \"ram hari shyam\"#note space string will be kept in list\n",
    "a.split()\n",
    "print(a)"
   ]
  },
  {
   "cell_type": "code",
   "execution_count": 45,
   "id": "0419b607",
   "metadata": {},
   "outputs": [
    {
     "data": {
      "text/plain": [
       "['apple\\t 320\\t 2.5\\t 800.0\\t ', 'ice cream \\t 170\\t 2.0\\t 340.0\\t ']"
      ]
     },
     "execution_count": 45,
     "metadata": {},
     "output_type": "execute_result"
    }
   ],
   "source": [
    "y = x.split('\\n')[0:-1]\n",
    "y"
   ]
  },
  {
   "cell_type": "markdown",
   "id": "b174ecb5",
   "metadata": {},
   "source": [
    "# converting above data in list inside list\n",
    "\n"
   ]
  },
  {
   "cell_type": "code",
   "execution_count": 48,
   "id": "ba69d9ec",
   "metadata": {},
   "outputs": [
    {
     "data": {
      "text/plain": [
       "[['apple', ' 320', ' 2.5', ' 800.0', ' '],\n",
       " ['ice cream ', ' 170', ' 2.0', ' 340.0', ' ']]"
      ]
     },
     "execution_count": 48,
     "metadata": {},
     "output_type": "execute_result"
    }
   ],
   "source": [
    "bills =[]\n",
    "for i in y:\n",
    "    z =i.split('\\t')\n",
    "    bills.append(z)\n",
    "bills"
   ]
  },
  {
   "cell_type": "code",
   "execution_count": null,
   "id": "b460ad1b",
   "metadata": {},
   "outputs": [],
   "source": []
  }
 ],
 "metadata": {
  "kernelspec": {
   "display_name": "Python 3 (ipykernel)",
   "language": "python",
   "name": "python3"
  },
  "language_info": {
   "codemirror_mode": {
    "name": "ipython",
    "version": 3
   },
   "file_extension": ".py",
   "mimetype": "text/x-python",
   "name": "python",
   "nbconvert_exporter": "python",
   "pygments_lexer": "ipython3",
   "version": "3.11.3"
  }
 },
 "nbformat": 4,
 "nbformat_minor": 5
}
