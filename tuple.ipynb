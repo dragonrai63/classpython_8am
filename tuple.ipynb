{
 "cells": [
  {
   "cell_type": "code",
   "execution_count": 1,
   "id": "f29b61ae",
   "metadata": {},
   "outputs": [],
   "source": [
    "# Tuple\n",
    "# -Indexing\n",
    "# -Ordered\n",
    "# -Multiple and duplicate data\n",
    "# -Imutable\n",
    "# alwasy keep , in last data\n",
    "#t= (1,)\n",
    "#statics data\n",
    "#in form like in gender where we can use tupple .\n",
    "# in defined value\n",
    "#lite weight data "
   ]
  },
  {
   "cell_type": "code",
   "execution_count": 2,
   "id": "c345794f",
   "metadata": {},
   "outputs": [],
   "source": [
    "t= tuple() # emety tuple"
   ]
  },
  {
   "cell_type": "code",
   "execution_count": 5,
   "id": "43a7b3be",
   "metadata": {},
   "outputs": [
    {
     "name": "stdout",
     "output_type": "stream",
     "text": [
      "<class 'tuple'>\n",
      "<class 'int'>\n"
     ]
    }
   ],
   "source": [
    "t = (1,) # note for tuple if one value only there than we have to put comma , after value \n",
    "print(type(t))\n",
    "t = (1)# note if no comma than it is int.\n",
    "print(type(t))"
   ]
  },
  {
   "cell_type": "code",
   "execution_count": null,
   "id": "6f31c656",
   "metadata": {},
   "outputs": [],
   "source": []
  },
  {
   "cell_type": "markdown",
   "id": "05e6376d",
   "metadata": {},
   "source": [
    "# No Create (appen(), insert() extend())\n",
    "# No Update (sort())\n",
    "# No Delete (del pop() remove())\n",
    "# but can cam conct."
   ]
  },
  {
   "cell_type": "markdown",
   "id": "7e8d0a01",
   "metadata": {},
   "source": [
    "# only we can read which is shown below:\n"
   ]
  },
  {
   "cell_type": "code",
   "execution_count": 6,
   "id": "74014ac2",
   "metadata": {},
   "outputs": [
    {
     "name": "stdout",
     "output_type": "stream",
     "text": [
      "('Apple', 'Ball', 'Cat', 'Dog', 'Apple')\n",
      "Apple\n"
     ]
    }
   ],
   "source": [
    "t = (\"Apple\",\"Ball\",\"Cat\",\"Dog\",\"Apple\")\n",
    "print(t)\n",
    "print(t[0])# can store duplicate value also"
   ]
  },
  {
   "cell_type": "markdown",
   "id": "78925cd2",
   "metadata": {},
   "source": [
    "we can do below activities like "
   ]
  },
  {
   "cell_type": "code",
   "execution_count": 7,
   "id": "f8bb88d3",
   "metadata": {},
   "outputs": [
    {
     "name": "stdout",
     "output_type": "stream",
     "text": [
      "7568\n",
      "23\n",
      "11836\n"
     ]
    }
   ],
   "source": [
    "a = (234,456,7568,234,567,798,345,768,798,23,45)\n",
    "print(max(a))\n",
    "print(min(a))\n",
    "print(sum(a))"
   ]
  },
  {
   "cell_type": "markdown",
   "id": "5bd89632",
   "metadata": {},
   "source": [
    "# searching in tupple"
   ]
  },
  {
   "cell_type": "code",
   "execution_count": 9,
   "id": "3e975af8",
   "metadata": {},
   "outputs": [
    {
     "name": "stdout",
     "output_type": "stream",
     "text": [
      "Yes\n"
     ]
    }
   ],
   "source": [
    "a = ('Apple', 'Ball', 'Cat', 'Dog', 'Apple')\n",
    "if \"Apple\" in a:\n",
    "    print(\"Yes\")"
   ]
  },
  {
   "cell_type": "markdown",
   "id": "039392e3",
   "metadata": {},
   "source": [
    "# "
   ]
  },
  {
   "cell_type": "code",
   "execution_count": 8,
   "id": "ff84dfd0",
   "metadata": {},
   "outputs": [
    {
     "data": {
      "text/plain": [
       "('Apple', 'Ball', 'Cat', 'Dog', 'Apple')"
      ]
     },
     "execution_count": 8,
     "metadata": {},
     "output_type": "execute_result"
    }
   ],
   "source": [
    "a = ('Apple', 'Ball', 'Cat', 'Dog', 'Apple')\n",
    "a.index(\"Apple\")\n",
    "a"
   ]
  },
  {
   "cell_type": "markdown",
   "id": "f469719c",
   "metadata": {},
   "source": [
    "# how to create a tuple \n",
    "by conceting the value"
   ]
  },
  {
   "cell_type": "code",
   "execution_count": 10,
   "id": "20f37d58",
   "metadata": {},
   "outputs": [
    {
     "name": "stdout",
     "output_type": "stream",
     "text": [
      "(1, 2, 3, 4, 5, 3, 2, 4, 5, 2)\n"
     ]
    }
   ],
   "source": [
    "a = (1,2,3,4,5)\n",
    "b = (3,2,4,5,2)\n",
    "c = a+b\n",
    "print(c)# we can only conct. and make new tupple"
   ]
  },
  {
   "cell_type": "markdown",
   "id": "24bb2af2",
   "metadata": {},
   "source": [
    "# inlargement in tuple"
   ]
  },
  {
   "cell_type": "code",
   "execution_count": 11,
   "id": "8276293a",
   "metadata": {},
   "outputs": [
    {
     "name": "stdout",
     "output_type": "stream",
     "text": [
      "(1, 2, 3, 4, 5, 1, 2, 3, 4, 5)\n"
     ]
    }
   ],
   "source": [
    "a = (1,2,3,4,5)\n",
    "print(a*2)"
   ]
  },
  {
   "cell_type": "markdown",
   "id": "e1e90897",
   "metadata": {},
   "source": [
    "# how to create from user by input "
   ]
  },
  {
   "cell_type": "code",
   "execution_count": 12,
   "id": "f53ed2d0",
   "metadata": {},
   "outputs": [
    {
     "name": "stdout",
     "output_type": "stream",
     "text": [
      "Enter n = 2\n",
      "Enter x = 1\n",
      "Enter x = 2\n",
      "('1', '2')\n"
     ]
    }
   ],
   "source": [
    "t = ()\n",
    "n = int(input(\"Enter n = \"))\n",
    "for i in range(n):\n",
    "    x = input(\"Enter x = \")\n",
    "    t = t + (x,)# note x is str() so we have to keep (x,)\n",
    "    \n",
    "print(t)"
   ]
  },
  {
   "cell_type": "code",
   "execution_count": null,
   "id": "203d0a17",
   "metadata": {},
   "outputs": [],
   "source": []
  },
  {
   "cell_type": "code",
   "execution_count": null,
   "id": "5537b5e7",
   "metadata": {},
   "outputs": [],
   "source": [
    "a = \"Apple\"\n",
    "tuple(a)"
   ]
  }
 ],
 "metadata": {
  "kernelspec": {
   "display_name": "Python 3 (ipykernel)",
   "language": "python",
   "name": "python3"
  },
  "language_info": {
   "codemirror_mode": {
    "name": "ipython",
    "version": 3
   },
   "file_extension": ".py",
   "mimetype": "text/x-python",
   "name": "python",
   "nbconvert_exporter": "python",
   "pygments_lexer": "ipython3",
   "version": "3.11.3"
  }
 },
 "nbformat": 4,
 "nbformat_minor": 5
}
