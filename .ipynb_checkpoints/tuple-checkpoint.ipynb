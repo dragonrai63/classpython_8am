{
 "cells": [
  {
   "cell_type": "code",
   "execution_count": 1,
   "id": "f29b61ae",
   "metadata": {},
   "outputs": [],
   "source": [
    "# Tuple\n",
    "# -Indexing\n",
    "# -Ordered\n",
    "# -Multiple and duplicate data\n",
    "# -Imutable\n",
    "# alwasy keep , in last data\n",
    "#t= (1,)\n",
    "#statics data\n",
    "#in form like in gender where we can use tupple .\n",
    "# in defined value\n",
    "#lite weight data \n",
    "#note in tuple we cannot change int to str like that  \n",
    "# a= 123\n",
    "tuple(a) can't be chnage since the value will be splited:"
   ]
  },
  {
   "cell_type": "code",
   "execution_count": 2,
   "id": "c345794f",
   "metadata": {},
   "outputs": [],
   "source": [
    "t= tuple() # emety tuple"
   ]
  },
  {
   "cell_type": "code",
   "execution_count": 5,
   "id": "43a7b3be",
   "metadata": {},
   "outputs": [
    {
     "name": "stdout",
     "output_type": "stream",
     "text": [
      "<class 'tuple'>\n",
      "<class 'int'>\n"
     ]
    }
   ],
   "source": [
    "t = (1,) # note for tuple if one value only there than we have to put comma , after value \n",
    "print(type(t))\n",
    "t = (1)# note if no comma than it is int.\n",
    "print(type(t))"
   ]
  },
  {
   "cell_type": "code",
   "execution_count": null,
   "id": "6f31c656",
   "metadata": {},
   "outputs": [],
   "source": []
  },
  {
   "cell_type": "markdown",
   "id": "05e6376d",
   "metadata": {},
   "source": [
    "# No Create (appen(), insert() extend())\n",
    "# No Update (sort())\n",
    "# No Delete (del pop() remove())\n",
    "# but can cam conct."
   ]
  },
  {
   "cell_type": "markdown",
   "id": "7e8d0a01",
   "metadata": {},
   "source": [
    "# only we can read which is shown below:\n"
   ]
  },
  {
   "cell_type": "code",
   "execution_count": 6,
   "id": "74014ac2",
   "metadata": {},
   "outputs": [
    {
     "name": "stdout",
     "output_type": "stream",
     "text": [
      "('Apple', 'Ball', 'Cat', 'Dog', 'Apple')\n",
      "Apple\n"
     ]
    }
   ],
   "source": [
    "t = (\"Apple\",\"Ball\",\"Cat\",\"Dog\",\"Apple\")\n",
    "print(t)\n",
    "print(t[0])# can store duplicate value also"
   ]
  },
  {
   "cell_type": "markdown",
   "id": "78925cd2",
   "metadata": {},
   "source": [
    "we can do below activities like "
   ]
  },
  {
   "cell_type": "code",
   "execution_count": 7,
   "id": "f8bb88d3",
   "metadata": {},
   "outputs": [
    {
     "name": "stdout",
     "output_type": "stream",
     "text": [
      "7568\n",
      "23\n",
      "11836\n"
     ]
    }
   ],
   "source": [
    "a = (234,456,7568,234,567,798,345,768,798,23,45)\n",
    "print(max(a))\n",
    "print(min(a))\n",
    "print(sum(a))"
   ]
  },
  {
   "cell_type": "markdown",
   "id": "5bd89632",
   "metadata": {},
   "source": [
    "# searching in tupple"
   ]
  },
  {
   "cell_type": "code",
   "execution_count": 9,
   "id": "3e975af8",
   "metadata": {},
   "outputs": [
    {
     "name": "stdout",
     "output_type": "stream",
     "text": [
      "Yes\n"
     ]
    }
   ],
   "source": [
    "a = ('Apple', 'Ball', 'Cat', 'Dog', 'Apple')\n",
    "if \"Apple\" in a:\n",
    "    print(\"Yes\")"
   ]
  },
  {
   "cell_type": "markdown",
   "id": "039392e3",
   "metadata": {},
   "source": [
    "# "
   ]
  },
  {
   "cell_type": "code",
   "execution_count": 8,
   "id": "ff84dfd0",
   "metadata": {},
   "outputs": [
    {
     "data": {
      "text/plain": [
       "('Apple', 'Ball', 'Cat', 'Dog', 'Apple')"
      ]
     },
     "execution_count": 8,
     "metadata": {},
     "output_type": "execute_result"
    }
   ],
   "source": [
    "a = ('Apple', 'Ball', 'Cat', 'Dog', 'Apple')\n",
    "a.index(\"Apple\")\n",
    "a"
   ]
  },
  {
   "cell_type": "markdown",
   "id": "f469719c",
   "metadata": {},
   "source": [
    "# how to create a tuple \n",
    "by conceting the value"
   ]
  },
  {
   "cell_type": "code",
   "execution_count": 10,
   "id": "20f37d58",
   "metadata": {},
   "outputs": [
    {
     "name": "stdout",
     "output_type": "stream",
     "text": [
      "(1, 2, 3, 4, 5, 3, 2, 4, 5, 2)\n"
     ]
    }
   ],
   "source": [
    "a = (1,2,3,4,5)\n",
    "b = (3,2,4,5,2)\n",
    "c = a+b\n",
    "print(c)# we can only conct. and make new tupple"
   ]
  },
  {
   "cell_type": "markdown",
   "id": "24bb2af2",
   "metadata": {},
   "source": [
    "# inlargement in tuple"
   ]
  },
  {
   "cell_type": "code",
   "execution_count": 11,
   "id": "8276293a",
   "metadata": {},
   "outputs": [
    {
     "name": "stdout",
     "output_type": "stream",
     "text": [
      "(1, 2, 3, 4, 5, 1, 2, 3, 4, 5)\n"
     ]
    }
   ],
   "source": [
    "a = (1,2,3,4,5)\n",
    "print(a*2)"
   ]
  },
  {
   "cell_type": "markdown",
   "id": "e1e90897",
   "metadata": {},
   "source": [
    "# how to create from user by input "
   ]
  },
  {
   "cell_type": "code",
   "execution_count": 12,
   "id": "f53ed2d0",
   "metadata": {},
   "outputs": [
    {
     "name": "stdout",
     "output_type": "stream",
     "text": [
      "Enter n = 2\n",
      "Enter x = 1\n",
      "Enter x = 2\n",
      "('1', '2')\n"
     ]
    }
   ],
   "source": [
    "t = ()\n",
    "n = int(input(\"Enter n = \"))\n",
    "for i in range(n):\n",
    "    x = input(\"Enter x = \")\n",
    "    t = t + (x,)# note x is str() so we have to keep (x,)\n",
    "    \n",
    "print(t)"
   ]
  },
  {
   "cell_type": "markdown",
   "id": "2c831377",
   "metadata": {},
   "source": [
    "#below are things not to do while ion above code:"
   ]
  },
  {
   "cell_type": "code",
   "execution_count": 5,
   "id": "5537b5e7",
   "metadata": {},
   "outputs": [
    {
     "name": "stdout",
     "output_type": "stream",
     "text": [
      "('A', 'p', 'p', 'l', 'e')\n",
      "<class 'tuple'>\n"
     ]
    }
   ],
   "source": [
    "a =\"Apple\" #\n",
    "print(tuple(a))#note we cannot do like this since apple value wil be split and make another tuple\n",
    "print(type(tuple(a)))"
   ]
  },
  {
   "cell_type": "code",
   "execution_count": 6,
   "id": "3593dbf6",
   "metadata": {},
   "outputs": [
    {
     "data": {
      "text/plain": [
       "['A', 'p', 'p', 'l', 'e']"
      ]
     },
     "execution_count": 6,
     "metadata": {},
     "output_type": "execute_result"
    }
   ],
   "source": [
    "list(\"Apple\")# this also value splited , so dont use this in above code"
   ]
  },
  {
   "cell_type": "markdown",
   "id": "de435ad8",
   "metadata": {},
   "source": [
    "# we can change tuple into list:\n"
   ]
  },
  {
   "cell_type": "code",
   "execution_count": 7,
   "id": "a1f8bd04",
   "metadata": {},
   "outputs": [
    {
     "data": {
      "text/plain": [
       "['Apple', 'Ball', 'Cat', 'Dog', 'Apple']"
      ]
     },
     "execution_count": 7,
     "metadata": {},
     "output_type": "execute_result"
    }
   ],
   "source": [
    "#changing tuple into list:\n",
    "a = ('Apple', 'Ball', 'Cat', 'Dog', 'Apple')\n",
    "a = list(a)\n",
    "a"
   ]
  },
  {
   "cell_type": "markdown",
   "id": "63d1d8f5",
   "metadata": {},
   "source": [
    "# deleting value of tuple:\n"
   ]
  },
  {
   "cell_type": "code",
   "execution_count": 8,
   "id": "a77a9919",
   "metadata": {},
   "outputs": [
    {
     "data": {
      "text/plain": [
       "('Ball', 'Cat', 'Dog', 'Apple')"
      ]
     },
     "execution_count": 8,
     "metadata": {},
     "output_type": "execute_result"
    }
   ],
   "source": [
    "del a[0]\n",
    "a = tuple(a)\n",
    "a"
   ]
  },
  {
   "cell_type": "markdown",
   "id": "1ed72839",
   "metadata": {},
   "source": [
    "# tuple inside tuple structure:\n"
   ]
  },
  {
   "cell_type": "code",
   "execution_count": 9,
   "id": "aaca2fa7",
   "metadata": {},
   "outputs": [
    {
     "name": "stdout",
     "output_type": "stream",
     "text": [
      "((1, 2, 3), (4, 5, 6), (7, 8, 9))\n"
     ]
    }
   ],
   "source": [
    "# tuple inside tuple\n",
    "t = ((1,2,3),\n",
    "    (4,5,6),\n",
    "     (7,8,9))\n",
    "print(t)"
   ]
  },
  {
   "cell_type": "markdown",
   "id": "1a4906c4",
   "metadata": {},
   "source": [
    "# how to create a tuple inside tuple from user input:\n"
   ]
  },
  {
   "cell_type": "code",
   "execution_count": 10,
   "id": "4d90a758",
   "metadata": {},
   "outputs": [
    {
     "name": "stdout",
     "output_type": "stream",
     "text": [
      "Enter n = 2\n",
      "Enter name = Ram]\n",
      "Enter age = 80\n",
      "Enter add = Kathmandu\n",
      "Enter name = Shyam\n",
      "Enter age = 45\n",
      "Enter add = lalitpur\n",
      "(('Ram]', 80, 'Kathmandu'), ('Shyam', 45, 'lalitpur'))\n"
     ]
    }
   ],
   "source": [
    "#tuple inside tuple from user:\n",
    "info = ()\n",
    "n = int(input(\"Enter n = \"))\n",
    "for i in range(n):\n",
    "    name = input(\"Enter name = \")\n",
    "    age = int(input(\"Enter age = \"))\n",
    "    add = input(\"Enter add = \")\n",
    "    x = (name,age,add)\n",
    "    info = info + (x,)# we cannot apppend so\n",
    "    # we are conct.\n",
    "    \n",
    "print(info)"
   ]
  },
  {
   "cell_type": "markdown",
   "id": "7424b8d3",
   "metadata": {},
   "source": [
    "# list inside tuple"
   ]
  },
  {
   "cell_type": "code",
   "execution_count": 11,
   "id": "76564a46",
   "metadata": {},
   "outputs": [
    {
     "data": {
      "text/plain": [
       "(['Ram', 78, 'KAthmandu'], ['Shyam', 89, 'Bhaktapur'])"
      ]
     },
     "execution_count": 11,
     "metadata": {},
     "output_type": "execute_result"
    }
   ],
   "source": [
    "# list inside tuple\n",
    "t = (['Ram', 78, 'KAthmandu'], ['Shyam', 89, 'Bhaktapur'])\n",
    "t\n"
   ]
  },
  {
   "cell_type": "code",
   "execution_count": 12,
   "id": "e85ff0c6",
   "metadata": {},
   "outputs": [
    {
     "data": {
      "text/plain": [
       "['Ram', 78, 'KAthmandu']"
      ]
     },
     "execution_count": 12,
     "metadata": {},
     "output_type": "execute_result"
    }
   ],
   "source": [
    "t[0]"
   ]
  },
  {
   "cell_type": "markdown",
   "id": "7b5ad64f",
   "metadata": {},
   "source": [
    "# tuple inside list"
   ]
  },
  {
   "cell_type": "code",
   "execution_count": 13,
   "id": "deec8da4",
   "metadata": {},
   "outputs": [
    {
     "data": {
      "text/plain": [
       "[('Ram', 78, 'KAthmandu'), ('Shyam', 89, 'Bhaktapur')]"
      ]
     },
     "execution_count": 13,
     "metadata": {},
     "output_type": "execute_result"
    }
   ],
   "source": [
    "# tuple inside list\n",
    "t = [('Ram', 78, 'KAthmandu'), ('Shyam', 89, 'Bhaktapur')]\n",
    "t"
   ]
  },
  {
   "cell_type": "markdown",
   "id": "a5c659f5",
   "metadata": {},
   "source": [
    "# tuple inside dict"
   ]
  },
  {
   "cell_type": "markdown",
   "id": "4469c642",
   "metadata": {},
   "source": [
    "# note key of dict{} \n",
    "always be inmutiable data"
   ]
  },
  {
   "cell_type": "code",
   "execution_count": 15,
   "id": "238063aa",
   "metadata": {},
   "outputs": [],
   "source": [
    "a = {('Sita','Gita'):9808778765,\n",
    "    'Hari':9808778765}"
   ]
  },
  {
   "cell_type": "code",
   "execution_count": 16,
   "id": "4aaddb5f",
   "metadata": {},
   "outputs": [
    {
     "data": {
      "text/plain": [
       "9808778765"
      ]
     },
     "execution_count": 16,
     "metadata": {},
     "output_type": "execute_result"
    }
   ],
   "source": [
    "a[('Sita','Gita')]"
   ]
  },
  {
   "cell_type": "code",
   "execution_count": null,
   "id": "e66d8f82",
   "metadata": {},
   "outputs": [],
   "source": []
  }
 ],
 "metadata": {
  "kernelspec": {
   "display_name": "Python 3 (ipykernel)",
   "language": "python",
   "name": "python3"
  },
  "language_info": {
   "codemirror_mode": {
    "name": "ipython",
    "version": 3
   },
   "file_extension": ".py",
   "mimetype": "text/x-python",
   "name": "python",
   "nbconvert_exporter": "python",
   "pygments_lexer": "ipython3",
   "version": "3.11.3"
  }
 },
 "nbformat": 4,
 "nbformat_minor": 5
}
