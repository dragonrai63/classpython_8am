{
 "cells": [
  {
   "cell_type": "raw",
   "id": "8093e701",
   "metadata": {},
   "source": [
    "# string\n",
    "# imutable data type\n"
   ]
  },
  {
   "cell_type": "code",
   "execution_count": 8,
   "id": "29696379",
   "metadata": {},
   "outputs": [
    {
     "name": "stdout",
     "output_type": "stream",
     "text": [
      "hellow world \n",
      "hellow world \n",
      "hellow world \n",
      "\n"
     ]
    }
   ],
   "source": [
    "a = \"hellow world \\n\"\n",
    "print(a * 3 )"
   ]
  },
  {
   "cell_type": "code",
   "execution_count": 10,
   "id": "b52f02d8",
   "metadata": {},
   "outputs": [
    {
     "name": "stdout",
     "output_type": "stream",
     "text": [
      "world wworld oworld rworld lworld d"
     ]
    }
   ],
   "source": [
    "a = \"world\"\n",
    "for i in a:\n",
    "    print(i,end = \"\")# str can be iterable"
   ]
  },
  {
   "cell_type": "code",
   "execution_count": 11,
   "id": "426fe7d5",
   "metadata": {},
   "outputs": [
    {
     "ename": "TypeError",
     "evalue": "'int' object is not iterable",
     "output_type": "error",
     "traceback": [
      "\u001b[1;31m---------------------------------------------------------------------------\u001b[0m",
      "\u001b[1;31mTypeError\u001b[0m                                 Traceback (most recent call last)",
      "Cell \u001b[1;32mIn[11], line 2\u001b[0m\n\u001b[0;32m      1\u001b[0m a \u001b[38;5;241m=\u001b[39m \u001b[38;5;241m200\u001b[39m\n\u001b[1;32m----> 2\u001b[0m \u001b[38;5;28;01mfor\u001b[39;00m i \u001b[38;5;129;01min\u001b[39;00m a:\n\u001b[0;32m      3\u001b[0m     \u001b[38;5;28mprint\u001b[39m(i)\n",
      "\u001b[1;31mTypeError\u001b[0m: 'int' object is not iterable"
     ]
    }
   ],
   "source": [
    "a = 200\n",
    "for i in a:\n",
    "    print(i)# note int cannot be iterable"
   ]
  },
  {
   "cell_type": "markdown",
   "id": "6ac6cf8c",
   "metadata": {},
   "source": [
    "#indexing the str:-"
   ]
  },
  {
   "cell_type": "markdown",
   "id": "75fcf203",
   "metadata": {},
   "source": [
    "# use [] fro indexing"
   ]
  },
  {
   "cell_type": "code",
   "execution_count": 14,
   "id": "38c14b75",
   "metadata": {},
   "outputs": [
    {
     "name": "stdout",
     "output_type": "stream",
     "text": [
      "l\n",
      "hello \n",
      "hlowr\n"
     ]
    }
   ],
   "source": [
    "a = \"hello world.  i am python\"\n",
    "print(a[2])\n",
    "print(a[0:6])\n",
    "print(a[0:10:2])"
   ]
  },
  {
   "cell_type": "markdown",
   "id": "e284c260",
   "metadata": {},
   "source": [
    "len :-"
   ]
  },
  {
   "cell_type": "code",
   "execution_count": 15,
   "id": "3ab56002",
   "metadata": {},
   "outputs": [
    {
     "name": "stdout",
     "output_type": "stream",
     "text": [
      "25\n"
     ]
    }
   ],
   "source": [
    "print(len(a))"
   ]
  },
  {
   "cell_type": "markdown",
   "id": "abe6b998",
   "metadata": {},
   "source": [
    "# indexing -ve backward"
   ]
  },
  {
   "cell_type": "code",
   "execution_count": 16,
   "id": "774c083c",
   "metadata": {},
   "outputs": [
    {
     "name": "stdout",
     "output_type": "stream",
     "text": [
      "nohtyp\n"
     ]
    }
   ],
   "source": [
    "a = \"python\"\n",
    "print(a[::-1])# note[start: stop: increment]"
   ]
  },
  {
   "cell_type": "markdown",
   "id": "fa92a182",
   "metadata": {},
   "source": [
    "# using range in str()\n"
   ]
  },
  {
   "cell_type": "code",
   "execution_count": 20,
   "id": "e0e6e927",
   "metadata": {},
   "outputs": [
    {
     "name": "stdout",
     "output_type": "stream",
     "text": [
      "Hello world I am python"
     ]
    }
   ],
   "source": [
    "a = \"Hello world I am python\"\n",
    "n =len(a)\n",
    "for i in range(n):\n",
    "    print(a[i],end = \"\")# note we have to use a[i] since we are using range so [start:stop]\n",
    "    \n",
    "    "
   ]
  },
  {
   "cell_type": "markdown",
   "id": "f3ab13e4",
   "metadata": {},
   "source": [
    "# using for loop in str"
   ]
  },
  {
   "cell_type": "code",
   "execution_count": 29,
   "id": "5ab4f82b",
   "metadata": {},
   "outputs": [
    {
     "name": "stdout",
     "output_type": "stream",
     "text": [
      "Hello world I am python"
     ]
    }
   ],
   "source": [
    "a = \"Hello world I am python\"\n",
    "n =len(a)\n",
    "for i in range(n):\n",
    "#         print(i) this give the index number print nbr from 0:nlen (a)\n",
    "        print(a[i], end = \"\")# note we have to use a[i] since we are using range so [start:stop]\n",
    "    \n",
    "    "
   ]
  },
  {
   "cell_type": "markdown",
   "id": "5f036d2b",
   "metadata": {},
   "source": [
    "# using while loop in str:\n"
   ]
  },
  {
   "cell_type": "code",
   "execution_count": 31,
   "id": "e538c9cd",
   "metadata": {},
   "outputs": [
    {
     "name": "stdout",
     "output_type": "stream",
     "text": [
      "Hello world I am python"
     ]
    }
   ],
   "source": [
    "i =0\n",
    "a = \"Hello world I am python\"\n",
    "n =len(a)\n",
    "while i < n:\n",
    "        print(a[i], end = \"\")\n",
    "        i = i +1"
   ]
  },
  {
   "cell_type": "markdown",
   "id": "d1e92981",
   "metadata": {},
   "source": [
    "# findig indexing number of any sentence"
   ]
  },
  {
   "cell_type": "markdown",
   "id": "14db21b9",
   "metadata": {},
   "source": [
    "# # Wap to find index of space in \n",
    "# 5,11,13,16"
   ]
  },
  {
   "cell_type": "code",
   "execution_count": 46,
   "id": "703a3be1",
   "metadata": {},
   "outputs": [
    {
     "name": "stdout",
     "output_type": "stream",
     "text": [
      "space index in a  5\n",
      "space index in a  11\n",
      "space index in a  13\n",
      "space index in a  16\n"
     ]
    }
   ],
   "source": [
    "# Wap to find index of space in \n",
    "# 5,11,13,16\n",
    "a = \"Hello world I am python\"\n",
    "n =len(a)\n",
    "for i in range(n):\n",
    "    if a[i]==\" \":\n",
    "        print(\"space index in a \",i)"
   ]
  },
  {
   "cell_type": "code",
   "execution_count": 47,
   "id": "cbd6a904",
   "metadata": {},
   "outputs": [
    {
     "name": "stdout",
     "output_type": "stream",
     "text": [
      "Enter any sentence to find the space index number = hello my boy. how are you?\n",
      "This are the index nuimber of space 5\n",
      "This are the index nuimber of space 8\n",
      "This are the index nuimber of space 13\n",
      "This are the index nuimber of space 17\n",
      "This are the index nuimber of space 21\n"
     ]
    }
   ],
   "source": [
    "a = input(\"Enter any sentence to find the space index number = \")\n",
    "n = len(a)\n",
    "for i in range(n):\n",
    "    if a[i]==\" \":\n",
    "        print(\"This are the index nuimber of space\",i)"
   ]
  },
  {
   "cell_type": "markdown",
   "id": "16e0ccc5",
   "metadata": {},
   "source": [
    "# string formating\n",
    "]"
   ]
  },
  {
   "cell_type": "code",
   "execution_count": 55,
   "id": "6bf10634",
   "metadata": {},
   "outputs": [
    {
     "data": {
      "text/plain": [
       "'hello world I am ram i am from 34 i am from kathmandu'"
      ]
     },
     "execution_count": 55,
     "metadata": {},
     "output_type": "execute_result"
    }
   ],
   "source": [
    "name = \"ram\"\n",
    "age= 34\n",
    "add = \"kathmandu\"\n",
    "info= \"hello world I am \"+ name+\" \"+\"i am from \"+ str(age) + \" \"+\"i am from\"+\" \"+add\n",
    "info"
   ]
  },
  {
   "cell_type": "markdown",
   "id": "330f7bad",
   "metadata": {},
   "source": [
    "# using formating . where we keep variable in string also as shown in below example : int can also be store in str by using formating."
   ]
  },
  {
   "cell_type": "code",
   "execution_count": 56,
   "id": "ec27566f",
   "metadata": {},
   "outputs": [
    {
     "data": {
      "text/plain": [
       "'hello worldram. i am 34. i am from kathmandu'"
      ]
     },
     "execution_count": 56,
     "metadata": {},
     "output_type": "execute_result"
    }
   ],
   "source": [
    "name = \"ram\"\n",
    "age= 34\n",
    "add = \"kathmandu\"\n",
    "# info= \"hello world I am \"+ name+\" \"+\"i am from \"+ str(age) + \" \"+\"i am from\"+\" \"+add\n",
    "info= f\"hello world{name}. i am {age}. i am from {add}\"\n",
    "info\n"
   ]
  },
  {
   "cell_type": "markdown",
   "id": "602a32b7",
   "metadata": {},
   "source": [
    "# WAP a program to create billing system using string formatting"
   ]
  },
  {
   "cell_type": "code",
   "execution_count": 62,
   "id": "517baf4d",
   "metadata": {},
   "outputs": [
    {
     "name": "stdout",
     "output_type": "stream",
     "text": [
      "Enter how many iteam do you bought2\n",
      "Enter the  name = apple\n",
      "Enter the price =320\n",
      "Enter qty = 2\n",
      "Enter the  name = ice cream\n",
      "Enter the price =70\n",
      "Enter qty = 2\n",
      "apple 320 2.0 640.0\n",
      "ice cream 70 2.0 140.0\n",
      "\n",
      "Total price is = 780.0\n"
     ]
    }
   ],
   "source": [
    "bill = \"\"# note we can also write str()\n",
    "all_total = 0\n",
    "n = int(input(\"Enter how many iteam do you bought\"))\n",
    "for i in range(n):\n",
    "    name = input(\"Enter the  name = \")\n",
    "    price = int(input(\"Enter the price =\"))\n",
    "    qty = float(input(\"Enter qty = \"))\n",
    "    total = price * qty\n",
    "    bill =f\"{bill}{name} {price} {qty} {total}\\n\"\n",
    "    all_total = all_total + total\n",
    "print(bill)\n",
    "print(\"Total price is =\",all_total)"
   ]
  },
  {
   "cell_type": "markdown",
   "id": "42c84c79",
   "metadata": {},
   "source": [
    "# searching in string:"
   ]
  },
  {
   "cell_type": "code",
   "execution_count": 72,
   "id": "c49c8f59",
   "metadata": {},
   "outputs": [
    {
     "name": "stdout",
     "output_type": "stream",
     "text": [
      "Enter name == r\n",
      "There is  r\n",
      "3\n"
     ]
    }
   ],
   "source": [
    "a = \"Ram Shyam Hari Sita Ram\".lower()\n",
    "name = input(\"Enter name =  \").lower() # note string are case sencitivy so\n",
    "if name in a:\n",
    "    print(\"There is \", name)\n",
    "    print(a.count(name))\n",
    "else:\n",
    "    print(\"There is no such name\")      "
   ]
  },
  {
   "cell_type": "markdown",
   "id": "a8d5e504",
   "metadata": {},
   "source": [
    "# upper case and lower case in str to solve case sencitive issues .which are shown below."
   ]
  },
  {
   "cell_type": "code",
   "execution_count": 70,
   "id": "963b32f5",
   "metadata": {},
   "outputs": [
    {
     "name": "stdout",
     "output_type": "stream",
     "text": [
      "ram shyam hari sita ram\n",
      "RAM SHYAM HARI SITA RAM\n"
     ]
    }
   ],
   "source": [
    "a = \"Ram Shyam Hari Sita Ram\"\n",
    "print(a.lower())\n",
    "print(a.upper())\n"
   ]
  },
  {
   "cell_type": "markdown",
   "id": "21efd990",
   "metadata": {},
   "source": [
    "# searching at string has limitation which is explain below with eg:\n"
   ]
  },
  {
   "cell_type": "code",
   "execution_count": 75,
   "id": "f16fc564",
   "metadata": {},
   "outputs": [
    {
     "name": "stdout",
     "output_type": "stream",
     "text": [
      "Enter name =  ram\n",
      "Yes!,there is  ram\n",
      "2\n"
     ]
    }
   ],
   "source": [
    "a = \"Ram Shyam Hari Sita Ramesh\".lower() # note\n",
    "name = input(\"Enter name =  \").lower() # note string are case sencitivy so\n",
    "if name in a:\n",
    "    print(\"Yes!,there is \", name)\n",
    "    print(a.count(name))\n",
    "else:\n",
    "    print(\"There is no such name\")    ##  "
   ]
  },
  {
   "cell_type": "markdown",
   "id": "793d2aee",
   "metadata": {},
   "source": [
    "# so we should keep data in array:\n"
   ]
  },
  {
   "cell_type": "markdown",
   "id": "a3bde024",
   "metadata": {},
   "source": [
    "# edit option in str()"
   ]
  },
  {
   "cell_type": "code",
   "execution_count": 78,
   "id": "0528d843",
   "metadata": {},
   "outputs": [
    {
     "data": {
      "text/plain": [
       "'ram Shyam Hari Sita ram'"
      ]
     },
     "execution_count": 78,
     "metadata": {},
     "output_type": "execute_result"
    }
   ],
   "source": [
    "#replace\n",
    "a = \"Ram Shyam Hari Sita Ram\"\n",
    "a=a.replace(\"Ram\",\"ram\")\n",
    "a # note both \"Ram  are changed so it has also limit\n"
   ]
  },
  {
   "cell_type": "markdown",
   "id": "ef44ff31",
   "metadata": {},
   "source": [
    "# tips that work some time"
   ]
  },
  {
   "cell_type": "code",
   "execution_count": 79,
   "id": "488e4376",
   "metadata": {},
   "outputs": [
    {
     "data": {
      "text/plain": [
       "'ram Shyam Hari Sita Ram'"
      ]
     },
     "execution_count": 79,
     "metadata": {},
     "output_type": "execute_result"
    }
   ],
   "source": [
    "a = \"Ram Shyam Hari Sita Ram\"\n",
    "a = a.replace(\"Ram \",\"ram \") # note we have given space which is trick hehehe but work some time \n",
    "a"
   ]
  },
  {
   "cell_type": "code",
   "execution_count": null,
   "id": "66c6b05d",
   "metadata": {},
   "outputs": [],
   "source": []
  }
 ],
 "metadata": {
  "kernelspec": {
   "display_name": "Python 3 (ipykernel)",
   "language": "python",
   "name": "python3"
  },
  "language_info": {
   "codemirror_mode": {
    "name": "ipython",
    "version": 3
   },
   "file_extension": ".py",
   "mimetype": "text/x-python",
   "name": "python",
   "nbconvert_exporter": "python",
   "pygments_lexer": "ipython3",
   "version": "3.11.3"
  }
 },
 "nbformat": 4,
 "nbformat_minor": 5
}
