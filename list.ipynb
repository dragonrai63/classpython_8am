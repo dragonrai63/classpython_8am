{
 "cells": [
  {
   "cell_type": "code",
   "execution_count": null,
   "id": "2c5f1bb3",
   "metadata": {},
   "outputs": [],
   "source": []
  },
  {
   "cell_type": "code",
   "execution_count": 7,
   "id": "216fbfe8",
   "metadata": {},
   "outputs": [],
   "source": [
    "info= [['Ram',31,'Urlabari',30000],\n",
    "       ['Hari',25,'damak',27000],\n",
    "       ['sita',27,'Pokhara',28000],\n",
    "       ['shyam',26,'madhumala',22000]]\n",
    "\n"
   ]
  },
  {
   "cell_type": "markdown",
   "id": "eb815da9",
   "metadata": {},
   "source": [
    "# indexing the list"
   ]
  },
  {
   "cell_type": "code",
   "execution_count": 10,
   "id": "2dd184e6",
   "metadata": {},
   "outputs": [
    {
     "name": "stdout",
     "output_type": "stream",
     "text": [
      "Hari\n",
      "madhumala\n"
     ]
    }
   ],
   "source": [
    "print(info[1][0])\n",
    "print(info[3][2])\n"
   ]
  },
  {
   "cell_type": "code",
   "execution_count": 16,
   "id": "cc7cc618",
   "metadata": {},
   "outputs": [
    {
     "name": "stdout",
     "output_type": "stream",
     "text": [
      "how many data do you want2\n",
      "Enter of company =samsung\n",
      "Enter the price =50000\n",
      "Enter the model= galaxy\n",
      "Enter the color = black\n",
      "[['compnay50000modelcolor']]\n",
      "Enter of company =iphone\n",
      "Enter the price =75000\n",
      "Enter the model= iphone12\n",
      "Enter the color = gold\n",
      "[['compnay50000modelcolor'], ['compnay75000modelcolor']]\n"
     ]
    }
   ],
   "source": [
    "mobile= []\n",
    "num = int(input(\"how many data do you want\"))\n",
    "for i in range(num):\n",
    "    company=input(\"Enter of company =\")\n",
    "    price= int(input(\"Enter the price =\"))\n",
    "    model = input(\"Enter the model= \")\n",
    "    color = input(\"Enter the color = \")\n",
    "    a = ['compnay'+ str(price)+ 'model'+'color']\n",
    "    mobile.append(a)\n",
    "    print(mobile)"
   ]
  },
  {
   "cell_type": "markdown",
   "id": "4c738637",
   "metadata": {},
   "source": [
    "# adding data in list\n",
    "\n"
   ]
  },
  {
   "cell_type": "markdown",
   "id": "eff43851",
   "metadata": {},
   "source": [
    "#using insert() for placing the value in different index"
   ]
  },
  {
   "cell_type": "code",
   "execution_count": 9,
   "id": "2e8ad0b8",
   "metadata": {},
   "outputs": [
    {
     "data": {
      "text/plain": [
       "['kiran', 'ram', 'sita', 'hari']"
      ]
     },
     "execution_count": 9,
     "metadata": {},
     "output_type": "execute_result"
    }
   ],
   "source": [
    "name = [\"kiran\",\"ram\",\"hari\"]\n",
    "name.insert(2,\"sita\")\n",
    "print(name)"
   ]
  },
  {
   "cell_type": "markdown",
   "id": "078d99da",
   "metadata": {},
   "source": [
    "By using .append()\n",
    "we can only append value at last , we can't append value in desired index"
   ]
  },
  {
   "cell_type": "code",
   "execution_count": 10,
   "id": "cdf78fec",
   "metadata": {},
   "outputs": [
    {
     "name": "stdout",
     "output_type": "stream",
     "text": [
      "['ram', 'kiran', 'sita', 'hari']\n"
     ]
    }
   ],
   "source": [
    "#Eg:=\n",
    "name= [\"ram\",\"kiran\",\"sita\"]\n",
    "name.append(\"hari\")   \n",
    "print(name)                                                    # since .append() function only take \n",
    "                                        #one argument so we cannot place it at desired location"
   ]
  },
  {
   "cell_type": "markdown",
   "id": "2092cce0",
   "metadata": {},
   "source": [
    "# deleting the value from list:-\n",
    "1..remove()\n",
    "2. del()\n",
    "3.pop()"
   ]
  },
  {
   "cell_type": "code",
   "execution_count": 8,
   "id": "00584f4d",
   "metadata": {},
   "outputs": [
    {
     "name": "stdout",
     "output_type": "stream",
     "text": [
      "['ram', 'hari']\n",
      "['ram', 'hari', 'shyam']\n"
     ]
    }
   ],
   "source": [
    "a = [\"kiran\", \"ram\",\"hari\"]\n",
    "a.remove(\"kiran\")\n",
    "print(a)\n",
    "a.append(\"shyam\")\n",
    "print(a)"
   ]
  },
  {
   "cell_type": "code",
   "execution_count": null,
   "id": "f0e70741",
   "metadata": {},
   "outputs": [],
   "source": []
  }
 ],
 "metadata": {
  "kernelspec": {
   "display_name": "Python 3 (ipykernel)",
   "language": "python",
   "name": "python3"
  },
  "language_info": {
   "codemirror_mode": {
    "name": "ipython",
    "version": 3
   },
   "file_extension": ".py",
   "mimetype": "text/x-python",
   "name": "python",
   "nbconvert_exporter": "python",
   "pygments_lexer": "ipython3",
   "version": "3.11.3"
  }
 },
 "nbformat": 4,
 "nbformat_minor": 5
}
