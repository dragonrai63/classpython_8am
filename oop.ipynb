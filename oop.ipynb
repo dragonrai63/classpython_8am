{
 "cells": [
  {
   "cell_type": "code",
   "execution_count": 1,
   "id": "0454c230",
   "metadata": {},
   "outputs": [
    {
     "ename": "TypeError",
     "evalue": "Hello.hello() takes 0 positional arguments but 1 was given",
     "output_type": "error",
     "traceback": [
      "\u001b[1;31m---------------------------------------------------------------------------\u001b[0m",
      "\u001b[1;31mTypeError\u001b[0m                                 Traceback (most recent call last)",
      "Cell \u001b[1;32mIn[1], line 5\u001b[0m\n\u001b[0;32m      3\u001b[0m         \u001b[38;5;28mprint\u001b[39m(\u001b[38;5;124m\"\u001b[39m\u001b[38;5;124mhello world\u001b[39m\u001b[38;5;124m\"\u001b[39m)\n\u001b[0;32m      4\u001b[0m obj \u001b[38;5;241m=\u001b[39m Hello()             \u001b[38;5;66;03m#object initilized garxa\u001b[39;00m\n\u001b[1;32m----> 5\u001b[0m \u001b[43mobj\u001b[49m\u001b[38;5;241;43m.\u001b[39;49m\u001b[43mhello\u001b[49m\u001b[43m(\u001b[49m\u001b[43m)\u001b[49m\n",
      "\u001b[1;31mTypeError\u001b[0m: Hello.hello() takes 0 positional arguments but 1 was given"
     ]
    }
   ],
   "source": [
    "class Hello:               #class n ame always big character\n",
    "    def hello():          #method\n",
    "        print(\"hello world\")\n",
    "obj = Hello()             #object initilized garxa\n",
    "obj.hello()"
   ]
  },
  {
   "cell_type": "code",
   "execution_count": 3,
   "id": "85048f1d",
   "metadata": {},
   "outputs": [
    {
     "name": "stdout",
     "output_type": "stream",
     "text": [
      "hello world\n"
     ]
    }
   ],
   "source": [
    "class Hello:\n",
    "    @staticmethod    #class n ame always big character\n",
    "    def hello():          #method\n",
    "        print(\"hello world\")\n",
    "obj = Hello()             #object initilized garxa\n",
    "obj.hello()"
   ]
  },
  {
   "cell_type": "code",
   "execution_count": 4,
   "id": "6f57e242",
   "metadata": {},
   "outputs": [
    {
     "name": "stdout",
     "output_type": "stream",
     "text": [
      "hello world\n"
     ]
    }
   ],
   "source": [
    "class Hello:    #class n ame always big character\n",
    "    def hello(self):          #method\n",
    "        print(\"hello world\")\n",
    "obj = Hello()             #object initilized garxa\n",
    "obj.hello()"
   ]
  },
  {
   "cell_type": "code",
   "execution_count": 5,
   "id": "2514c21b",
   "metadata": {},
   "outputs": [
    {
     "name": "stdout",
     "output_type": "stream",
     "text": [
      "80\n"
     ]
    }
   ],
   "source": [
    "class cal:\n",
    "    @staticmethod    #class n ame always big character\n",
    "    def area(l,b):          #method\n",
    "        print(l * b)\n",
    "obj = cal()             #object initilized garxa\n",
    "obj.area(10,8)"
   ]
  },
  {
   "cell_type": "code",
   "execution_count": 10,
   "id": "edc74603",
   "metadata": {},
   "outputs": [
    {
     "name": "stdout",
     "output_type": "stream",
     "text": [
      "50\n",
      "100\n"
     ]
    }
   ],
   "source": [
    "class Cal:\n",
    "    def __init__(self,l,b,h):   #class n ame always big character\n",
    "        self.l = l\n",
    "        self.b = b\n",
    "        self.h = h\n",
    "    def area(self):          #method\n",
    "        print(self.l *self.b)\n",
    "    def volume(self):\n",
    "        print(self.l*self.b*self.h)\n",
    "obj = Cal(10,5,2)             #object initilized garxa\n",
    "obj.area()\n",
    "obj.volume()\n"
   ]
  },
  {
   "cell_type": "code",
   "execution_count": null,
   "id": "f77dc311",
   "metadata": {},
   "outputs": [],
   "source": [
    "class Cal:\n",
    "    def __init__(self,l,b,h):   #class n ame always big character\n",
    "        self.l = l\n",
    "        self.b = b\n",
    "        self.h = h\n",
    "    def area(self):          #method\n",
    "        print(self.l *self.b)\n",
    "    def volume(self):\n",
    "        print(self.l*self.b*self.h)\n",
    "obj = Cal(10,5,2)             #object initilized garxa\n",
    "obj.area()\n",
    "obj.volume()\n"
   ]
  },
  {
   "cell_type": "code",
   "execution_count": null,
   "id": "f9c8a50c",
   "metadata": {},
   "outputs": [],
   "source": [
    "class Info:\n",
    "    def __innit__(self,name,age):\n",
    "        self.name = name\n",
    "        self.age = age\n",
    "        self.add = input(\"enter add =\")\n",
    "        \n",
    "    def info(self):\n",
    "        print(f\"hello i am {self.name}. i am from {self.add}. iam {self.age}\")\n",
    "        \n",
    "name= input(\"enter a name =\")\n",
    "age =int(input(\"enter a age=\"))\n",
    "add = input(\"enter add= \")\n",
    "obj = "
   ]
  },
  {
   "cell_type": "code",
   "execution_count": null,
   "id": "62fc5092",
   "metadata": {},
   "outputs": [],
   "source": [
    "class Info:\n",
    "    def __innit__(self,name,age):\n",
    "        self.name = name\n",
    "        self.age = age\n",
    "        self.add = add\n",
    "    \n",
    "    def info(self):\n",
    "        return(f\"hello i am {self.name}. i am from {self.add}. i am {self.age}\")\n",
    "obj = Info(\" ram\",45,\"kathmandu\")\n",
    "obj1= Info()"
   ]
  },
  {
   "cell_type": "code",
   "execution_count": null,
   "id": "4c37730f",
   "metadata": {},
   "outputs": [],
   "source": []
  },
  {
   "cell_type": "code",
   "execution_count": null,
   "id": "af72d0dd",
   "metadata": {},
   "outputs": [],
   "source": []
  }
 ],
 "metadata": {
  "kernelspec": {
   "display_name": "Python 3 (ipykernel)",
   "language": "python",
   "name": "python3"
  },
  "language_info": {
   "codemirror_mode": {
    "name": "ipython",
    "version": 3
   },
   "file_extension": ".py",
   "mimetype": "text/x-python",
   "name": "python",
   "nbconvert_exporter": "python",
   "pygments_lexer": "ipython3",
   "version": "3.11.3"
  }
 },
 "nbformat": 4,
 "nbformat_minor": 5
}
