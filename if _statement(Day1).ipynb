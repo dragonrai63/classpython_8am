{
 "cells": [
  {
   "cell_type": "markdown",
   "id": "967faf70",
   "metadata": {},
   "source": [
    "# if statement"
   ]
  },
  {
   "cell_type": "code",
   "execution_count": 12,
   "id": "e2b52463",
   "metadata": {
    "scrolled": true
   },
   "outputs": [],
   "source": [
    "# if <condition>:\n",
    "#     <operation>\n",
    "# ELIF <CONDITION>\n",
    "    <OPERATION>\n",
    "# else <condition>:\n",
    "#     <operation>\n",
    "    \n",
    "    \n"
   ]
  },
  {
   "cell_type": "code",
   "execution_count": 13,
   "id": "278c201a",
   "metadata": {
    "collapsed": true
   },
   "outputs": [
    {
     "name": "stdout",
     "output_type": "stream",
     "text": [
      "Enter a year: 2400\n",
      "2400 is a leap year.\n"
     ]
    }
   ],
   "source": [
    "year = int(input(\"Enter a year: \"))\n",
    "\n",
    "if (year % 4 == 0 and year % 100 != 0) or (year % 400 == 0):\n",
    "    print(year, \"is a leap year.\")\n",
    "else:\n",
    "    print(year, \"is not a leap year.\")"
   ]
  },
  {
   "cell_type": "markdown",
   "id": "47733715",
   "metadata": {},
   "source": [
    "# < less than,> gr\n",
    "#> greater than"
   ]
  },
  {
   "cell_type": "markdown",
   "id": "d0bc7d36",
   "metadata": {},
   "source": [
    "#  checking the grade"
   ]
  },
  {
   "cell_type": "code",
   "execution_count": 28,
   "id": "74b7a0d0",
   "metadata": {
    "collapsed": true
   },
   "outputs": [
    {
     "name": "stdout",
     "output_type": "stream",
     "text": [
      "Enter a total = 99\n",
      "99.0 is grade'A'\n"
     ]
    }
   ],
   "source": [
    "total = float(input(\"Enter a total = \"))\n",
    "if total >= 90:\n",
    "    print(total,\"is grade'A'\")\n",
    "elif total >= 80:\n",
    "    print(total,\"is grade'B'\")\n",
    "elif total >=70:\n",
    "    print(total,\"is grade'C'\")\n",
    "elif total >= 60:\n",
    "    print(total,\"is grade'D'\")\n",
    "elif total >= 45:\n",
    "    print(total,\"is grade'E'\")\n",
    "else:\n",
    "    print(total,\"is grade F'Fail'\")"
   ]
  },
  {
   "cell_type": "markdown",
   "id": "fe448718",
   "metadata": {},
   "source": [
    "# simple calculator checking error at / since it can give error"
   ]
  },
  {
   "cell_type": "code",
   "execution_count": 3,
   "id": "a00771ed",
   "metadata": {},
   "outputs": [
    {
     "ename": "SyntaxError",
     "evalue": "invalid syntax (3260412285.py, line 16)",
     "output_type": "error",
     "traceback": [
      "\u001b[1;36m  Cell \u001b[1;32mIn[3], line 16\u001b[1;36m\u001b[0m\n\u001b[1;33m    continue (operation)\u001b[0m\n\u001b[1;37m             ^\u001b[0m\n\u001b[1;31mSyntaxError\u001b[0m\u001b[1;31m:\u001b[0m invalid syntax\n"
     ]
    }
   ],
   "source": [
    "num1 = float(input(\"Enter first number: \"))\n",
    "num2 = float(input(\"Enter second number: \"))\n",
    "operation = input(\"Enter operation (+, -, *, /): \")\n",
    "if operation == '+':\n",
    "    print(\"Result:\", num1 + num2)\n",
    "elif operation == '-':\n",
    "    print(\"Result:\", num1 - num2)\n",
    "elif operation == '*':\n",
    "    print(\"Result:\", num1 * num2)\n",
    "elif operation == '/':     \n",
    "     if num2 != 0:\n",
    "         print( num1 / num2)                   # we can write simple (num1/num2). but if user give num2 value 0 than cal \n",
    "                                        # will be error.so to prevent it we have written if condition in that condition\n",
    "     else:\n",
    "         print(\"Cannot divide by zero.\")\n",
    "         continue\n",
    "else:\n",
    "    print(\"Invalid operation.\")"
   ]
  },
  {
   "cell_type": "markdown",
   "id": "5c3a2487",
   "metadata": {},
   "source": [
    "# converting the temp. into C - F"
   ]
  },
  {
   "cell_type": "code",
   "execution_count": 46,
   "id": "584420cc",
   "metadata": {},
   "outputs": [
    {
     "name": "stdout",
     "output_type": "stream",
     "text": [
      "Enter C to convert to Celsius from F or F to convert to Fahrenheit from C: C\n",
      "Enter temperature: 77\n",
      "Temperature in Celsius: 25.0\n"
     ]
    }
   ],
   "source": [
    "choice = input(\"Enter C to convert to Celsius from F or F to convert to Fahrenheit from C: \").upper()\n",
    "                                                        #note python is case sensitive so we put .upper() function to \n",
    "                                                        #change any value in upper case to match the condition at line (1) \n",
    "temp = float(input(\"Enter temperature: \"))\n",
    "if choice == 'C':\n",
    "    converted_temp = (temp - 32) * 5/9\n",
    "    print(\"Temperature in Celsius:\", converted_temp)\n",
    "elif choice == 'F':\n",
    "    converted_temp = (temp * 9/5) + 32\n",
    "    print(\"Temperature in Fahrenheit:\", converted_temp)\n",
    "else:\n",
    "    print(\"Invalid choice.\")"
   ]
  },
  {
   "cell_type": "markdown",
   "id": "c5e4d3f3",
   "metadata": {},
   "source": [
    "# checking number  is +ve or -ve\n"
   ]
  },
  {
   "cell_type": "code",
   "execution_count": 49,
   "id": "f37ff10a",
   "metadata": {
    "scrolled": true
   },
   "outputs": [
    {
     "name": "stdout",
     "output_type": "stream",
     "text": [
      "Enter the number-8\n",
      "-8.0 is -ve value\n"
     ]
    }
   ],
   "source": [
    "a  = float(input(\"Enter the number\"))\n",
    "if 0 <= a:\n",
    "    print(a,\"is + ve value\")\n",
    "else:\n",
    "    print(a,\"is -ve value\")"
   ]
  },
  {
   "cell_type": "code",
   "execution_count": 50,
   "id": "b9291846",
   "metadata": {},
   "outputs": [
    {
     "name": "stdout",
     "output_type": "stream",
     "text": [
      "Enter the number-4\n",
      "-4.0 is -ve value\n"
     ]
    }
   ],
   "source": [
    "a  = float(input(\"Enter the number\"))\n",
    "if a>=0:\n",
    "    print(a,\"is + ve value\")\n",
    "else:\n",
    "    print(a,\"is -ve value\")"
   ]
  },
  {
   "cell_type": "code",
   "execution_count": 5,
   "id": "e20f76b5",
   "metadata": {},
   "outputs": [
    {
     "name": "stdout",
     "output_type": "stream",
     "text": [
      "Enter physics = 700\n",
      "Enter chemistry = 4\n",
      "Enter math = 45\n",
      "Enter english = 7\n",
      "Enter nepali = 78\n",
      "The total marks =  834.0\n",
      "The per =  166.8\n",
      "The grade =  A\n"
     ]
    }
   ],
   "source": [
    "physics = float(input(\"Enter physics = \"))\n",
    "chemistry = float(input(\"Enter chemistry = \"))\n",
    "math = float(input(\"Enter math = \"))\n",
    "english = float(input(\"Enter english = \"))\n",
    "nepali = float(input(\"Enter nepali = \"))\n",
    "\n",
    "total = physics + chemistry + math + english + nepali\n",
    "per = total/5\n",
    "\n",
    "if per >= 80:\n",
    "    grade = 'A'\n",
    "elif per >= 60:\n",
    "    grade = 'B'\n",
    "elif per >=45:\n",
    "    grade = 'C'\n",
    "else:\n",
    "    grade = 'F'\n",
    "\n",
    "print(\"The total marks = \",total)\n",
    "print(\"The per = \",per)\n",
    "print(\"The grade = \",grade)"
   ]
  },
  {
   "cell_type": "markdown",
   "id": "fca1279b",
   "metadata": {},
   "source": [
    "# checking even or odd\n"
   ]
  },
  {
   "cell_type": "code",
   "execution_count": 9,
   "id": "2546c97b",
   "metadata": {},
   "outputs": [
    {
     "data": {
      "text/plain": [
       "False"
      ]
     },
     "execution_count": 9,
     "metadata": {},
     "output_type": "execute_result"
    }
   ],
   "source": [
    "a = 5\n",
    "a%2==0"
   ]
  },
  {
   "cell_type": "code",
   "execution_count": 8,
   "id": "abc4e69e",
   "metadata": {},
   "outputs": [
    {
     "name": "stdout",
     "output_type": "stream",
     "text": [
      "enter a number = 2\n",
      "Given number is Even, which is 2\n"
     ]
    }
   ],
   "source": [
    "n = int(input(\"enter a number = \"))\n",
    "if n%2== 0:\n",
    "    print(\"Given number is Even, which is\",n )\n",
    "else:\n",
    "    print(\"given number is odd\")\n",
    "    "
   ]
  },
  {
   "cell_type": "code",
   "execution_count": 6,
   "id": "de206491",
   "metadata": {},
   "outputs": [
    {
     "name": "stdout",
     "output_type": "stream",
     "text": [
      "H e l l o   w o r l d   i   a m   p y t h o n "
     ]
    }
   ],
   "source": [
    "# for i in range(0,21):\n",
    "#     if i%2==0:\n",
    "#         print(i)\n",
    "a = \"Hello world. i am python!\"\n",
    "for i in a:\n",
    "    \n",
    "        if i !=\".\" and i!= \"!\": # note we are deleting the . and printing the sentences \n",
    "            print(i,end = \" \")"
   ]
  },
  {
   "cell_type": "code",
   "execution_count": null,
   "id": "9e9e989a",
   "metadata": {},
   "outputs": [],
   "source": []
  }
 ],
 "metadata": {
  "kernelspec": {
   "display_name": "Python 3 (ipykernel)",
   "language": "python",
   "name": "python3"
  },
  "language_info": {
   "codemirror_mode": {
    "name": "ipython",
    "version": 3
   },
   "file_extension": ".py",
   "mimetype": "text/x-python",
   "name": "python",
   "nbconvert_exporter": "python",
   "pygments_lexer": "ipython3",
   "version": "3.11.3"
  }
 },
 "nbformat": 4,
 "nbformat_minor": 5
}
