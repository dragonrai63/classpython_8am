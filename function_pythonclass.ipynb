{
 "cells": [
  {
   "cell_type": "markdown",
   "id": "2318298b",
   "metadata": {},
   "source": [
    "# function:\n",
    "*two type of function\n",
    "*pre-define function\n",
    "*user define function\n"
   ]
  },
  {
   "cell_type": "code",
   "execution_count": null,
   "id": "4646eb33",
   "metadata": {},
   "outputs": [],
   "source": [
    "# # pre defined\n",
    "\n",
    "# print() int() str() float() type() list() tuple() dict() set()"
   ]
  },
  {
   "cell_type": "markdown",
   "id": "0ce522ad",
   "metadata": {},
   "source": [
    "# structure of function is below:\n"
   ]
  },
  {
   "cell_type": "code",
   "execution_count": 1,
   "id": "5a32da65",
   "metadata": {},
   "outputs": [],
   "source": [
    "# def <function_name>():\n",
    "#     <operations>\n",
    "    \n",
    "# <function_name>()"
   ]
  },
  {
   "cell_type": "code",
   "execution_count": 2,
   "id": "84d5fd48",
   "metadata": {},
   "outputs": [
    {
     "name": "stdout",
     "output_type": "stream",
     "text": [
      "Hello World\n",
      "Hello World\n"
     ]
    }
   ],
   "source": [
    "def hello():\n",
    "    print(\"Hello World\")\n",
    "    \n",
    "hello()#where ever we run hello() then it print (\"data\")\n",
    "hello()"
   ]
  },
  {
   "cell_type": "markdown",
   "id": "9aaff294",
   "metadata": {},
   "source": [
    "# creating a user define WAP for volume and area"
   ]
  },
  {
   "cell_type": "markdown",
   "id": "3e1e09e4",
   "metadata": {},
   "source": [
    "#local variable\n",
    "note inside function variable is called local .which cannot be user other than in function"
   ]
  },
  {
   "cell_type": "code",
   "execution_count": 3,
   "id": "3b9f89d7",
   "metadata": {},
   "outputs": [
    {
     "name": "stdout",
     "output_type": "stream",
     "text": [
      "Enter l = 200\n",
      "Enter b = 34\n",
      "Enter h = 5\n",
      "6800\n",
      "34000\n"
     ]
    }
   ],
   "source": [
    "def cal():                       #defining function\n",
    "    l = int(input(\"Enter l = \")) #local variable\n",
    "    b = int(input(\"Enter b = \")) #local variable\n",
    "    h = int(input(\"Enter h = \")) #local variable\n",
    "    a = l*b\n",
    "    v = l*b*h\n",
    "    print(a)\n",
    "    print(v)\n",
    "    \n",
    "cal()                            #function call"
   ]
  },
  {
   "cell_type": "markdown",
   "id": "5696e57b",
   "metadata": {},
   "source": [
    "# using global variable in function:\n"
   ]
  },
  {
   "cell_type": "markdown",
   "id": "efa85969",
   "metadata": {},
   "source": [
    "#global variable which are define out side of function. which can be used in other coding also which are define below by example:"
   ]
  },
  {
   "cell_type": "code",
   "execution_count": 4,
   "id": "66838138",
   "metadata": {},
   "outputs": [
    {
     "name": "stdout",
     "output_type": "stream",
     "text": [
      "Enter l = 110\n",
      "Enter b = 23\n",
      "Enter h = 2\n",
      "2530\n",
      "5060\n"
     ]
    }
   ],
   "source": [
    "l = int(input(\"Enter l = \")) #global variable\n",
    "b = int(input(\"Enter b = \")) #global variable\n",
    "h = int(input(\"Enter h = \")) #global variable\n",
    "def cal():                       #defining function\n",
    "    a = l*b\n",
    "    v = l*b*h\n",
    "    print(a)\n",
    "    print(v)\n",
    "    \n",
    "cal()                            #function call"
   ]
  },
  {
   "cell_type": "markdown",
   "id": "d36b3355",
   "metadata": {},
   "source": [
    "# using multiple function\n",
    "area() function and volume() function. which are shown below:"
   ]
  },
  {
   "cell_type": "markdown",
   "id": "e21e5b63",
   "metadata": {},
   "source": [
    "#function parameter:\n",
    "note in function parameter and function should be same length . but not same variable name.\n",
    "* in parameter we can write any thing\n",
    "* in arrgument we have to write same as variable\n",
    "*"
   ]
  },
  {
   "cell_type": "code",
   "execution_count": 20,
   "id": "7ab842b7",
   "metadata": {},
   "outputs": [
    {
     "name": "stdout",
     "output_type": "stream",
     "text": [
      "Enter l = 1\n",
      "Enter b = 2\n",
      "Enter h = 3\n"
     ]
    },
    {
     "ename": "NameError",
     "evalue": "name 'a' is not defined",
     "output_type": "error",
     "traceback": [
      "\u001b[1;31m---------------------------------------------------------------------------\u001b[0m",
      "\u001b[1;31mNameError\u001b[0m                                 Traceback (most recent call last)",
      "Cell \u001b[1;32mIn[20], line 14\u001b[0m\n\u001b[0;32m     11\u001b[0m     v \u001b[38;5;241m=\u001b[39m l\u001b[38;5;241m*\u001b[39mb\u001b[38;5;241m*\u001b[39mh\n\u001b[0;32m     12\u001b[0m     \u001b[38;5;28mprint\u001b[39m(v)\n\u001b[1;32m---> 14\u001b[0m area(\u001b[43ma\u001b[49m,b) \u001b[38;5;66;03m#function with arrgument                            #function call\u001b[39;00m\n\u001b[0;32m     15\u001b[0m volume(l,b,h) \u001b[38;5;66;03m#function with argument\u001b[39;00m\n",
      "\u001b[1;31mNameError\u001b[0m: name 'a' is not defined"
     ]
    }
   ],
   "source": [
    "l = int(input(\"Enter l = \")) #global variable\n",
    "b = int(input(\"Enter b = \")) #global variable\n",
    "h = int(input(\"Enter h = \")) #global variable\n",
    "\n",
    "def area(k,h):                       #defining function with parameter\n",
    "    a = l*b\n",
    "    print(a)\n",
    "\n",
    "    \n",
    "def volume(a,b,c): #function with parameter\n",
    "    v = l*b*h\n",
    "    print(v)\n",
    "    \n",
    "area(l,b) #function with arrgument #should be variable same                            #function call\n",
    "volume(l,b,h) #function with argument"
   ]
  },
  {
   "cell_type": "code",
   "execution_count": 12,
   "id": "e9e3b6d0",
   "metadata": {},
   "outputs": [
    {
     "name": "stdout",
     "output_type": "stream",
     "text": [
      "Enter l = 1\n",
      "Enter b = 2\n",
      "Enter h = 3\n",
      "2\n",
      "6\n"
     ]
    }
   ],
   "source": [
    "l = int(input(\"Enter l = \")) #global variable\n",
    "b = int(input(\"Enter b = \")) #global variable\n",
    "h = int(input(\"Enter h = \")) #global variable\n",
    "\n",
    "def area():                       #defining function\n",
    "    a = l*b\n",
    "    print(a)\n",
    "    \n",
    "def volume():\n",
    "    v = l*b*h\n",
    "    print(v)\n",
    "    \n",
    "area()                            #function call\n",
    "volume()"
   ]
  },
  {
   "cell_type": "markdown",
   "id": "7ecfad10",
   "metadata": {},
   "source": [
    "# function type:\n",
    "* arrgument\n",
    "* return values which are divided\n"
   ]
  },
  {
   "cell_type": "code",
   "execution_count": 21,
   "id": "2b6c90ec",
   "metadata": {},
   "outputs": [
    {
     "name": "stdout",
     "output_type": "stream",
     "text": [
      "Enter l = 1\n",
      "Enter b = 2\n",
      "Enter h = 3\n",
      "6\n"
     ]
    }
   ],
   "source": [
    "#arrgument \n",
    "\n",
    "# note:\n",
    "#arrgument is that function which input the value from global \n",
    "l = int(input(\"Enter l = \")) #global variable#suppose these was in next line\n",
    "b = int(input(\"Enter b = \")) #global variable\n",
    "h = int(input(\"Enter h = \")) #global variable\n",
    "def cal(l,b,h):            #defining call() function\n",
    "    a = l* b\n",
    "    v= l*b*h\n",
    "    print(v)\n",
    "\n",
    "cal(l,b,h)       #function argument \n"
   ]
  },
  {
   "cell_type": "markdown",
   "id": "4b91180c",
   "metadata": {},
   "source": [
    "# function with argument and parameter"
   ]
  },
  {
   "cell_type": "markdown",
   "id": "b78b7f0e",
   "metadata": {},
   "source": [
    "# function with arrgument:\n",
    "* function with arrgument is function which carry the value from user\n",
    "*just like when ever we fill the form and submit. then when we press submit buttom it takes the value. which is function with arrgument.\n",
    "\n",
    "note:-\n",
    "parameter "
   ]
  },
  {
   "cell_type": "code",
   "execution_count": 24,
   "id": "1090b433",
   "metadata": {},
   "outputs": [
    {
     "name": "stdout",
     "output_type": "stream",
     "text": [
      "Enter l = 1\n",
      "Enter b = 2\n",
      "Enter h = 5\n",
      "2\n",
      "10\n"
     ]
    }
   ],
   "source": [
    "# function with arguments\n",
    "l = int(input(\"Enter l = \")) #global variable\n",
    "b = int(input(\"Enter b = \")) #global variable\n",
    "h = int(input(\"Enter h = \")) #global variable\n",
    "\n",
    "def cal(x,y,z):              #defining function with parameter\n",
    "    a = x*y\n",
    "    v = x*y*z\n",
    "    print(a)\n",
    "    print(v)\n",
    "\n",
    "    \n",
    "cal(l,b,h)                    #function call with arguments"
   ]
  },
  {
   "cell_type": "markdown",
   "id": "dd1dc1e2",
   "metadata": {},
   "source": [
    "#arrgument should be same with variable of enter .\n",
    "but parameter can be different than arrgument/ variable user input"
   ]
  },
  {
   "cell_type": "code",
   "execution_count": null,
   "id": "6da2f064",
   "metadata": {},
   "outputs": [],
   "source": [
    "# function with arguments\n",
    "l = int(input(\"Enter l = \")) #global variable\n",
    "b = int(input(\"Enter b = \")) #global variable\n",
    "h = int(input(\"Enter h = \")) #global variable\n",
    "\n",
    "def cal(x,y,z):              #defining function with parameter\n",
    "    a = x*y\n",
    "    v = x*y*z\n",
    "    print(a)\n",
    "    print(v)\n",
    "\n",
    "    \n",
    "cal(l,b,h)                    #function call with arguments"
   ]
  },
  {
   "cell_type": "code",
   "execution_count": null,
   "id": "a8dd0968",
   "metadata": {},
   "outputs": [],
   "source": [
    "In Python (and many other programming languages), parameter names in a function definition serve as placeholders for values that will be passed into the function when it is called. The names you give to the parameters are like variables that are only valid within the scope of the function.\n",
    "\n",
    "Here's why parameter names and operation variables should ideally match:\n",
    "\n",
    "Readability and Clarity: When the parameter names match the variables used within the function, it enhances readability. Someone reading your code can easily understand what each parameter represents and how they're used within the function.\n",
    "\n",
    "Avoiding Confusion: If you use different names for parameters and the variables used in operations within the function, it might lead to confusion, especially in more complex functions. Matching names help avoid this confusion.\n",
    "\n",
    "Correctness: While it's not strictly required for the code to function correctly, matching names can prevent errors and make it easier to debug if something goes wrong. If you inadvertently use different names, you might mistakenly refer to the wrong variable or parameter, leading to incorrect results.\n",
    "\n",
    "Consider the function you provided earlier:"
   ]
  },
  {
   "cell_type": "code",
   "execution_count": null,
   "id": "041a33a0",
   "metadata": {},
   "outputs": [],
   "source": []
  },
  {
   "cell_type": "code",
   "execution_count": null,
   "id": "ed37be4b",
   "metadata": {},
   "outputs": [],
   "source": [
    "# function with arguments\n",
    "def cal(data):              #defining function with parameter\n",
    "    x,y,z = data\n",
    "    a = x*y\n",
    "    v = x*y*z\n",
    "    print(a)\n",
    "    print(v)\n",
    "\n",
    "l = int(input(\"Enter l = \")) #global variable\n",
    "b = int(input(\"Enter b = \")) #global variable\n",
    "h = int(input(\"Enter h = \")) #global variable\n",
    "data = [l,b,h]\n",
    "cal(data)                    #function call with arguments"
   ]
  },
  {
   "cell_type": "markdown",
   "id": "309afd59",
   "metadata": {},
   "source": [
    "# suppose we have to carry more arrgument then we can use list, tupple and dict. can also used as arrgument  "
   ]
  },
  {
   "cell_type": "code",
   "execution_count": null,
   "id": "79d2c32d",
   "metadata": {},
   "outputs": [],
   "source": [
    "# function with arguments\n",
    "def cal(data):              #defining function with parameter\n",
    "    x,y,z = data # parameter\n",
    "    a = x*y\n",
    "    v = x*y*z\n",
    "    print(a)\n",
    "    print(v)\n",
    "\n",
    "l = int(input(\"Enter l = \")) #global variable\n",
    "b = int(input(\"Enter b = \")) #global variable\n",
    "h = int(input(\"Enter h = \")) #global variable\n",
    "data = [l,b,h]\n",
    "cal(data)                    #function call with arguments"
   ]
  },
  {
   "cell_type": "code",
   "execution_count": 25,
   "id": "bf914fac",
   "metadata": {},
   "outputs": [
    {
     "name": "stdout",
     "output_type": "stream",
     "text": [
      "C\n",
      "C++\n",
      "Java\n",
      "R\n",
      "Python\n"
     ]
    }
   ],
   "source": [
    "def language(lan = \"Python\"): # defult parameter\n",
    "    print(lan)\n",
    "    \n",
    "language(\"C\")                             # sending 'C' arrgument\n",
    "language(\"C++\")                           # sending 'C++' arrgument\n",
    "language(\"Java\")                          # sending the 'Java'\n",
    "language(\"R\")\n",
    "language()                # if not given arrgument then it print python"
   ]
  },
  {
   "cell_type": "markdown",
   "id": "d5b29b41",
   "metadata": {},
   "source": [
    "# return function"
   ]
  },
  {
   "cell_type": "code",
   "execution_count": 35,
   "id": "af722260",
   "metadata": {},
   "outputs": [
    {
     "name": "stdout",
     "output_type": "stream",
     "text": [
      "hello I am python\n"
     ]
    }
   ],
   "source": [
    "# Return type function\n",
    "def hello():\n",
    "    return \"hello\"\n",
    "\n",
    "# print(hello())\n",
    "x = hello() # call hello() function\n",
    "print(x + \" I am python\")\n"
   ]
  },
  {
   "cell_type": "markdown",
   "id": "63bbac27",
   "metadata": {},
   "source": [
    "# function with arguments and return type"
   ]
  },
  {
   "cell_type": "code",
   "execution_count": 36,
   "id": "7c57331a",
   "metadata": {},
   "outputs": [
    {
     "name": "stdout",
     "output_type": "stream",
     "text": [
      "Enter l = 2\n",
      "Enter b =  2\n",
      "Enter h = 12\n",
      "48\n",
      "4\n"
     ]
    }
   ],
   "source": [
    "# function with arguments and return type\n",
    "l = int(input(\"Enter l = \")) #global variable\n",
    "b = int(input(\"Enter b = \")) #global variable\n",
    "h = int(input(\"Enter h = \")) #global variable\n",
    "\n",
    "def cal(x,y):              #defining function with parameter\n",
    "    a = x*y\n",
    "    return a\n",
    "\n",
    "    \n",
    "area = cal(l,b)                    #function call with arguments\n",
    "volume = area *h \n",
    "print(volume)\n",
    "print(area)\n"
   ]
  },
  {
   "cell_type": "markdown",
   "id": "0f2e80b1",
   "metadata": {},
   "source": [
    "# below code is change into above code"
   ]
  },
  {
   "cell_type": "code",
   "execution_count": null,
   "id": "225f38e1",
   "metadata": {},
   "outputs": [],
   "source": [
    "# function with arguments\n",
    "l = int(input(\"Enter l = \")) #global variable\n",
    "b = int(input(\"Enter b = \")) #global variable\n",
    "h = int(input(\"Enter h = \")) #global variable\n",
    "\n",
    "def cal(x,y,z):              #defining function with parameter\n",
    "    a = x*y\n",
    "    v = x*y*z\n",
    "    print(a)\n",
    "    print(v)\n",
    "\n",
    "    \n",
    "cal(l,b,h)                    #function call with arguments"
   ]
  },
  {
   "cell_type": "markdown",
   "id": "4dde3056",
   "metadata": {},
   "source": [
    "# function with arguments with more than two values.\n",
    "which are placed in tuple type"
   ]
  },
  {
   "cell_type": "code",
   "execution_count": 37,
   "id": "eccaccae",
   "metadata": {},
   "outputs": [
    {
     "name": "stdout",
     "output_type": "stream",
     "text": [
      "Enter l = 1\n",
      "Enter b = 2\n",
      "Enter h = 3\n",
      "(2, 6)\n"
     ]
    }
   ],
   "source": [
    "# function with arguments\n",
    "l = int(input(\"Enter l = \")) #global variable\n",
    "b = int(input(\"Enter b = \")) #global variable\n",
    "h = int(input(\"Enter h = \")) #global variable\n",
    "\n",
    "def cal(x,y,z):              #defining function with parameter\n",
    "    a = x*y\n",
    "    v = x*y*z\n",
    "    return a,v\n",
    "\n",
    "    \n",
    "print(cal(l,b,h))                    #function call with arguments\n",
    "# area,volume = cal(l,b,h)\n",
    "# print(area)\n",
    "# print(volume)# since both aer in saem line , if we want to \n",
    "#print different area and volume then \n",
    "#unlock the comment of above line "
   ]
  },
  {
   "cell_type": "markdown",
   "id": "5197a71e",
   "metadata": {},
   "source": [
    "# WAP a calculator with return type function"
   ]
  },
  {
   "cell_type": "code",
   "execution_count": 1,
   "id": "8dc71887",
   "metadata": {},
   "outputs": [
    {
     "name": "stdout",
     "output_type": "stream",
     "text": [
      "Enter a = 54\n",
      "Enter b = 0\n",
      "Enter + or - or * or /  /\n",
      "the value of b cannot be zero\n"
     ]
    }
   ],
   "source": [
    "#function should be always small\n",
    "#capital letter is class\n",
    "a = int(input(\"Enter a = \"))\n",
    "b = int(input(\"Enter b = \"))\n",
    "o = input(\"Enter + or - or * or /  \")\n",
    "def cal(a,b,o):\n",
    "    if o == '+':\n",
    "        print(a+b)\n",
    "    elif o == '-':\n",
    "        print(a-b)\n",
    "    elif o == '*':\n",
    "        print(a*b)\n",
    "    elif (o=='/')and (b!= 0):\n",
    "        print(a/b)\n",
    "    elif (o=='/') and (b== 0):\n",
    "        print(\"the value of b cannot be zero\")\n",
    "    else:\n",
    "        print(\"Enter valid operator\")\n",
    "    \n",
    "cal(a,b,o)"
   ]
  },
  {
   "cell_type": "markdown",
   "id": "2316a413",
   "metadata": {},
   "source": [
    "# WAP to return function"
   ]
  },
  {
   "cell_type": "code",
   "execution_count": null,
   "id": "a00a16e2",
   "metadata": {},
   "outputs": [],
   "source": [
    "#main work is done in function we define a+b.a-b etc\n",
    "\n",
    "a = int(input(\"Enter a = \"))\n",
    "b = int(input(\"Enter b = \"))\n",
    "o = input(\"Enter + or - or * or /  \")\n",
    "def add(a,b):\n",
    "    return a+b\n",
    "def sub(a,b):\n",
    "    return a-b\n",
    "def mul(a,b):\n",
    "    return a*b\n",
    "def div(a,b):\n",
    "    return a/b # note we are calling the div()\n",
    "def cal(a,b,o):\n",
    "    if o == '+':\n",
    "        print(add(a,b))\n",
    "    elif o == '-':\n",
    "        print(sub(a,b))\n",
    "    elif o == '*':\n",
    "        print(mul(a,b))\n",
    "    elif (o == '/') and (b != 0):\n",
    "        print(div(a,b))\n",
    "    elif (o == '/') and (b == 0):\n",
    "        print(\"The value of b can not be zero when o = /\")\n",
    "    else:\n",
    "        print(\"Enter valid operator\")\n",
    "cal(a,b,o)"
   ]
  },
  {
   "cell_type": "code",
   "execution_count": null,
   "id": "7c203bbf",
   "metadata": {},
   "outputs": [],
   "source": []
  },
  {
   "cell_type": "markdown",
   "id": "5d442ce6",
   "metadata": {},
   "source": [
    "# using function in bill"
   ]
  },
  {
   "cell_type": "code",
   "execution_count": null,
   "id": "b000db13",
   "metadata": {},
   "outputs": [],
   "source": [
    "# name, price, quantity, total all_total\n",
    "bill = str()\n",
    "all_total = 0\n",
    "n = int(input(\"Enter n = \"))\n",
    "\n",
    "def billing_system(n):\n",
    "    global bill,all_total\n",
    "    for i in range(n):\n",
    "        name = input(\"Enter name = \")\n",
    "        price = int(input(\"Enter price = \"))\n",
    "        qty = float(input(\"Enter quantity = \"))\n",
    "        total = price * qty\n",
    "        bill = bill + f\"{name} {price} {qty} {total}\\n\"\n",
    "        all_total = all_total + total\n",
    "    return bill,all_total\n",
    "\n",
    "bill,all_total = billing_system(n)\n",
    "print(bill)\n",
    "print(all_total)"
   ]
  },
  {
   "cell_type": "markdown",
   "id": "88e4ad7c",
   "metadata": {},
   "source": [
    "# billing raw data of code"
   ]
  },
  {
   "cell_type": "markdown",
   "id": "6ebcc2b1",
   "metadata": {},
   "source": [
    "function inside loop is easier than loop inside function"
   ]
  },
  {
   "cell_type": "code",
   "execution_count": 3,
   "id": "acc98ded",
   "metadata": {},
   "outputs": [
    {
     "name": "stdout",
     "output_type": "stream",
     "text": [
      "Enter how many iteam do you bought2\n",
      "Enter the  name = apple\n",
      "Enter the price =320\n",
      "Enter qty = 2\n",
      "Enter the  name = orange\n",
      "Enter the price =150\n",
      "Enter qty = 3\n",
      "apple 320 2.0 640.0\n",
      "orange 150 3.0 450.0\n",
      "\n",
      "Total price is = 1090.0\n"
     ]
    }
   ],
   "source": [
    "bill = \"\"# note we can also write str()\n",
    "all_total = 0# bill are all_total is define outside the function then we have to make them global by using global key word. \n",
    "\n",
    "n = int(input(\"Enter how many iteam do you bought\"))\n",
    "def billing_system(n):\n",
    "    global bill,all_total  #loop outsdie the global    \n",
    "    for i in range(n):\n",
    "        name = input(\"Enter the  name = \")\n",
    "        price = int(input(\"Enter the price =\"))\n",
    "        qty = float(input(\"Enter qty = \"))\n",
    "        total = price * qty\n",
    "        bill = bill + f\"{name} {price} {qty} {total}\\n\"\n",
    "        all_total = all_total + total\n",
    "    return bill,all_total# return function should be outside loop\n",
    "\n",
    "bill,all_total = billing_system(n)       \n",
    "print(bill)\n",
    "print(\"Total price is =\",all_total)"
   ]
  },
  {
   "cell_type": "markdown",
   "id": "05569657",
   "metadata": {},
   "source": [
    "                #Note IPT.;\n",
    "in above code all total and bill is define outside of function . but we are giving the value from inside function than we have to make them a \"global variable \"which is shown above code\n",
    "*global function is used to make local variable to global variable\n",
    "*if any variable are chnage from inside function but define at outside of variable the we have to make them global variable by using global"
   ]
  },
  {
   "cell_type": "markdown",
   "id": "f1177203",
   "metadata": {},
   "source": [
    "# error since not defining the global for bill and all_total"
   ]
  },
  {
   "cell_type": "code",
   "execution_count": 4,
   "id": "18b791a9",
   "metadata": {},
   "outputs": [
    {
     "name": "stdout",
     "output_type": "stream",
     "text": [
      "Enter how many iteam do you bought2\n",
      "Enter the  name = apple\n",
      "Enter the price =320\n",
      "Enter qty = 5\n"
     ]
    },
    {
     "ename": "UnboundLocalError",
     "evalue": "cannot access local variable 'bill' where it is not associated with a value",
     "output_type": "error",
     "traceback": [
      "\u001b[1;31m---------------------------------------------------------------------------\u001b[0m",
      "\u001b[1;31mUnboundLocalError\u001b[0m                         Traceback (most recent call last)",
      "Cell \u001b[1;32mIn[4], line 16\u001b[0m\n\u001b[0;32m     13\u001b[0m         all_total \u001b[38;5;241m=\u001b[39m all_total \u001b[38;5;241m+\u001b[39m total\n\u001b[0;32m     14\u001b[0m     \u001b[38;5;28;01mreturn\u001b[39;00m bill,all_total\u001b[38;5;66;03m# return function should be outside loop\u001b[39;00m\n\u001b[1;32m---> 16\u001b[0m bill,all_total \u001b[38;5;241m=\u001b[39m \u001b[43mbilling_system\u001b[49m\u001b[43m(\u001b[49m\u001b[43mn\u001b[49m\u001b[43m)\u001b[49m       \n\u001b[0;32m     17\u001b[0m \u001b[38;5;28mprint\u001b[39m(bill)\n\u001b[0;32m     18\u001b[0m \u001b[38;5;28mprint\u001b[39m(\u001b[38;5;124m\"\u001b[39m\u001b[38;5;124mTotal price is =\u001b[39m\u001b[38;5;124m\"\u001b[39m,all_total)\n",
      "Cell \u001b[1;32mIn[4], line 12\u001b[0m, in \u001b[0;36mbilling_system\u001b[1;34m(n)\u001b[0m\n\u001b[0;32m     10\u001b[0m     qty \u001b[38;5;241m=\u001b[39m \u001b[38;5;28mfloat\u001b[39m(\u001b[38;5;28minput\u001b[39m(\u001b[38;5;124m\"\u001b[39m\u001b[38;5;124mEnter qty = \u001b[39m\u001b[38;5;124m\"\u001b[39m))\n\u001b[0;32m     11\u001b[0m     total \u001b[38;5;241m=\u001b[39m price \u001b[38;5;241m*\u001b[39m qty\n\u001b[1;32m---> 12\u001b[0m     bill \u001b[38;5;241m=\u001b[39m \u001b[43mbill\u001b[49m \u001b[38;5;241m+\u001b[39m \u001b[38;5;124mf\u001b[39m\u001b[38;5;124m\"\u001b[39m\u001b[38;5;132;01m{\u001b[39;00mname\u001b[38;5;132;01m}\u001b[39;00m\u001b[38;5;124m \u001b[39m\u001b[38;5;132;01m{\u001b[39;00mprice\u001b[38;5;132;01m}\u001b[39;00m\u001b[38;5;124m \u001b[39m\u001b[38;5;132;01m{\u001b[39;00mqty\u001b[38;5;132;01m}\u001b[39;00m\u001b[38;5;124m \u001b[39m\u001b[38;5;132;01m{\u001b[39;00mtotal\u001b[38;5;132;01m}\u001b[39;00m\u001b[38;5;130;01m\\n\u001b[39;00m\u001b[38;5;124m\"\u001b[39m\n\u001b[0;32m     13\u001b[0m     all_total \u001b[38;5;241m=\u001b[39m all_total \u001b[38;5;241m+\u001b[39m total\n\u001b[0;32m     14\u001b[0m \u001b[38;5;28;01mreturn\u001b[39;00m bill,all_total\n",
      "\u001b[1;31mUnboundLocalError\u001b[0m: cannot access local variable 'bill' where it is not associated with a value"
     ]
    }
   ],
   "source": [
    "bill = \"\"# note we can also write str()\n",
    "all_total = 0# bill are all_total is define outside the function then we have to make them global by using global key word. \n",
    "\n",
    "n = int(input(\"Enter how many iteam do you bought\"))\n",
    "def billing_system(n):\n",
    "#     global bill,all_total  #loop outsdie the global    \n",
    "    for i in range(n):\n",
    "        name = input(\"Enter the  name = \")\n",
    "        price = int(input(\"Enter the price =\"))\n",
    "        qty = float(input(\"Enter qty = \"))\n",
    "        total = price * qty\n",
    "        bill = bill + f\"{name} {price} {qty} {total}\\n\"\n",
    "        all_total = all_total + total\n",
    "    return bill,all_total# return function should be outside loop\n",
    "\n",
    "bill,all_total = billing_system(n)       \n",
    "print(bill)\n",
    "print(\"Total price is =\",all_total)"
   ]
  },
  {
   "cell_type": "code",
   "execution_count": null,
   "id": "eecd8308",
   "metadata": {},
   "outputs": [],
   "source": []
  }
 ],
 "metadata": {
  "kernelspec": {
   "display_name": "Python 3 (ipykernel)",
   "language": "python",
   "name": "python3"
  },
  "language_info": {
   "codemirror_mode": {
    "name": "ipython",
    "version": 3
   },
   "file_extension": ".py",
   "mimetype": "text/x-python",
   "name": "python",
   "nbconvert_exporter": "python",
   "pygments_lexer": "ipython3",
   "version": "3.11.3"
  }
 },
 "nbformat": 4,
 "nbformat_minor": 5
}
