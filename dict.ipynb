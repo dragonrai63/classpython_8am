{
 "cells": [
  {
   "cell_type": "markdown",
   "id": "4692beb0",
   "metadata": {},
   "source": [
    "no any addition operatror is used "
   ]
  },
  {
   "cell_type": "markdown",
   "id": "bb95bac1",
   "metadata": {},
   "source": [
    "to view the dict. iteam\n",
    "1. no any search is done\n",
    "2."
   ]
  },
  {
   "cell_type": "code",
   "execution_count": 8,
   "id": "009dfe26",
   "metadata": {},
   "outputs": [
    {
     "name": "stdout",
     "output_type": "stream",
     "text": [
      "ap b c \n",
      "apple ball çat "
     ]
    }
   ],
   "source": [
    "d = {'ap':'apple',\n",
    "    'b':'ball',\n",
    "    'c':'çat'}\n",
    "for i in d:    #only print keys\n",
    "    print(i,end=' ')\n",
    "print()\n",
    "for i in d.values():# note only print value\n",
    "    print(i,end=' ')"
   ]
  },
  {
   "cell_type": "markdown",
   "id": "13f18c39",
   "metadata": {},
   "source": [
    "if you want to print keys and value at same time :\n"
   ]
  },
  {
   "cell_type": "code",
   "execution_count": 12,
   "id": "12be4a09",
   "metadata": {},
   "outputs": [
    {
     "name": "stdout",
     "output_type": "stream",
     "text": [
      "('ap', 'apple') ('b', 'ball') ('c', 'çat') "
     ]
    }
   ],
   "source": [
    "for i in d.items():\n",
    "    print(i,end= ' ') # value will be shown in tupple \n",
    "    "
   ]
  },
  {
   "cell_type": "markdown",
   "id": "dc2e96b5",
   "metadata": {},
   "source": [
    "#convert the list into dict. but need few conditon "
   ]
  },
  {
   "cell_type": "code",
   "execution_count": 20,
   "id": "4fbc7c1b",
   "metadata": {},
   "outputs": [
    {
     "data": {
      "text/plain": [
       "{'a': 'apple', 'b': 'balls', 'c': 'class'}"
      ]
     },
     "execution_count": 20,
     "metadata": {},
     "output_type": "execute_result"
    }
   ],
   "source": [
    "a = [['a','apple'],['b','balls'],['c','class']]# two string should be there\n",
    "dict(a)\n"
   ]
  },
  {
   "cell_type": "code",
   "execution_count": 24,
   "id": "e129bd53",
   "metadata": {},
   "outputs": [
    {
     "name": "stdout",
     "output_type": "stream",
     "text": [
      "['a', 'b', 'c']\n",
      "[('a', 'apple'), ('b', 'balls'), ('c', 'class')]\n"
     ]
    }
   ],
   "source": [
    "b={'a': 'apple', 'b': 'balls', 'c': 'class'}\n",
    "print(list(b))#note only keys will print\n",
    "print((list(b.items()))) #this will print keys and value"
   ]
  },
  {
   "cell_type": "markdown",
   "id": "e3605917",
   "metadata": {},
   "source": [
    "#To create dictonary \n",
    "1. dict{}\n",
    "2. d = {}\n",
    "3. for indexing the dict [] is used "
   ]
  },
  {
   "cell_type": "code",
   "execution_count": 31,
   "id": "28076a9d",
   "metadata": {},
   "outputs": [
    {
     "name": "stdout",
     "output_type": "stream",
     "text": [
      "{'k': 'kiran', 'h': 'hari', 'r': 'ram', 's': 'sita'}\n",
      "{'k': 'dragon', 'h': 'helicopter', 'r': 'ram', 's': 'sita', 'a': 'apple'}\n"
     ]
    }
   ],
   "source": [
    "#to add value \n",
    "name = {'k':'kiran','h':'hari','r':'ram','s':'sita'}\n",
    "print(name)\n",
    "name['k']= 'dragon' #note key'k' value will be change to 'dragon'\n",
    "name['h']='helicopter'\n",
    "name['a']='apple'#note it can add new key and value\n",
    "print(name)"
   ]
  },
  {
   "cell_type": "markdown",
   "id": "f5fcf28b",
   "metadata": {},
   "source": [
    "1. To delet the value used \n",
    "1. del name['']\n",
    "3.pop()\n"
   ]
  },
  {
   "cell_type": "markdown",
   "id": "ac6e8b4a",
   "metadata": {},
   "source": [
    "# del at dict"
   ]
  },
  {
   "cell_type": "code",
   "execution_count": 35,
   "id": "ed76ac62",
   "metadata": {},
   "outputs": [
    {
     "name": "stdout",
     "output_type": "stream",
     "text": [
      "{'k': 'kiran', 'h': 'hari', 'r': 'ram', 's': 'sita'}\n",
      "{'h': 'hari', 'r': 'ram', 's': 'sita'}\n"
     ]
    }
   ],
   "source": [
    "name = {'k':'kiran','h':'hari','r':'ram','s':'sita'}\n",
    "#del name['kiran']# for deleting we have to used oinly key not a value\n",
    "print(name)\n",
    "del name['k']# only use key \n",
    "print(name)"
   ]
  },
  {
   "cell_type": "code",
   "execution_count": 40,
   "id": "bf83d4b5",
   "metadata": {},
   "outputs": [
    {
     "name": "stdout",
     "output_type": "stream",
     "text": [
      "{'k': 'kiran', 'r': 'ram', 's': 'sita'}\n",
      "hari\n"
     ]
    }
   ],
   "source": [
    "name = {'k':'kiran','h':'hari','r':'ram','s':'sita'}\n",
    "c = name.pop('h')\n",
    "print(name)\n",
    "print(c) # by using pop we can move the value in another variable"
   ]
  },
  {
   "cell_type": "code",
   "execution_count": 39,
   "id": "d1ce853b",
   "metadata": {},
   "outputs": [
    {
     "name": "stdout",
     "output_type": "stream",
     "text": [
      "{'k': 'kiran', 'r': 'ram', 's': 'sita'}\n"
     ]
    }
   ],
   "source": []
  },
  {
   "cell_type": "markdown",
   "id": "0b245525",
   "metadata": {},
   "source": [
    "# To create the dict from user\n"
   ]
  },
  {
   "cell_type": "code",
   "execution_count": 43,
   "id": "ae343659",
   "metadata": {},
   "outputs": [
    {
     "name": "stdout",
     "output_type": "stream",
     "text": [
      "enter the n =2\n",
      "enter name =ram \n",
      "enter phone=99898\n",
      "enter name =sita\n",
      "enter phone=24154545\n",
      "{'99898': 'ram ', '24154545': 'sita'}\n"
     ]
    }
   ],
   "source": [
    "d ={}\n",
    "n = int (input(\"enter the n =\"))\n",
    "for i in range(n):\n",
    "    name= input(\"enter name =\")\n",
    "    phone= input(\"enter phone=\")\n",
    "    d[phone]= name # take phone nbr as key, since we have to take key value unique\n",
    "print(d)"
   ]
  },
  {
   "cell_type": "code",
   "execution_count": 44,
   "id": "39d3f412",
   "metadata": {},
   "outputs": [
    {
     "name": "stdout",
     "output_type": "stream",
     "text": [
      "enter the n =2\n",
      "enter name =ram\n",
      "enter phone=981736498\n",
      "enter name =ram\n",
      "enter phone=9898\n",
      "{'ram': '9898'}\n"
     ]
    }
   ],
   "source": [
    "d ={}\n",
    "n = int (input(\"enter the n =\"))\n",
    "for i in range(n):\n",
    "    name= input(\"enter name =\")\n",
    "    phone= input(\"enter phone=\")\n",
    "    d[name]= phone\n",
    "print(d)\n",
    "# though we have given two value , only last one is printed \n",
    "#since key is same so last value will update above value"
   ]
  },
  {
   "cell_type": "markdown",
   "id": "318a78c6",
   "metadata": {},
   "source": [
    "#if we have same name with two value then we have to do\n",
    "follow steps:-\n"
   ]
  },
  {
   "cell_type": "code",
   "execution_count": 45,
   "id": "93791cfc",
   "metadata": {},
   "outputs": [
    {
     "name": "stdout",
     "output_type": "stream",
     "text": [
      "{'ram': [9817364835, 9841173865], 'hari': [9817364147, 98427568900]}\n"
     ]
    }
   ],
   "source": [
    "#list inside dict # if user have multiple value in same key\n",
    "d = {'ram':[9817364835,9841173865],\n",
    "    'hari':[9817364147,98427568900]}\n",
    "print(d)"
   ]
  },
  {
   "cell_type": "code",
   "execution_count": 46,
   "id": "05ba7cf1",
   "metadata": {},
   "outputs": [
    {
     "name": "stdout",
     "output_type": "stream",
     "text": [
      "[9817364835, 9841173865]\n",
      "9817364835\n"
     ]
    }
   ],
   "source": [
    "print(d['ram'])\n",
    "print(d['ram'][0]) # to read the value of ram \n"
   ]
  },
  {
   "cell_type": "code",
   "execution_count": 50,
   "id": "26051aa4",
   "metadata": {},
   "outputs": [
    {
     "name": "stdout",
     "output_type": "stream",
     "text": [
      "enter the n =2\n",
      "enter name =ram\n",
      "enter  ncell phone=98172\n",
      "enter  ntc phone=98142\n",
      "enter name =ram\n",
      "enter  ncell phone=0000\n",
      "enter  ntc phone=1233\n",
      "{'ram': [0, 1233]}\n"
     ]
    }
   ],
   "source": [
    "d ={}\n",
    "n = int (input(\"enter the n =\"))\n",
    "for i in range(n):\n",
    "    name= input(\"enter name =\")\n",
    "    ncell_phone= int(input(\"enter  ncell phone=\"))\n",
    "    ntc_phone= int(input(\"enter  ntc phone=\"))\n",
    "    d[name]= [ncell_phone,ntc_phone]\n",
    "print(d)\n",
    "#note what if name is same then value will change"
   ]
  },
  {
   "cell_type": "code",
   "execution_count": 52,
   "id": "06ff25a2",
   "metadata": {},
   "outputs": [
    {
     "data": {
      "text/plain": [
       "{'name': ['ram', 'hari', 'shyam'],\n",
       " 'ncell_phone': [9817364835, 9818475, 9817568565],\n",
       " 'ntc_phone': [9841, 9842, 984170]}"
      ]
     },
     "execution_count": 52,
     "metadata": {},
     "output_type": "execute_result"
    }
   ],
   "source": [
    "d = {'name':['ram','hari','shyam'],\n",
    "    'ncell_phone':[9817364835,9818475,9817568565],\n",
    "    'ntc_phone':[9841,9842,984170]}\n",
    "d"
   ]
  },
  {
   "cell_type": "code",
   "execution_count": 56,
   "id": "4dd999f7",
   "metadata": {},
   "outputs": [
    {
     "name": "stdout",
     "output_type": "stream",
     "text": [
      "enter the n =2\n",
      "enter name =ram\n",
      "enter  ncell phone=98173\n",
      "enter  ntc phone=9841\n",
      "enter name =sita\n",
      "enter  ncell phone=98017\n",
      "enter  ntc phone=9843\n",
      "{'name': ['ram', 'sita'], 'ncell_phone': [98173, 98017], 'ntc_phone': [9841, 9843]}\n"
     ]
    }
   ],
   "source": [
    "d ={'name':[],\n",
    "   'ncell_phone':[],\n",
    "   'ntc_phone':[]}\n",
    "\n",
    "n = int (input(\"enter the n =\"))\n",
    "for i in range(n):\n",
    "    name= input(\"enter name =\")\n",
    "    ncell_phone= int(input(\"enter  ncell phone=\"))\n",
    "    ntc_phone= int(input(\"enter  ntc phone=\"))\n",
    "    d['name'].append(name)\n",
    "    d['ncell_phone'].append(ncell_phone)\n",
    "    d['ntc_phone'].append(ntc_phone)\n",
    "    \n",
    "print(d)"
   ]
  },
  {
   "cell_type": "code",
   "execution_count": 58,
   "id": "383421c2",
   "metadata": {},
   "outputs": [
    {
     "name": "stdout",
     "output_type": "stream",
     "text": [
      "ram 98173 9841\n"
     ]
    }
   ],
   "source": [
    "print(d['name'][0],d['ncell_phone'][0],d['ntc_phone'][0])\n"
   ]
  },
  {
   "cell_type": "markdown",
   "id": "96043ac1",
   "metadata": {},
   "source": [
    "# how to create and how to read it. is impt."
   ]
  },
  {
   "cell_type": "code",
   "execution_count": 61,
   "id": "11336cf3",
   "metadata": {},
   "outputs": [
    {
     "data": {
      "text/plain": [
       "[{'name': 'ram', 'age': 34, 'add': 'kathmandu'},\n",
       " {'name': 'shyam', 'age': 44, 'add': 'urlabari'},\n",
       " {'name': 'hari', 'age': 34, 'add': 'damak'}]"
      ]
     },
     "execution_count": 61,
     "metadata": {},
     "output_type": "execute_result"
    }
   ],
   "source": [
    "#dict inside list\n",
    "d =[{'name':'ram','age':34,'add':'kathmandu'},\n",
    "     {'name':'shyam','age':44,'add':'urlabari'},\n",
    "     {'name':'hari','age':34,'add':'damak'}]\n",
    "d\n"
   ]
  },
  {
   "cell_type": "code",
   "execution_count": 69,
   "id": "bdfbaef8",
   "metadata": {},
   "outputs": [
    {
     "name": "stdout",
     "output_type": "stream",
     "text": [
      "{'name': 'ram', 'age': 34, 'add': 'kathmandu'}\n",
      "{'name': 'shyam', 'age': 44, 'add': 'urlabari'}\n"
     ]
    }
   ],
   "source": [
    "print(d[0])\n",
    "print(d[1])"
   ]
  },
  {
   "cell_type": "markdown",
   "id": "6beb4ea6",
   "metadata": {},
   "source": [
    "#how to crerate above value\n"
   ]
  },
  {
   "cell_type": "code",
   "execution_count": 71,
   "id": "46138906",
   "metadata": {},
   "outputs": [
    {
     "name": "stdout",
     "output_type": "stream",
     "text": [
      "enter any number = 2\n",
      "enter name =ram\n",
      "enter a age =33\n",
      "enter a add= damak\n",
      "enter name =sita\n",
      "enter a age =35\n",
      "enter a add= urlabari\n",
      "[{'name': 'ram', 'age': 33, 'add': 'damak'}, {'name': 'sita', 'age': 35, 'add': 'urlabari'}]\n"
     ]
    }
   ],
   "source": [
    "d =[]\n",
    "n = int(input(\"enter any number = \"))\n",
    "for i in range(n):\n",
    "    name= input(\"enter name =\")\n",
    "    age = int(input(\"enter a age =\"))\n",
    "    add = input(\"enter a add= \")\n",
    "    x= {'name': name, 'age': age, 'add': add}\n",
    "    d.append(x)\n",
    "print(d)"
   ]
  },
  {
   "cell_type": "code",
   "execution_count": null,
   "id": "25644aef",
   "metadata": {},
   "outputs": [],
   "source": [
    "1.create\n",
    "2.read\n",
    "3.update\n",
    "4.delet\n",
    "crud  a e d p\n",
    "1. add\n",
    "2.edit\n",
    "3.del\n",
    "4. print\n",
    "crood operation\n"
   ]
  }
 ],
 "metadata": {
  "kernelspec": {
   "display_name": "Python 3 (ipykernel)",
   "language": "python",
   "name": "python3"
  },
  "language_info": {
   "codemirror_mode": {
    "name": "ipython",
    "version": 3
   },
   "file_extension": ".py",
   "mimetype": "text/x-python",
   "name": "python",
   "nbconvert_exporter": "python",
   "pygments_lexer": "ipython3",
   "version": "3.11.3"
  }
 },
 "nbformat": 4,
 "nbformat_minor": 5
}
