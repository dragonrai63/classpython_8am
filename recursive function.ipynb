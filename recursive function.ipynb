{
 "cells": [
  {
   "cell_type": "markdown",
   "id": "b64fa45b",
   "metadata": {},
   "source": [
    "# recursive function"
   ]
  },
  {
   "cell_type": "code",
   "execution_count": 5,
   "id": "e1954661",
   "metadata": {},
   "outputs": [
    {
     "name": "stdout",
     "output_type": "stream",
     "text": [
      "Hello World\n"
     ]
    }
   ],
   "source": [
    "def hello():\n",
    "    print(\"Hello World\")\n",
    "#     hello()note when we run this code infinte time it goes since this code call itself\n",
    "hello()# call a hello () then it will run \"Hello world \"and call again hello() inside def function\n",
    "    \n"
   ]
  },
  {
   "cell_type": "code",
   "execution_count": 8,
   "id": "5898094a",
   "metadata": {},
   "outputs": [
    {
     "name": "stdout",
     "output_type": "stream",
     "text": [
      "Hello World\n",
      "enter y for more print =y\n",
      "Hello World\n",
      "enter y for more print =y\n",
      "Hello World\n",
      "enter y for more print =a\n"
     ]
    }
   ],
   "source": [
    "def hello():\n",
    "    print(\"Hello World\")\n",
    "    x = input(\"enter y for more print =\")\n",
    "    if x == 'y':\n",
    "        hello()\n",
    "# recursive function is to difficult , used most time a loop. it will get debug for long program   \n",
    "hello()"
   ]
  },
  {
   "cell_type": "markdown",
   "id": "c62fe7f0",
   "metadata": {},
   "source": [
    "# recursive function in bill"
   ]
  },
  {
   "cell_type": "code",
   "execution_count": null,
   "id": "862e78ce",
   "metadata": {},
   "outputs": [],
   "source": [
    "#raw that which is updated into recursive function in next line:\n",
    "\n",
    "\n",
    "# name, price, quantity, total all_total\n",
    "bill = str()\n",
    "all_total = 0\n",
    "n = int(input(\"Enter n = \"))\n",
    "\n",
    "def billing_system(n):\n",
    "    global bill,all_total\n",
    "    for i in range(n):\n",
    "        name = input(\"Enter name = \")\n",
    "        price = int(input(\"Enter price = \"))\n",
    "        qty = float(input(\"Enter quantity = \"))\n",
    "        total = price * qty\n",
    "        bill = bill + f\"{name} {price} {qty} {total}\\n\"\n",
    "        all_total = all_total + total\n",
    "    return bill,all_total\n",
    "\n",
    "bill,all_total = billing_system(n)\n",
    "print(bill)\n",
    "print(all_total)"
   ]
  },
  {
   "cell_type": "code",
   "execution_count": 2,
   "id": "78e7f6ba",
   "metadata": {},
   "outputs": [
    {
     "name": "stdout",
     "output_type": "stream",
     "text": [
      "Enter name = apple\n",
      "Enter price = 320\n",
      "Enter quantity = 2\n",
      "Press enter for more entry \n",
      "Enter name = banana\n",
      "Enter price = 120\n",
      "Enter quantity = .5\n",
      "Press enter for more entry lkmlk\n"
     ]
    }
   ],
   "source": [
    "# name, price, quantity, total all_total\n",
    "#above is orginal data:\n",
    "# bill = str()\n",
    "# all_total = 0\n",
    "# n = int(input(\"Enter n = \"))\n",
    "\n",
    "# def billing_system(n):\n",
    "#     global bill,all_total\n",
    "#     for i in range(n):\n",
    "#         name = input(\"Enter name = \")\n",
    "#         price = int(input(\"Enter price = \"))\n",
    "#         qty = float(input(\"Enter quantity = \"))\n",
    "#         total = price * qty\n",
    "#         bill = bill + f\"{name} {price} {qty} {total}\\n\"\n",
    "#         all_total = all_total + total\n",
    "#     return bill,all_total\n",
    "\n",
    "# bill,all_total = billing_system(n)\n",
    "# print(bill)\n",
    "# print(all_total)\n",
    "\n",
    "\n",
    "\n",
    "bill = []\n",
    "def billing_system():\n",
    "    global bill\n",
    "    name = input(\"Enter name = \")\n",
    "    price = int(input(\"Enter price = \"))\n",
    "    qty = float(input(\"Enter quantity = \"))\n",
    "    total = price * qty\n",
    "    bill = bill + [[name,price,qty,total]]\n",
    "    x = input(\"Press enter for more entry \")\n",
    "    if x == '':\n",
    "        billing_system()\n",
    "        \n",
    "billing_system()"
   ]
  },
  {
   "cell_type": "code",
   "execution_count": 3,
   "id": "3f2fe8fa",
   "metadata": {},
   "outputs": [
    {
     "data": {
      "text/plain": [
       "[['apple', 320, 2.0, 640.0], ['banana', 120, 0.5, 60.0]]"
      ]
     },
     "execution_count": 3,
     "metadata": {},
     "output_type": "execute_result"
    }
   ],
   "source": [
    "bill"
   ]
  },
  {
   "cell_type": "markdown",
   "id": "7d897785",
   "metadata": {},
   "source": [
    "# # # lambda function"
   ]
  },
  {
   "cell_type": "markdown",
   "id": "ff3374de",
   "metadata": {},
   "source": [
    "lambda function mostly used in apps development . which can be used in short task in one line code"
   ]
  },
  {
   "cell_type": "markdown",
   "id": "29c82f79",
   "metadata": {},
   "source": [
    "# structure\n",
    "#data science and AI \n",
    "# x = lambda <argument>:<operation>"
   ]
  },
  {
   "cell_type": "markdown",
   "id": "b141f5d2",
   "metadata": {},
   "source": [
    "# x = lambda a:a**2# short task can be done in lambda \n",
    "print(x(4)) # giving arrgument take\n",
    "# lambda function is also a return type function"
   ]
  },
  {
   "cell_type": "markdown",
   "id": "62ab7fc9",
   "metadata": {},
   "source": [
    "# if we can do a work without loop then it is best. sakay sama loop na chaluna ramro as for senior programmer ."
   ]
  },
  {
   "cell_type": "markdown",
   "id": "e0687e5d",
   "metadata": {},
   "source": [
    "# we can take more argument also "
   ]
  },
  {
   "cell_type": "code",
   "execution_count": 7,
   "id": "b6493ffe",
   "metadata": {},
   "outputs": [
    {
     "data": {
      "text/plain": [
       "50"
      ]
     },
     "execution_count": 7,
     "metadata": {},
     "output_type": "execute_result"
    }
   ],
   "source": [
    "x = lambda l,b:l*b # note x = object not a variable\n",
    "x(10,5)"
   ]
  },
  {
   "cell_type": "code",
   "execution_count": 9,
   "id": "c623dfe2",
   "metadata": {},
   "outputs": [
    {
     "name": "stdout",
     "output_type": "stream",
     "text": [
      "hello world\n"
     ]
    }
   ],
   "source": [
    "x = lambda a:a.lower()\n",
    "print(x(\"Hello World\"))"
   ]
  },
  {
   "cell_type": "markdown",
   "id": "43b67571",
   "metadata": {},
   "source": [
    "# some time lambda function no enough for task so we use below function"
   ]
  },
  {
   "cell_type": "markdown",
   "id": "147c4442",
   "metadata": {},
   "source": [
    "# # filter() map()"
   ]
  },
  {
   "cell_type": "markdown",
   "id": "f0847d1c",
   "metadata": {},
   "source": [
    "printing even number from list"
   ]
  },
  {
   "cell_type": "code",
   "execution_count": null,
   "id": "04ea7ce1",
   "metadata": {},
   "outputs": [],
   "source": [
    "a = [1,2,3,4,5,6,7,8,9,10]\n",
    "x = list(filter(lambda y:y%2==0, a))# no need to run loop\n",
    "x"
   ]
  },
  {
   "cell_type": "code",
   "execution_count": 10,
   "id": "33ac2a26",
   "metadata": {},
   "outputs": [
    {
     "data": {
      "text/plain": [
       "['Apple', 'Cat', 'Dog', 'Fish']"
      ]
     },
     "execution_count": 10,
     "metadata": {},
     "output_type": "execute_result"
    }
   ],
   "source": [
    "#filter in string\n",
    "a = [\"Apple\",\"ball\",\"Cat\",\"Dog\",\"Fish\"]\n",
    "x = list(filter(lambda y:y[0].isupper(), a))# i.supper is fucntion which check capital of first word\n",
    "x"
   ]
  },
  {
   "cell_type": "markdown",
   "id": "349d6303",
   "metadata": {},
   "source": [
    "# map() function"
   ]
  },
  {
   "cell_type": "markdown",
   "id": "568ee8b6",
   "metadata": {},
   "source": [
    "manuplication of data, edit updating of orginal data"
   ]
  },
  {
   "cell_type": "code",
   "execution_count": 15,
   "id": "2f3e0910",
   "metadata": {},
   "outputs": [
    {
     "name": "stdout",
     "output_type": "stream",
     "text": [
      "[1, 4, 9, 16, 25, 36, 49, 64, 81, 100]\n"
     ]
    }
   ],
   "source": [
    "a = [1,2,3,4,5,6,7,8,9,10]\n",
    "x = list(map(lambda y:y**2, a))\n",
    "print(x)"
   ]
  },
  {
   "cell_type": "markdown",
   "id": "3de971e5",
   "metadata": {},
   "source": [
    "# note in list we cannot do upper and lower .\n",
    "but using map we can do it?\n"
   ]
  },
  {
   "cell_type": "code",
   "execution_count": 16,
   "id": "e17ece11",
   "metadata": {},
   "outputs": [
    {
     "data": {
      "text/plain": [
       "['apple', 'ball', 'cat', 'dog', 'fish']"
      ]
     },
     "execution_count": 16,
     "metadata": {},
     "output_type": "execute_result"
    }
   ],
   "source": [
    "a = [\"Apple\",\"Ball\",\"Cat\",\"Dog\",\"Fish\"]\n",
    "x = list(map(lambda y:y.lower(), a))\n",
    "x"
   ]
  },
  {
   "cell_type": "markdown",
   "id": "3d29c456",
   "metadata": {},
   "source": [
    "# List Comprehension\n",
    "related to list and dict()"
   ]
  },
  {
   "cell_type": "markdown",
   "id": "6c3d9a28",
   "metadata": {},
   "source": [
    "before creating a list \n",
    "we do loop\n",
    ", and append at last"
   ]
  },
  {
   "cell_type": "code",
   "execution_count": 14,
   "id": "9f4a8948",
   "metadata": {},
   "outputs": [
    {
     "data": {
      "text/plain": [
       "[0, 1, 2, 3, 4, 5, 6, 7, 8, 9]"
      ]
     },
     "execution_count": 14,
     "metadata": {},
     "output_type": "execute_result"
    }
   ],
   "source": [
    "#List Comprehension\n",
    "a = [i for i in range(10)]\n",
    "a"
   ]
  },
  {
   "cell_type": "markdown",
   "id": "bf12427a",
   "metadata": {},
   "source": [
    "# if you want to take input from user then we can do below code"
   ]
  },
  {
   "cell_type": "code",
   "execution_count": 1,
   "id": "035307db",
   "metadata": {},
   "outputs": [
    {
     "name": "stdout",
     "output_type": "stream",
     "text": [
      "Enter x = 4\n",
      "Enter x = 4\n",
      "Enter x = 5\n",
      "Enter x = 7\n",
      "Enter x = 7\n"
     ]
    },
    {
     "data": {
      "text/plain": [
       "[4, 4, 5, 7, 7]"
      ]
     },
     "execution_count": 1,
     "metadata": {},
     "output_type": "execute_result"
    }
   ],
   "source": [
    "a = [int(input(\"Enter x = \")) for i in range(5)]\n",
    "a"
   ]
  },
  {
   "cell_type": "code",
   "execution_count": 2,
   "id": "209203d5",
   "metadata": {},
   "outputs": [
    {
     "name": "stdout",
     "output_type": "stream",
     "text": [
      "Enter x = name\n",
      "Enter x = kiran\n",
      "Enter x = rai\n",
      "Enter x = urlabrai\n",
      "Enter x = raa\n"
     ]
    },
    {
     "data": {
      "text/plain": [
       "['name', 'kiran', 'rai', 'urlabrai', 'raa']"
      ]
     },
     "execution_count": 2,
     "metadata": {},
     "output_type": "execute_result"
    }
   ],
   "source": [
    "a = [input(\"Enter x = \") for i in range(5)]\n",
    "a"
   ]
  },
  {
   "cell_type": "code",
   "execution_count": 3,
   "id": "1d7e028b",
   "metadata": {
    "scrolled": true
   },
   "outputs": [
    {
     "name": "stdout",
     "output_type": "stream",
     "text": [
      "Enter x = 1\n",
      "Enter x = 2\n",
      "Enter x = 3\n",
      "Enter x = 4\n",
      "Enter x = 5\n"
     ]
    },
    {
     "data": {
      "text/plain": [
       "15"
      ]
     },
     "execution_count": 3,
     "metadata": {},
     "output_type": "execute_result"
    }
   ],
   "source": [
    "#sum of number of user input\n",
    "a = sum([int(input(\"Enter x = \")) for i in range(5)])\n",
    "a # sum we can do max, min also"
   ]
  },
  {
   "cell_type": "markdown",
   "id": "2f2aaaae",
   "metadata": {},
   "source": [
    "# lower case in map and list comp."
   ]
  },
  {
   "cell_type": "code",
   "execution_count": 4,
   "id": "b47ec84f",
   "metadata": {},
   "outputs": [
    {
     "data": {
      "text/plain": [
       "['apple', 'ball', 'cat', 'dog', 'fish']"
      ]
     },
     "execution_count": 4,
     "metadata": {},
     "output_type": "execute_result"
    }
   ],
   "source": [
    "a = [\"Apple\",\"Ball\",\"Cat\",\"Dog\",\"Fish\"]\n",
    "b = [i.lower() for i in a]\n",
    "b"
   ]
  },
  {
   "cell_type": "code",
   "execution_count": null,
   "id": "e8b8e06f",
   "metadata": {},
   "outputs": [],
   "source": [
    "#compare above code to this\n",
    "a = [\"Apple\",\"Ball\",\"Cat\",\"Dog\",\"Fish\"]\n",
    "x = list(map(lambda y:y.lower(), a))\n",
    "x"
   ]
  }
 ],
 "metadata": {
  "kernelspec": {
   "display_name": "Python 3 (ipykernel)",
   "language": "python",
   "name": "python3"
  },
  "language_info": {
   "codemirror_mode": {
    "name": "ipython",
    "version": 3
   },
   "file_extension": ".py",
   "mimetype": "text/x-python",
   "name": "python",
   "nbconvert_exporter": "python",
   "pygments_lexer": "ipython3",
   "version": "3.11.3"
  }
 },
 "nbformat": 4,
 "nbformat_minor": 5
}
