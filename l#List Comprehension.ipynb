{
 "cells": [
  {
   "cell_type": "markdown",
   "id": "e4e7dae6",
   "metadata": {},
   "source": [
    "# list comprehension"
   ]
  },
  {
   "cell_type": "markdown",
   "id": "3a0aaf91",
   "metadata": {},
   "source": [
    "before creating a list \n",
    "we do loop\n",
    ", and append at last"
   ]
  },
  {
   "cell_type": "code",
   "execution_count": 1,
   "id": "f8c738d3",
   "metadata": {},
   "outputs": [
    {
     "data": {
      "text/plain": [
       "[0, 1, 2, 3, 4, 5, 6, 7, 8, 9]"
      ]
     },
     "execution_count": 1,
     "metadata": {},
     "output_type": "execute_result"
    }
   ],
   "source": [
    "#List Comprehension\n",
    "a = [i for i in range(10)]\n",
    "a"
   ]
  },
  {
   "cell_type": "markdown",
   "id": "5dba5a28",
   "metadata": {},
   "source": [
    "# # if you want to take input from user then we can do below code\n"
   ]
  },
  {
   "cell_type": "code",
   "execution_count": 2,
   "id": "94ee3707",
   "metadata": {},
   "outputs": [
    {
     "name": "stdout",
     "output_type": "stream",
     "text": [
      "Enter x = 1\n",
      "Enter x = 2\n",
      "Enter x = 3\n",
      "Enter x = 4\n",
      "Enter x = 5\n"
     ]
    },
    {
     "data": {
      "text/plain": [
       "[1, 2, 3, 4, 5]"
      ]
     },
     "execution_count": 2,
     "metadata": {},
     "output_type": "execute_result"
    }
   ],
   "source": [
    "a = [int(input(\"Enter x = \")) for i in range(5)]\n",
    "a"
   ]
  },
  {
   "cell_type": "code",
   "execution_count": 3,
   "id": "1202af4e",
   "metadata": {},
   "outputs": [
    {
     "name": "stdout",
     "output_type": "stream",
     "text": [
      "Enter x = kiran \n",
      "Enter x = rai\n",
      "Enter x = hari\n",
      "Enter x = ram\n",
      "Enter x = abc\n"
     ]
    },
    {
     "data": {
      "text/plain": [
       "['kiran ', 'rai', 'hari', 'ram', 'abc']"
      ]
     },
     "execution_count": 3,
     "metadata": {},
     "output_type": "execute_result"
    }
   ],
   "source": [
    "a = [input(\"Enter x = \") for i in range(5)]\n",
    "a\n"
   ]
  },
  {
   "cell_type": "markdown",
   "id": "ae497e04",
   "metadata": {},
   "source": [
    "# for sum, max ,min"
   ]
  },
  {
   "cell_type": "code",
   "execution_count": 4,
   "id": "6a87e63b",
   "metadata": {},
   "outputs": [
    {
     "name": "stdout",
     "output_type": "stream",
     "text": [
      "Enter x = 1\n",
      "Enter x = 2\n",
      "Enter x = 3\n",
      "Enter x = 4\n",
      "Enter x = 5\n"
     ]
    },
    {
     "data": {
      "text/plain": [
       "15"
      ]
     },
     "execution_count": 4,
     "metadata": {},
     "output_type": "execute_result"
    }
   ],
   "source": [
    "#sum of number of user input\n",
    "a = sum([int(input(\"Enter x = \")) for i in range(5)])\n",
    "a # sum we can do max, min also"
   ]
  },
  {
   "cell_type": "markdown",
   "id": "16537231",
   "metadata": {},
   "source": [
    "# "
   ]
  }
 ],
 "metadata": {
  "kernelspec": {
   "display_name": "Python 3 (ipykernel)",
   "language": "python",
   "name": "python3"
  },
  "language_info": {
   "codemirror_mode": {
    "name": "ipython",
    "version": 3
   },
   "file_extension": ".py",
   "mimetype": "text/x-python",
   "name": "python",
   "nbconvert_exporter": "python",
   "pygments_lexer": "ipython3",
   "version": "3.11.3"
  }
 },
 "nbformat": 4,
 "nbformat_minor": 5
}
