{
 "cells": [
  {
   "cell_type": "markdown",
   "id": "3b85839a",
   "metadata": {},
   "source": [
    "#  python collection:\n",
    "# arry collection other program which are listed below in python:-\n",
    "1. "
   ]
  },
  {
   "cell_type": "markdown",
   "id": "3e7dbc14",
   "metadata": {},
   "source": [
    "# List :- point to do in list chapter\n",
    "* Indexing\n",
    "* Ordered \n",
    "* multiple and duplicate[\" apple\",\"apple\"]\n",
    "* muitable"
   ]
  },
  {
   "cell_type": "markdown",
   "id": "e52b3deb",
   "metadata": {},
   "source": [
    "# why need list:\n",
    "for to store more value in one variable:="
   ]
  },
  {
   "cell_type": "markdown",
   "id": "00ff0f6f",
   "metadata": {},
   "source": [
    "#creating list\n",
    "#updating list\n",
    "#editing list\n",
    "#deleting value of list"
   ]
  },
  {
   "cell_type": "code",
   "execution_count": 1,
   "id": "ad446e9f",
   "metadata": {},
   "outputs": [
    {
     "name": "stdout",
     "output_type": "stream",
     "text": [
      "<class 'list'>\n",
      "<class 'list'>\n"
     ]
    }
   ],
   "source": [
    "#list eg:\n",
    "a = [1,2,3,4,5,6,7,8,9,0]\n",
    "b = [\"Apple\",\"Ball\",\"Cat\",\"Dog\",\"Fish\"]# can have both int() and str()\n",
    "print(type(a))\n",
    "print(type(b))"
   ]
  },
  {
   "cell_type": "markdown",
   "id": "258dfa2b",
   "metadata": {},
   "source": [
    "# indexing list:-"
   ]
  },
  {
   "cell_type": "code",
   "execution_count": 3,
   "id": "440fe0d3",
   "metadata": {},
   "outputs": [
    {
     "name": "stdout",
     "output_type": "stream",
     "text": [
      "Apple\n",
      "['Apple', 'Ball', 'Cat', 'Dog']\n",
      "['Apple', 'Cat', 'Fish']\n"
     ]
    }
   ],
   "source": [
    "b = [\"Apple\",\"Ball\",\"Cat\",\"Dog\",\"Fish\"]\n",
    "print(b[0])\n",
    "print(b[0:4])\n",
    "print(b[0:5:2])#[start:stop:increment]"
   ]
  },
  {
   "cell_type": "code",
   "execution_count": 8,
   "id": "28a76613",
   "metadata": {},
   "outputs": [
    {
     "name": "stdout",
     "output_type": "stream",
     "text": [
      "[1, 1, 2, 'ram', 3, 4, 5, 6, 7, 8, 9, 0]\n"
     ]
    }
   ],
   "source": [
    "a= [1,1,2, 'ram',3,4,5]\n",
    "b= [6,7,8,9,0]\n",
    "c= a+b\n",
    "print(c)\n"
   ]
  },
  {
   "cell_type": "code",
   "execution_count": 11,
   "id": "9d00301c",
   "metadata": {},
   "outputs": [
    {
     "name": "stdout",
     "output_type": "stream",
     "text": [
      "Apple\n",
      "Ball\n",
      "Cat\n",
      "Dog\n",
      "Fish\n",
      "Apple\n"
     ]
    }
   ],
   "source": [
    "a= [\"Apple\",\"Ball\",\"Cat\",\"Dog\",\"Fish\",\"Apple\"]\n",
    "for i in a :\n",
    "    print(i)"
   ]
  },
  {
   "cell_type": "markdown",
   "id": "1c0bb025",
   "metadata": {},
   "source": [
    "#  how to create  a list throug"
   ]
  },
  {
   "cell_type": "code",
   "execution_count": null,
   "id": "ba436e1a",
   "metadata": {},
   "outputs": [],
   "source": [
    "append()= add value at last order in list.\n",
    "insert()= we can place the value in desired index by user in list.\n",
    "extend()= multiple value append than we have to use it."
   ]
  },
  {
   "cell_type": "markdown",
   "id": "27338c84",
   "metadata": {},
   "source": [
    "# append()"
   ]
  },
  {
   "cell_type": "code",
   "execution_count": 19,
   "id": "e30aedc6",
   "metadata": {},
   "outputs": [
    {
     "name": "stdout",
     "output_type": "stream",
     "text": [
      "Enter n = 5\n",
      "enter x = 4\n",
      "[4]\n",
      "enter x = 5\n",
      "[4, 5]\n",
      "enter x = 4\n",
      "[4, 5, 4]\n",
      "enter x = 7\n",
      "[4, 5, 4, 7]\n",
      "enter x = 6\n",
      "[4, 5, 4, 7, 6]\n"
     ]
    }
   ],
   "source": [
    "#create a list by using append()\n",
    "a= []\n",
    "n = int(input(\"Enter n = \"))\n",
    "for i in range(n):# we cannot do for i in n: since n is int() which is not ietrable\n",
    "    x = int(input(\"enter x = \"))\n",
    "    a.append(x)# note we are adding value in a[] by adding x value\n",
    "    print(a)"
   ]
  },
  {
   "cell_type": "code",
   "execution_count": 20,
   "id": "be2ecab6",
   "metadata": {},
   "outputs": [
    {
     "data": {
      "text/plain": [
       "[4, 5, 4, 7, 6]"
      ]
     },
     "execution_count": 20,
     "metadata": {},
     "output_type": "execute_result"
    }
   ],
   "source": [
    "a"
   ]
  },
  {
   "cell_type": "markdown",
   "id": "46924667",
   "metadata": {},
   "source": [
    "# math operation in list for int() value \n",
    "max()\n",
    "min()\n",
    "sum()\n",
    "sort() assendig order\n",
    "reverse() des. order\n"
   ]
  },
  {
   "cell_type": "code",
   "execution_count": 25,
   "id": "05a050ec",
   "metadata": {},
   "outputs": [
    {
     "name": "stdout",
     "output_type": "stream",
     "text": [
      "the max value =  7\n",
      "the min value =  4\n",
      "the sum of value  of a list= 26\n",
      "[4, 4, 5, 6, 7]\n"
     ]
    }
   ],
   "source": [
    "a = [4, 5, 4, 7, 6]\n",
    "print(\"the max value = \",max(a))\n",
    "print(\"the min value = \",min(a))\n",
    "print(\"the sum of value  of a list=\",sum(a))\n",
    "a.sort()\n",
    "print(a)"
   ]
  },
  {
   "cell_type": "code",
   "execution_count": 27,
   "id": "6a741a34",
   "metadata": {},
   "outputs": [
    {
     "name": "stdout",
     "output_type": "stream",
     "text": [
      "[6, 7, 4, 5, 4]\n"
     ]
    }
   ],
   "source": [
    "a = [4, 5, 4, 7, 6]\n",
    "a.reverse()#\n",
    "print(a)"
   ]
  },
  {
   "cell_type": "markdown",
   "id": "415754c1",
   "metadata": {},
   "source": [
    "# sorting in list (assending order)\n"
   ]
  },
  {
   "cell_type": "markdown",
   "id": "ed106d0d",
   "metadata": {},
   "source": [
    "# sorting in str()\n"
   ]
  },
  {
   "cell_type": "code",
   "execution_count": 30,
   "id": "029496ad",
   "metadata": {},
   "outputs": [
    {
     "name": "stdout",
     "output_type": "stream",
     "text": [
      "['Apple', 'Apple', 'Ball', 'Cat', 'Dog', 'Fish']\n",
      "['.Ball', '1at', '@og', 'Apple', 'Apple', 'Fish']\n"
     ]
    }
   ],
   "source": [
    "a= [\"Apple\",\"Ball\",\"Cat\",\"Dog\",\"Fish\",\"Apple\"]\n",
    "a.sort()\n",
    "print(a)\n",
    "b= [\"Apple\",\".Ball\",\"1at\",\"@og\",\"Fish\",\"Apple\"]\n",
    "b.sort()\n",
    "print(b)"
   ]
  },
  {
   "cell_type": "markdown",
   "id": "5419b8ed",
   "metadata": {},
   "source": [
    "# insert\n",
    "eg: are shown below:"
   ]
  },
  {
   "cell_type": "code",
   "execution_count": 32,
   "id": "023e2d27",
   "metadata": {},
   "outputs": [
    {
     "data": {
      "text/plain": [
       "['apple', 'Apple', 'Ball', 'Cat', 'Dog', 'Fish', 'Apple']"
      ]
     },
     "execution_count": 32,
     "metadata": {},
     "output_type": "execute_result"
    }
   ],
   "source": [
    "a= [\"Apple\",\"Ball\",\"Cat\",\"Dog\",\"Fish\",\"Apple\"]\n",
    "a.insert(0,\"apple\")\n",
    "a"
   ]
  },
  {
   "cell_type": "markdown",
   "id": "82df0339",
   "metadata": {},
   "source": [
    "# extend()\n",
    "eg are shown below :-"
   ]
  },
  {
   "cell_type": "code",
   "execution_count": 33,
   "id": "102e58e0",
   "metadata": {},
   "outputs": [
    {
     "data": {
      "text/plain": [
       "['Apple', 'Ball', 'Cat', 'Dog', 'Fish', 'Apple', 1, 2, 3, 4, 5, 6, 7, 8, 9, 0]"
      ]
     },
     "execution_count": 33,
     "metadata": {},
     "output_type": "execute_result"
    }
   ],
   "source": [
    "a= [\"Apple\",\"Ball\",\"Cat\",\"Dog\",\"Fish\",\"Apple\"]\n",
    "b = [1,2,3,4,5,6,7,8,9,0]\n",
    "a.extend(b) # note adding the one list to another list \n",
    "a"
   ]
  },
  {
   "cell_type": "markdown",
   "id": "3a100eb0",
   "metadata": {},
   "source": [
    "# updating list:\n"
   ]
  },
  {
   "cell_type": "code",
   "execution_count": 34,
   "id": "179bbcb8",
   "metadata": {},
   "outputs": [
    {
     "data": {
      "text/plain": [
       "['car', 'Ball', 'Cat', 'Dog', 'Fish', 'Apple']"
      ]
     },
     "execution_count": 34,
     "metadata": {},
     "output_type": "execute_result"
    }
   ],
   "source": [
    "#updating one value only:=\n",
    "\n",
    "a= [\"Apple\",\"Ball\",\"Cat\",\"Dog\",\"Fish\",\"Apple\"]\n",
    "a[0]= \"car\" # change the value of desired index[]\n",
    "a"
   ]
  },
  {
   "cell_type": "code",
   "execution_count": 35,
   "id": "5311b4f6",
   "metadata": {},
   "outputs": [
    {
     "data": {
      "text/plain": [
       "['Apple', ['aeroplane', 'airport'], 'Cat', 'Dog', 'Fish', 'Apple']"
      ]
     },
     "execution_count": 35,
     "metadata": {},
     "output_type": "execute_result"
    }
   ],
   "source": [
    "a= [\"Apple\",\"Ball\",\"Cat\",\"Dog\",\"Fish\",\"Apple\"]\n",
    "a[1]= [\"aeroplane\",\"airport\" ]\n",
    "a # below output is list in list"
   ]
  },
  {
   "cell_type": "markdown",
   "id": "e36ac5ec",
   "metadata": {},
   "source": [
    "#adding two value in list"
   ]
  },
  {
   "cell_type": "code",
   "execution_count": 49,
   "id": "cadf2d6e",
   "metadata": {},
   "outputs": [
    {
     "name": "stdout",
     "output_type": "stream",
     "text": [
      "6\n",
      "['Apple', 'aeroplane', 'airport', 'Cat', 'Dog', 'Fish', 'Apple']\n",
      "7\n"
     ]
    }
   ],
   "source": [
    "# this one is inserting since len has been change \n",
    "\n",
    "a= [\"Apple\",\"Ball\",\"Cat\",\"Dog\",\"Fish\",\"Apple\"]\n",
    "print(len(a))\n",
    "a[1:2]= [\"aeroplane\",\"airport\" ]# inserting two place by giving place\n",
    "print(a) # below output is list in list\n",
    "print(len(a))"
   ]
  },
  {
   "cell_type": "markdown",
   "id": "92a606dd",
   "metadata": {},
   "source": [
    "# updating two value at same time:\n"
   ]
  },
  {
   "cell_type": "code",
   "execution_count": 48,
   "id": "9cef5e26",
   "metadata": {},
   "outputs": [
    {
     "name": "stdout",
     "output_type": "stream",
     "text": [
      "6\n",
      "['Apple', 'Ball', 'ball', 'block', 'hari', 'Apple']\n",
      "6\n"
     ]
    }
   ],
   "source": [
    "#this one is updating so len is not changed :\n",
    "\n",
    "a= [\"Apple\",\"Ball\",\"Cat\",\"Dog\",\"Fish\",\"Apple\"]\n",
    "print(len(a))\n",
    "a[2:5]=[\"ball\",\"block\",\"hari\"]\n",
    "print(a)# note differece in [] should be two ,\n",
    "print(len(a))#note [value given should be equal to value difference in indexing ]"
   ]
  },
  {
   "cell_type": "markdown",
   "id": "9b18e208",
   "metadata": {},
   "source": [
    "note while updating the list with two more value indexing differece should be equall to the defference of indexing \n",
    "eg:\n",
    "[\"hari\",\"sita\"] 2 value so [0:2] or [2:4]\n",
    "[\"hari\",\"ram\",\"sita\"] 3 value updating show [0:3],[1:4],["
   ]
  },
  {
   "cell_type": "code",
   "execution_count": 47,
   "id": "b551816b",
   "metadata": {},
   "outputs": [
    {
     "name": "stdout",
     "output_type": "stream",
     "text": [
      "6\n",
      "['Apple', 'ball', 'block', 'hari', 'Apple']\n",
      "5\n"
     ]
    }
   ],
   "source": [
    "a= [\"Apple\",\"Ball\",\"Cat\",\"Dog\",\"Fish\",\"Apple\"]\n",
    "print(len(a))\n",
    "a[1:5]=[\"ball\",\"block\",\"hari\"]# note we are updating the value but we are givn\n",
    "#given only 3 value . but we have command 4 value so fish is empty\n",
    "print(a)\n",
    "print(len(a))"
   ]
  },
  {
   "cell_type": "markdown",
   "id": "07478ee3",
   "metadata": {},
   "source": [
    "# Deleting value from list:\n"
   ]
  },
  {
   "cell_type": "code",
   "execution_count": 50,
   "id": "a416bb3d",
   "metadata": {},
   "outputs": [],
   "source": [
    "# del()\n",
    "# remove()\n",
    "# pop()"
   ]
  },
  {
   "cell_type": "code",
   "execution_count": 51,
   "id": "b58f624a",
   "metadata": {},
   "outputs": [
    {
     "name": "stdout",
     "output_type": "stream",
     "text": [
      "['Ball', 'Cat', 'Dog', 'Fish', 'Apple']\n"
     ]
    }
   ],
   "source": [
    "#del()\n",
    "\n",
    "a= [\"Apple\",\"Ball\",\"Cat\",\"Dog\",\"Fish\",\"Apple\"]\n",
    "del a[0]\n",
    "print(a)"
   ]
  },
  {
   "cell_type": "code",
   "execution_count": null,
   "id": "c641dd47",
   "metadata": {},
   "outputs": [],
   "source": []
  },
  {
   "cell_type": "code",
   "execution_count": 52,
   "id": "a88cfedc",
   "metadata": {},
   "outputs": [
    {
     "name": "stdout",
     "output_type": "stream",
     "text": [
      "['Dog', 'Fish', 'Apple']\n"
     ]
    }
   ],
   "source": [
    "a= [\"Apple\",\"Ball\",\"Cat\",\"Dog\",\"Fish\",\"Apple\"]\n",
    "del a[0:3]\n",
    "print(a)"
   ]
  },
  {
   "cell_type": "markdown",
   "id": "70a08902",
   "metadata": {},
   "source": [
    "# extra tips for deleting multiple value"
   ]
  },
  {
   "cell_type": "code",
   "execution_count": 53,
   "id": "c0d36532",
   "metadata": {},
   "outputs": [
    {
     "name": "stdout",
     "output_type": "stream",
     "text": [
      "['Ball', 'Dog']\n"
     ]
    }
   ],
   "source": [
    "c = [\"Apple\", \"Ball\", \"Cat\", \"Dog\", \"Fish\", \"Apple\"]\n",
    "elements_to_remove = [\"Apple\", \"Cat\", \"Fish\"]\n",
    "\n",
    "for element in elements_to_remove:\n",
    "    while element in c:\n",
    "        c.remove(element)\n",
    "print(c)        \n"
   ]
  },
  {
   "cell_type": "markdown",
   "id": "cf664745",
   "metadata": {},
   "source": [
    "# finding the index of value:\n"
   ]
  },
  {
   "cell_type": "code",
   "execution_count": 57,
   "id": "3dfea7a6",
   "metadata": {},
   "outputs": [
    {
     "name": "stdout",
     "output_type": "stream",
     "text": [
      "3\n"
     ]
    }
   ],
   "source": [
    "a= [\"Apple\",\"Ball\",\"Cat\",\"Dog\",\"Fish\",\"Apple\"]\n",
    "print(a.index(\"Dog\"))"
   ]
  },
  {
   "cell_type": "markdown",
   "id": "8f8d63dc",
   "metadata": {},
   "source": [
    "# finding indexing if we have same value in variable (multiple indexing)"
   ]
  },
  {
   "cell_type": "code",
   "execution_count": 60,
   "id": "37916316",
   "metadata": {},
   "outputs": [
    {
     "name": "stdout",
     "output_type": "stream",
     "text": [
      "0\n",
      "5\n"
     ]
    }
   ],
   "source": [
    "a= [\"Apple\",\"Ball\",\"Cat\",\"Dog\",\"Fish\",\"Apple\"]\n",
    "# we have Apple both \n",
    "l = len(a)\n",
    "for i in range(l):\n",
    "        if a[i]== \"Apple\": # note a[i]cheking index,equall to appple\n",
    "            print(i) # so printing indexing"
   ]
  },
  {
   "cell_type": "markdown",
   "id": "d7cf0d3f",
   "metadata": {},
   "source": [
    "# using a search method for finding index"
   ]
  },
  {
   "cell_type": "markdown",
   "id": "5354de97",
   "metadata": {},
   "source": [
    "# note for making case insensitive by using .lower() or .upper which is only in str()  data tpe"
   ]
  },
  {
   "cell_type": "code",
   "execution_count": 87,
   "id": "36445008",
   "metadata": {},
   "outputs": [
    {
     "name": "stdout",
     "output_type": "stream",
     "text": [
      "enter search value = Ball\n",
      "1\n"
     ]
    }
   ],
   "source": [
    "a= [\"Apple\",\"Ball\",\"Cat\",\"Dog\",\"Fish\",\"Apple\"]\n",
    "l = len(a)\n",
    "search = input(\"enter search value = \")\n",
    "for i in range(l):\n",
    "        if a[i]== search:\n",
    "            print(i)  # note this one is case sensitive"
   ]
  },
  {
   "cell_type": "markdown",
   "id": "1a5e6447",
   "metadata": {},
   "source": [
    "# insencitvy program of above:\n",
    "# finding indexing of value "
   ]
  },
  {
   "cell_type": "code",
   "execution_count": 93,
   "id": "fd281c81",
   "metadata": {},
   "outputs": [
    {
     "name": "stdout",
     "output_type": "stream",
     "text": [
      "enter search value = apple\n",
      "yes there is value 0\n",
      "yes there is value 5\n"
     ]
    }
   ],
   "source": [
    "# finding the index number of value in list:\n",
    "a= [\"Apple\",\"Ball\",\"Cat\",\"Dog\",\"Fish\",\"Apple\"]\n",
    "l = len(a)\n",
    "search = input(\"enter search value = \")\n",
    "for i in range(l):\n",
    "        if search.lower() == a[i].lower():\n",
    "            print(\"yes there is value\",i)"
   ]
  },
  {
   "cell_type": "markdown",
   "id": "4554cfda",
   "metadata": {},
   "source": [
    "# remove:-\n",
    "#pop"
   ]
  },
  {
   "cell_type": "code",
   "execution_count": 69,
   "id": "d386dac4",
   "metadata": {},
   "outputs": [
    {
     "name": "stdout",
     "output_type": "stream",
     "text": [
      "None\n",
      "2\n",
      "['Apple', 'Ball', 'Dog', 'Fish', 'Apple']\n"
     ]
    }
   ],
   "source": [
    "a= [\"Apple\",\"Ball\",\"Cat\",\"Dog\",\"Fish\",\"Apple\"]\n",
    "print(a.remove(\"Cat\")) # note none is show because it command \n",
    "print(a.count('Apple'))\n",
    "print(a)"
   ]
  },
  {
   "cell_type": "code",
   "execution_count": 72,
   "id": "10769bb2",
   "metadata": {},
   "outputs": [
    {
     "name": "stdout",
     "output_type": "stream",
     "text": [
      "2\n",
      "['Ball', 'Cat', 'Dog', 'Fish']\n"
     ]
    }
   ],
   "source": [
    "a= [\"Apple\",\"Ball\",\"Cat\",\"Dog\",\"Fish\",\"Apple\"]\n",
    "c = a.count('Apple')\n",
    "print(c)\n",
    "for i in range(c):\n",
    "    a.remove(\"Apple\")\n",
    "print(a)"
   ]
  },
  {
   "cell_type": "markdown",
   "id": "b020296e",
   "metadata": {},
   "source": [
    "# pop:\n"
   ]
  },
  {
   "cell_type": "markdown",
   "id": "0b134da8",
   "metadata": {},
   "source": [
    "# we can delet the value from   bac k side:\n"
   ]
  },
  {
   "cell_type": "code",
   "execution_count": 73,
   "id": "d7353f7d",
   "metadata": {},
   "outputs": [
    {
     "data": {
      "text/plain": [
       "['Apple', 'Ball', 'Cat', 'Dog', 'Fish']"
      ]
     },
     "execution_count": 73,
     "metadata": {},
     "output_type": "execute_result"
    }
   ],
   "source": [
    "a= [\"Apple\",\"Ball\",\"Cat\",\"Dog\",\"Fish\",\"Apple\"]\n",
    "a.pop()\n",
    "a"
   ]
  },
  {
   "cell_type": "code",
   "execution_count": 75,
   "id": "cab22356",
   "metadata": {},
   "outputs": [
    {
     "name": "stdout",
     "output_type": "stream",
     "text": [
      "['Apple', 'Ball', 'Cat', 'Dog', 'Fish']\n",
      "Apple\n"
     ]
    }
   ],
   "source": [
    "a= [\"Apple\",\"Ball\",\"Cat\",\"Dog\",\"Fish\",\"Apple\"]\n",
    "b= a.pop() # remove data from back side\n",
    "print(a)\n",
    "print(b)"
   ]
  },
  {
   "cell_type": "code",
   "execution_count": 76,
   "id": "36a9ef43",
   "metadata": {},
   "outputs": [
    {
     "name": "stdout",
     "output_type": "stream",
     "text": [
      "['Apple', 'Ball', 'Cat', 'Fish', 'Apple']\n"
     ]
    }
   ],
   "source": [
    "a= [\"Apple\",\"Ball\",\"Cat\",\"Dog\",\"Fish\",\"Apple\"]\n",
    "b= a.pop(3)\n",
    "print(a)"
   ]
  },
  {
   "cell_type": "markdown",
   "id": "ce871621",
   "metadata": {},
   "source": [
    "# searching in list :"
   ]
  },
  {
   "cell_type": "markdown",
   "id": "c21a26ee",
   "metadata": {},
   "source": [
    "# case sensitive below eg\"search\""
   ]
  },
  {
   "cell_type": "code",
   "execution_count": 77,
   "id": "91438517",
   "metadata": {},
   "outputs": [
    {
     "name": "stdout",
     "output_type": "stream",
     "text": [
      "enter a search value = Apple\n",
      "yes\n",
      "2\n"
     ]
    }
   ],
   "source": [
    "a= [\"Apple\",\"Ball\",\"Cat\",\"Dog\",\"Fish\",\"Apple\"]\n",
    "search = input(\"enter a search value = \")\n",
    "if search in a :\n",
    "    print(\"yes\")\n",
    "    print(a.count(search))"
   ]
  },
  {
   "cell_type": "markdown",
   "id": "d3d9beb4",
   "metadata": {},
   "source": [
    "# insencitive \"search option\" from user input:\n"
   ]
  },
  {
   "cell_type": "code",
   "execution_count": 83,
   "id": "92438e66",
   "metadata": {},
   "outputs": [
    {
     "name": "stdout",
     "output_type": "stream",
     "text": [
      "enter a search value = apple\n",
      "3\n"
     ]
    }
   ],
   "source": [
    "c = 0\n",
    "a= [\"Apple\",\"Ball\",\"Cat\",\"Dog\",\"Fish\",\"Apple\",\"Apple\"]\n",
    "search = input(\"enter a search value = \")\n",
    "for i in range(len(a)):\n",
    "    if search.lower()==a[i].lower():\n",
    "        c += 1\n",
    "print(c)        "
   ]
  },
  {
   "cell_type": "markdown",
   "id": "d5452e95",
   "metadata": {},
   "source": [
    "# counting the value of search iteam by user\n"
   ]
  },
  {
   "cell_type": "code",
   "execution_count": 94,
   "id": "21104872",
   "metadata": {},
   "outputs": [
    {
     "name": "stdout",
     "output_type": "stream",
     "text": [
      "enter a search value = dragon\n",
      "there is no such value\n",
      "value search is = 0\n"
     ]
    }
   ],
   "source": [
    "c = 0\n",
    "a= [\"Apple\",\"Ball\",\"Cat\",\"Dog\",\"Fish\",\"Apple\",\"Apple\"]\n",
    "search = input(\"enter a search value = \")\n",
    "for i in range(len(a)):\n",
    "    if search.lower()==a[i].lower():\n",
    "        c += 1\n",
    "if c >0:\n",
    "    print(\"yes! there is a such value\")\n",
    "else:\n",
    "    print(\"there is no such value\")\n",
    "print(\"value search is =\",c)"
   ]
  },
  {
   "cell_type": "markdown",
   "id": "02db41df",
   "metadata": {},
   "source": [
    "# list inside list:\n"
   ]
  },
  {
   "cell_type": "code",
   "execution_count": null,
   "id": "a21a0c98",
   "metadata": {},
   "outputs": [],
   "source": []
  },
  {
   "cell_type": "markdown",
   "id": "ea3c069b",
   "metadata": {},
   "source": [
    "#  creating the list from user"
   ]
  },
  {
   "cell_type": "code",
   "execution_count": null,
   "id": "e87972dd",
   "metadata": {},
   "outputs": [],
   "source": [
    "a = []\n",
    "b= in"
   ]
  }
 ],
 "metadata": {
  "kernelspec": {
   "display_name": "Python 3 (ipykernel)",
   "language": "python",
   "name": "python3"
  },
  "language_info": {
   "codemirror_mode": {
    "name": "ipython",
    "version": 3
   },
   "file_extension": ".py",
   "mimetype": "text/x-python",
   "name": "python",
   "nbconvert_exporter": "python",
   "pygments_lexer": "ipython3",
   "version": "3.11.3"
  }
 },
 "nbformat": 4,
 "nbformat_minor": 5
}
