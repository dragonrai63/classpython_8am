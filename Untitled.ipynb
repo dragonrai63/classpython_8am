{
 "cells": [
  {
   "cell_type": "code",
   "execution_count": 10,
   "id": "cdf69fbc",
   "metadata": {},
   "outputs": [],
   "source": [
    "def person(name):\n",
    "    \"\"\"\n",
    "    This function takes two parameters.\n",
    "    You can supply the name and age of the user\n",
    "    in this function.\n",
    "    \"\"\"\n",
    "person(\"hari\")\n",
    "\n",
    "\n",
    "# print(f\"Hello {kiran}!How are youu?\")\n",
    "# print(f\"You are now {age}.\")"
   ]
  },
  {
   "cell_type": "code",
   "execution_count": 13,
   "id": "60e5e20d",
   "metadata": {},
   "outputs": [
    {
     "name": "stdout",
     "output_type": "stream",
     "text": [
      "Hello kiran!How are you?\n",
      "You are now 33.\n"
     ]
    }
   ],
   "source": [
    "def print_details(name,age):\n",
    "    \"\"\"\n",
    "    This function takes two parameters.\n",
    "    You can supply the name and age of the user\n",
    "    in this function.\n",
    "    \"\"\"\n",
    "    print(f\"Hello {name}!How are you?\")\n",
    "    print(f\"You are now {age}.\")\n",
    "print_details(\"kiran\",33)\n"
   ]
  },
  {
   "cell_type": "code",
   "execution_count": null,
   "id": "e29c11d3",
   "metadata": {},
   "outputs": [],
   "source": []
  }
 ],
 "metadata": {
  "kernelspec": {
   "display_name": "Python 3 (ipykernel)",
   "language": "python",
   "name": "python3"
  },
  "language_info": {
   "codemirror_mode": {
    "name": "ipython",
    "version": 3
   },
   "file_extension": ".py",
   "mimetype": "text/x-python",
   "name": "python",
   "nbconvert_exporter": "python",
   "pygments_lexer": "ipython3",
   "version": "3.11.3"
  }
 },
 "nbformat": 4,
 "nbformat_minor": 5
}
