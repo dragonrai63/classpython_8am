{
 "cells": [
  {
   "cell_type": "code",
   "execution_count": 3,
   "id": "14184d16",
   "metadata": {},
   "outputs": [
    {
     "data": {
      "text/plain": [
       "{1: 1, 2: 4, 3: 9, 4: 16, 5: 25}"
      ]
     },
     "execution_count": 3,
     "metadata": {},
     "output_type": "execute_result"
    }
   ],
   "source": [
    "#Dict Comprehension\n",
    "a = {i:i**2 for i in range(1,6)}\n",
    "a # key with square of key in value"
   ]
  },
  {
   "cell_type": "code",
   "execution_count": null,
   "id": "2b406871",
   "metadata": {},
   "outputs": [],
   "source": []
  },
  {
   "cell_type": "code",
   "execution_count": 4,
   "id": "556c404f",
   "metadata": {},
   "outputs": [
    {
     "name": "stdout",
     "output_type": "stream",
     "text": [
      "Enter name = kiran\n",
      "Enter phone = 9817364835\n",
      "Enter name = ram\n",
      "Enter phone = 9812457\n",
      "Enter name = fish\n",
      "Enter phone = 9817474\n",
      "Enter name = shy\n",
      "Enter phone = 4545755\n",
      "Enter name = fdfdfd\n",
      "Enter phone = 9898989\n"
     ]
    },
    {
     "data": {
      "text/plain": [
       "{'kiran': '9817364835',\n",
       " 'ram': '9812457',\n",
       " 'fish': '9817474',\n",
       " 'shy': '4545755',\n",
       " 'fdfdfd': '9898989'}"
      ]
     },
     "execution_count": 4,
     "metadata": {},
     "output_type": "execute_result"
    }
   ],
   "source": [
    "a = {input(\"Enter name = \"):input(\"Enter phone = \") for i in range(5)}\n",
    "a"
   ]
  },
  {
   "cell_type": "markdown",
   "id": "93c8271a",
   "metadata": {},
   "source": [
    "# "
   ]
  },
  {
   "cell_type": "code",
   "execution_count": 5,
   "id": "d73fdb31",
   "metadata": {},
   "outputs": [
    {
     "data": {
      "text/plain": [
       "{'Apple1': 'Apple',\n",
       " 'Ball2': 'Ball',\n",
       " 'Cat3': 'Cat',\n",
       " 'Dog4': 'Dog',\n",
       " 'Fish5': 'Fish'}"
      ]
     },
     "execution_count": 5,
     "metadata": {},
     "output_type": "execute_result"
    }
   ],
   "source": [
    "a = [\"Apple1\",\"Ball2\",\"Cat3\",\"Dog4\",\"Fish5\"]\n",
    "b = {i:i[:-1] for i in a}#[start:stop]\n",
    "b"
   ]
  },
  {
   "cell_type": "code",
   "execution_count": 8,
   "id": "18e97885",
   "metadata": {},
   "outputs": [
    {
     "data": {
      "text/plain": [
       "'apple'"
      ]
     },
     "execution_count": 8,
     "metadata": {},
     "output_type": "execute_result"
    }
   ],
   "source": [
    "a =\"apple123\"\n",
    "a[0:-3]"
   ]
  },
  {
   "cell_type": "code",
   "execution_count": null,
   "id": "b2f6dceb",
   "metadata": {},
   "outputs": [],
   "source": []
  }
 ],
 "metadata": {
  "kernelspec": {
   "display_name": "Python 3 (ipykernel)",
   "language": "python",
   "name": "python3"
  },
  "language_info": {
   "codemirror_mode": {
    "name": "ipython",
    "version": 3
   },
   "file_extension": ".py",
   "mimetype": "text/x-python",
   "name": "python",
   "nbconvert_exporter": "python",
   "pygments_lexer": "ipython3",
   "version": "3.12.2"
  }
 },
 "nbformat": 4,
 "nbformat_minor": 5
}
