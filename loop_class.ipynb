{
 "cells": [
  {
   "cell_type": "markdown",
   "id": "078ad1c1",
   "metadata": {},
   "source": [
    "# loop class\n"
   ]
  },
  {
   "cell_type": "markdown",
   "id": "da156f1b",
   "metadata": {},
   "source": [
    "# loop\n",
    "#while loop\n",
    "#for loop\n",
    "1. fro loop mostly used, where we have certain number to loop\n",
    "2. while loop is used when we don't have certain value to run"
   ]
  },
  {
   "cell_type": "markdown",
   "id": "f1dbe3af",
   "metadata": {},
   "source": [
    "# for loop\n",
    "#range(5)  (0,1,2,3,4) #only put number value\n",
    "*range(1,5) # (1,2,3,4)\n",
    "*range(1,10,1) #(1,3,5,7,9)\n",
    "1. range = function\n",
    "2. argument (5),(1,5),(1,10,2)\n",
    "3. range(5) for 5 time loop\n",
    "4. range(1,5) if we use i value in below contiditon\n"
   ]
  },
  {
   "cell_type": "markdown",
   "id": "fc9217b0",
   "metadata": {},
   "source": [
    "# Example:-"
   ]
  },
  {
   "cell_type": "code",
   "execution_count": 8,
   "id": "5e16f56b",
   "metadata": {
    "collapsed": true
   },
   "outputs": [
    {
     "name": "stdout",
     "output_type": "stream",
     "text": [
      "0 Hello kiran\n",
      "1 Hello kiran\n",
      "2 Hello kiran\n",
      "3 Hello kiran\n",
      "4 Hello kiran\n",
      "\n",
      "1 Hello kiran\n",
      "3 Hello kiran\n",
      "5 Hello kiran\n",
      "7 Hello kiran\n",
      "9 Hello kiran\n"
     ]
    }
   ],
   "source": [
    "for i in range(5):                        # suppose if we need i value in below operation than \n",
    "                                              #we have to give range value (start,end, +/-)\n",
    "    print(i,\"Hello kiran\")\n",
    "print()\n",
    "for a in range  (1,10,2):       # both above range print 5 time hello . but incase we have to use \n",
    "                                                #a/i value in operation we have to use range(1,5)\n",
    "    print(a,\"Hello kiran\")"
   ]
  },
  {
   "cell_type": "markdown",
   "id": "735666bb",
   "metadata": {},
   "source": [
    "# Calculation of table using for loop\n"
   ]
  },
  {
   "cell_type": "code",
   "execution_count": 30,
   "id": "54a12da4",
   "metadata": {},
   "outputs": [
    {
     "name": "stdout",
     "output_type": "stream",
     "text": [
      "Enter the value to valculate = 5\n",
      "1\n",
      "2\n",
      "3\n",
      "4\n",
      "5\n",
      "6\n",
      "7\n",
      "8\n",
      "9\n",
      "10\n",
      "\n",
      "The table of 5\n",
      "5 * 1 = 5\n",
      "5 * 2 = 10\n",
      "5 * 3 = 15\n",
      "5 * 4 = 20\n",
      "5 * 5 = 25\n",
      "5 * 6 = 30\n",
      "5 * 7 = 35\n",
      "5 * 8 = 40\n",
      "5 * 9 = 45\n",
      "5 * 10 = 50\n"
     ]
    }
   ],
   "source": [
    "a =  int(input(\"Enter the value to valculate = \"))\n",
    "for i in range(1,11):\n",
    "    print(i) #  print i value. see how the value of i change in each loop\n",
    "print()\n",
    "print(\"The table of\",a)\n",
    "for i in range(1,11):\n",
    "    print(a,\"*\",i,\"=\",i*a)\n"
   ]
  },
  {
   "cell_type": "markdown",
   "id": "1b2b73a5",
   "metadata": {},
   "source": [
    "# f{} use f-string to use\n",
    "1.by following such example\n",
    "2. "
   ]
  },
  {
   "cell_type": "code",
   "execution_count": 29,
   "id": "84de042c",
   "metadata": {},
   "outputs": [
    {
     "name": "stdout",
     "output_type": "stream",
     "text": [
      "7 * 1 = 7\n",
      "7 * 2 = 14\n",
      "7 * 3 = 21\n",
      "7 * 4 = 28\n",
      "7 * 5 = 35\n",
      "7 * 6 = 42\n",
      "7 * 7 = 49\n",
      "7 * 8 = 56\n",
      "7 * 9 = 63\n",
      "7 * 10 = 70\n"
     ]
    }
   ],
   "source": [
    "for i in range(1,11):\n",
    "    print(f\"{a} * {i} = {i*a}\")"
   ]
  },
  {
   "cell_type": "markdown",
   "id": "871f1f92",
   "metadata": {},
   "source": [
    "# for i in range(2):    #note loop is runnig 2 time, where i value is not impt."
   ]
  },
  {
   "cell_type": "code",
   "execution_count": 40,
   "id": "f78b44e6",
   "metadata": {
    "scrolled": true
   },
   "outputs": [
    {
     "name": "stdout",
     "output_type": "stream",
     "text": [
      "Enter the value of a =1\n",
      "Enter the value of b =2\n",
      "The total of a & b =  3\n",
      "\n",
      "Enter the value of a =4\n",
      "Enter the value of b =4\n",
      "The total of a & b =  8\n",
      "\n"
     ]
    }
   ],
   "source": [
    "for i in range(2):# note we know that loop will run 2 time, by asking the value \n",
    "    a = int(input(\"Enter the value of a =\"))\n",
    "    b = int(input(\"Enter the value of b =\"))\n",
    "    print(\"The total of a & b = \",a+b )\n",
    "    print()"
   ]
  },
  {
   "cell_type": "markdown",
   "id": "01e6e89a",
   "metadata": {},
   "source": [
    "# adding the intger value"
   ]
  },
  {
   "cell_type": "code",
   "execution_count": 47,
   "id": "b4d1ce44",
   "metadata": {
    "scrolled": true
   },
   "outputs": [
    {
     "name": "stdout",
     "output_type": "stream",
     "text": [
      "Enter the value = 4\n",
      "4\n",
      "Enter the value = 4\n",
      "8\n",
      "Enter the value = 4\n",
      "12\n",
      "\n",
      "Total sum is = 12\n"
     ]
    }
   ],
   "source": [
    "s = 0 # addin\n",
    "for i in range(3):\n",
    "    a = int(input(\"Enter the value = \"))\n",
    "    s = s + a\n",
    "    print(s)\n",
    "print()\n",
    "print(\"Total sum is =\",s)"
   ]
  },
  {
   "cell_type": "markdown",
   "id": "c1e05778",
   "metadata": {},
   "source": [
    "# adding the string value in loop\n",
    "1. sampel eg. in line [55]\n",
    "2. mid eg. in line[60]\n",
    "3. extra iq loop in department store"
   ]
  },
  {
   "cell_type": "markdown",
   "id": "7f0b34dc",
   "metadata": {},
   "source": [
    "Simple example:-"
   ]
  },
  {
   "cell_type": "code",
   "execution_count": 55,
   "id": "85cec80c",
   "metadata": {
    "collapsed": true
   },
   "outputs": [
    {
     "name": "stdout",
     "output_type": "stream",
     "text": [
      "Enter the  string value = hari\n",
      "Enter the  string value = sita\n",
      "Enter the  string value = kiran\n",
      "\n",
      "hari\n",
      "sita\n",
      "kiran\n",
      "\n"
     ]
    }
   ],
   "source": [
    "s = \"\" # empty string\n",
    "for i in range(3):\n",
    "    a = input(\"Enter the  string value = \")\n",
    "    s = s + a + \"\\n\"  #note string are adding\n",
    "print()\n",
    "print(s)\n",
    "    \n"
   ]
  },
  {
   "cell_type": "markdown",
   "id": "e7d8b845",
   "metadata": {},
   "source": [
    "Mid Eg:-"
   ]
  },
  {
   "cell_type": "code",
   "execution_count": 4,
   "id": "47399d6c",
   "metadata": {
    "collapsed": true
   },
   "outputs": [
    {
     "name": "stdout",
     "output_type": "stream",
     "text": [
      "Enter how many people do you want to keep data2\n"
     ]
    },
    {
     "ename": "KeyboardInterrupt",
     "evalue": "Interrupted by user",
     "output_type": "error",
     "traceback": [
      "\u001b[1;31m---------------------------------------------------------------------------\u001b[0m",
      "\u001b[1;31mKeyboardInterrupt\u001b[0m                         Traceback (most recent call last)",
      "Cell \u001b[1;32mIn[4], line 6\u001b[0m\n\u001b[0;32m      3\u001b[0m             \u001b[38;5;66;03m#TypeError: 'str' object cannot be interpreted as an integer\u001b[39;00m\n\u001b[0;32m      4\u001b[0m             \u001b[38;5;66;03m#note in range we have to give int value\u001b[39;00m\n\u001b[0;32m      5\u001b[0m \u001b[38;5;28;01mfor\u001b[39;00m i \u001b[38;5;129;01min\u001b[39;00m \u001b[38;5;28mrange\u001b[39m(n):\n\u001b[1;32m----> 6\u001b[0m     name \u001b[38;5;241m=\u001b[39m \u001b[38;5;28;43minput\u001b[39;49m\u001b[43m(\u001b[49m\u001b[38;5;124;43m\"\u001b[39;49m\u001b[38;5;124;43mEnter the  name = \u001b[39;49m\u001b[38;5;124;43m\"\u001b[39;49m\u001b[43m)\u001b[49m\n\u001b[0;32m      7\u001b[0m     address \u001b[38;5;241m=\u001b[39m \u001b[38;5;28minput\u001b[39m(\u001b[38;5;124m\"\u001b[39m\u001b[38;5;124mEnter address =\u001b[39m\u001b[38;5;124m\"\u001b[39m)\n\u001b[0;32m      8\u001b[0m     phone_number\u001b[38;5;241m=\u001b[39m \u001b[38;5;28minput\u001b[39m(\u001b[38;5;124m\"\u001b[39m\u001b[38;5;124mEnter the phone number =\u001b[39m\u001b[38;5;124m\"\u001b[39m)\n",
      "File \u001b[1;32m~\\AppData\\Local\\Programs\\Python\\Python311\\Lib\\site-packages\\ipykernel\\kernelbase.py:1191\u001b[0m, in \u001b[0;36mKernel.raw_input\u001b[1;34m(self, prompt)\u001b[0m\n\u001b[0;32m   1189\u001b[0m     msg \u001b[38;5;241m=\u001b[39m \u001b[38;5;124m\"\u001b[39m\u001b[38;5;124mraw_input was called, but this frontend does not support input requests.\u001b[39m\u001b[38;5;124m\"\u001b[39m\n\u001b[0;32m   1190\u001b[0m     \u001b[38;5;28;01mraise\u001b[39;00m StdinNotImplementedError(msg)\n\u001b[1;32m-> 1191\u001b[0m \u001b[38;5;28;01mreturn\u001b[39;00m \u001b[38;5;28;43mself\u001b[39;49m\u001b[38;5;241;43m.\u001b[39;49m\u001b[43m_input_request\u001b[49m\u001b[43m(\u001b[49m\n\u001b[0;32m   1192\u001b[0m \u001b[43m    \u001b[49m\u001b[38;5;28;43mstr\u001b[39;49m\u001b[43m(\u001b[49m\u001b[43mprompt\u001b[49m\u001b[43m)\u001b[49m\u001b[43m,\u001b[49m\n\u001b[0;32m   1193\u001b[0m \u001b[43m    \u001b[49m\u001b[38;5;28;43mself\u001b[39;49m\u001b[38;5;241;43m.\u001b[39;49m\u001b[43m_parent_ident\u001b[49m\u001b[43m[\u001b[49m\u001b[38;5;124;43m\"\u001b[39;49m\u001b[38;5;124;43mshell\u001b[39;49m\u001b[38;5;124;43m\"\u001b[39;49m\u001b[43m]\u001b[49m\u001b[43m,\u001b[49m\n\u001b[0;32m   1194\u001b[0m \u001b[43m    \u001b[49m\u001b[38;5;28;43mself\u001b[39;49m\u001b[38;5;241;43m.\u001b[39;49m\u001b[43mget_parent\u001b[49m\u001b[43m(\u001b[49m\u001b[38;5;124;43m\"\u001b[39;49m\u001b[38;5;124;43mshell\u001b[39;49m\u001b[38;5;124;43m\"\u001b[39;49m\u001b[43m)\u001b[49m\u001b[43m,\u001b[49m\n\u001b[0;32m   1195\u001b[0m \u001b[43m    \u001b[49m\u001b[43mpassword\u001b[49m\u001b[38;5;241;43m=\u001b[39;49m\u001b[38;5;28;43;01mFalse\u001b[39;49;00m\u001b[43m,\u001b[49m\n\u001b[0;32m   1196\u001b[0m \u001b[43m\u001b[49m\u001b[43m)\u001b[49m\n",
      "File \u001b[1;32m~\\AppData\\Local\\Programs\\Python\\Python311\\Lib\\site-packages\\ipykernel\\kernelbase.py:1234\u001b[0m, in \u001b[0;36mKernel._input_request\u001b[1;34m(self, prompt, ident, parent, password)\u001b[0m\n\u001b[0;32m   1231\u001b[0m \u001b[38;5;28;01mexcept\u001b[39;00m \u001b[38;5;167;01mKeyboardInterrupt\u001b[39;00m:\n\u001b[0;32m   1232\u001b[0m     \u001b[38;5;66;03m# re-raise KeyboardInterrupt, to truncate traceback\u001b[39;00m\n\u001b[0;32m   1233\u001b[0m     msg \u001b[38;5;241m=\u001b[39m \u001b[38;5;124m\"\u001b[39m\u001b[38;5;124mInterrupted by user\u001b[39m\u001b[38;5;124m\"\u001b[39m\n\u001b[1;32m-> 1234\u001b[0m     \u001b[38;5;28;01mraise\u001b[39;00m \u001b[38;5;167;01mKeyboardInterrupt\u001b[39;00m(msg) \u001b[38;5;28;01mfrom\u001b[39;00m \u001b[38;5;28;01mNone\u001b[39;00m\n\u001b[0;32m   1235\u001b[0m \u001b[38;5;28;01mexcept\u001b[39;00m \u001b[38;5;167;01mException\u001b[39;00m:\n\u001b[0;32m   1236\u001b[0m     \u001b[38;5;28mself\u001b[39m\u001b[38;5;241m.\u001b[39mlog\u001b[38;5;241m.\u001b[39mwarning(\u001b[38;5;124m\"\u001b[39m\u001b[38;5;124mInvalid Message:\u001b[39m\u001b[38;5;124m\"\u001b[39m, exc_info\u001b[38;5;241m=\u001b[39m\u001b[38;5;28;01mTrue\u001b[39;00m)\n",
      "\u001b[1;31mKeyboardInterrupt\u001b[0m: Interrupted by user"
     ]
    }
   ],
   "source": [
    "s = \"\" # empty string\n",
    "n = int(input(\"Enter how many people do you want to keep data\"))\n",
    "            #TypeError: 'str' object cannot be interpreted as an integer\n",
    "            #note in range we have to give int value\n",
    "for i in range(n):\n",
    "    name = input(\"Enter the  name = \")\n",
    "    address = input(\"Enter address =\")\n",
    "    phone_number= input(\"Enter the phone number =\")\n",
    "    s = s+\" \"+name+\" \"+address+\" \"+phone_number +\"\\n\"  #note string are \n",
    "    #adding, note +\" \"+ is added to keep space between two variable\n",
    "print()\n",
    "print(s)"
   ]
  },
  {
   "cell_type": "markdown",
   "id": "f4639b7c",
   "metadata": {},
   "source": [
    "# billing in loop"
   ]
  },
  {
   "cell_type": "code",
   "execution_count": 1,
   "id": "c3d14a79",
   "metadata": {
    "scrolled": true
   },
   "outputs": [
    {
     "name": "stdout",
     "output_type": "stream",
     "text": [
      "Enter how many iteam do you bought1\n",
      "Enter the  name = Apple\n",
      "Enter the price =400\n",
      "Enter qty = 2\n",
      "Apple 400 2.0 800.0\n",
      "\n",
      "Total price is = 800.0\n"
     ]
    }
   ],
   "source": [
    "bill = \"\"# note we can also write str()\n",
    "all_total = 0\n",
    "n = int(input(\"Enter how many iteam do you bought\"))\n",
    "for i in range(n):\n",
    "    name = input(\"Enter the  name = \")\n",
    "    price = int(input(\"Enter the price =\"))\n",
    "    qty = float(input(\"Enter qty = \"))\n",
    "    total = price * qty\n",
    "    bill = bill+name+\" \"+str(price)+\" \"+str(qty)+\" \"+str(total)+\"\\n\"\n",
    "    all_total = all_total + total\n",
    "print(bill)\n",
    "print(\"Total price is =\",all_total)"
   ]
  },
  {
   "cell_type": "markdown",
   "id": "3d570a3d",
   "metadata": {},
   "source": [
    "Extra Eg:-\n"
   ]
  },
  {
   "cell_type": "code",
   "execution_count": 22,
   "id": "43e35b8f",
   "metadata": {},
   "outputs": [
    {
     "name": "stdout",
     "output_type": "stream",
     "text": [
      "******* Kiran Store *******\n",
      "Enter the iteam bought by customer = 2\n",
      "Enter what do you bought apple/ mango = apple\n",
      "how many kg did you bought iteam = 2\n",
      "Enter what do you bought apple/ mango = mango\n",
      "how many kg did you bought iteam = 4\n",
      "total price of all iteam 360\n"
     ]
    }
   ],
   "source": [
    "print(\"******* Kiran Store *******\")\n",
    "t =0 # t = total \n",
    "apple = 80 #per kg\n",
    "mango = 50 #per kg\n",
    "onion= 120 #per kg\n",
    "potatoe = 45 #per kg\n",
    "bought = int(input(\"Enter the iteam bought by customer = \"))\n",
    "for i in range(bought):\n",
    "    A = input(\"Enter what do you bought apple/ mango = \")\n",
    "    qty= int(input(\"how many kg did you bought iteam = \"))\n",
    "    if A == \"apple\":\n",
    "        t+= apple * qty   \n",
    "    elif A == \"mango\":\n",
    "        t+= mango * qty\n",
    "    else:\n",
    "        print(\"you didn't buy apple or mango\")\n",
    "print(\"total price of all iteam\",t)             \n"
   ]
  },
  {
   "cell_type": "code",
   "execution_count": 15,
   "id": "6d8ca90c",
   "metadata": {},
   "outputs": [
    {
     "name": "stdout",
     "output_type": "stream",
     "text": [
      "******* Kiran Store *******\n",
      "Enter the number of items bought by customer: 2\n",
      "Enter the item bought: apple\n",
      "How many kg of apple did you buy? 2\n",
      "Enter the item bought: mango\n",
      "How many kg of mango did you buy? 2\n",
      "Total price: 260.0\n"
     ]
    }
   ],
   "source": [
    "print(\"******* Kiran Store *******\")\n",
    "\n",
    "# Prices per kg\n",
    "apple_price = 80\n",
    "mango_price = 50\n",
    "onion_price = 120\n",
    "potato_price = 45\n",
    "\n",
    "# Initialize total\n",
    "total = 0\n",
    "\n",
    "# Getting the number of items bought by the customer\n",
    "bought = int(input(\"Enter the number of items bought by customer: \"))\n",
    "\n",
    "# Loop through the items bought\n",
    "for i in range(bought):\n",
    "    item = input(\"Enter the item bought: \")\n",
    "    qty = float(input(f\"How many kg of {item} did you buy? \"))\n",
    "    \n",
    "    if item == \"apple\":\n",
    "        total += apple_price * qty\n",
    "    elif item == \"mango\":\n",
    "        total += mango_price * qty\n",
    "    elif item == \"onion\":\n",
    "        total += onion_price * qty\n",
    "    elif item == \"potato\":\n",
    "        total += potato_price * qty\n",
    "    else:\n",
    "        print(\"Invalid item entered.\")\n",
    "\n",
    "print(\"Total price:\", total)"
   ]
  },
  {
   "cell_type": "code",
   "execution_count": 6,
   "id": "5305f956",
   "metadata": {
    "scrolled": true
   },
   "outputs": [
    {
     "name": "stdout",
     "output_type": "stream",
     "text": [
      "enter the n =5\n",
      "1\n",
      "2\n",
      "3\n",
      "4\n",
      "5\n"
     ]
    }
   ],
   "source": [
    "s = 0\n",
    "n = int(input(\"enter the n =\"))\n",
    "for i in range(1,n+1):\n",
    "     print(i)"
   ]
  },
  {
   "cell_type": "markdown",
   "id": "94a99532",
   "metadata": {},
   "source": [
    "# adding the value i \n"
   ]
  },
  {
   "cell_type": "code",
   "execution_count": 16,
   "id": "f37212f0",
   "metadata": {},
   "outputs": [
    {
     "name": "stdout",
     "output_type": "stream",
     "text": [
      "enter the n =5\n",
      "1\n",
      "2\n",
      "6\n",
      "24\n",
      "120\n",
      "\n",
      "120\n"
     ]
    }
   ],
   "source": [
    "s = 1\n",
    "n = int(input(\"enter the n =\"))\n",
    "for i in range(1,n+1):\n",
    "     s = s * i\n",
    "     print(s)\n",
    "print()\n",
    "print(s)\n",
    "\n"
   ]
  },
  {
   "cell_type": "code",
   "execution_count": 19,
   "id": "b9b222c8",
   "metadata": {},
   "outputs": [
    {
     "name": "stdout",
     "output_type": "stream",
     "text": [
      "enter the number = 5\n",
      "1\n",
      "2\n",
      "6\n",
      "24\n",
      "120\n",
      "\n",
      "the multiplication of given number 120\n"
     ]
    }
   ],
   "source": [
    "s = 1\n",
    "n = int(input(\"enter the number = \"))\n",
    "for i in range(1,n+1):\n",
    "    s = s*i\n",
    "    print(s)\n",
    "print()\n",
    "\n",
    "print(\"The multiplication of given number\",s)\n"
   ]
  },
  {
   "cell_type": "code",
   "execution_count": 27,
   "id": "5106da1e",
   "metadata": {},
   "outputs": [
    {
     "name": "stdout",
     "output_type": "stream",
     "text": [
      "0*\n",
      "1*\n",
      "2*\n",
      "3*\n",
      "4*\n"
     ]
    }
   ],
   "source": [
    "for i  in range(5):\n",
    "    s = i * \"*\"\n",
    "    print(s)"
   ]
  },
  {
   "cell_type": "code",
   "execution_count": 15,
   "id": "35c91d40",
   "metadata": {},
   "outputs": [
    {
     "name": "stdout",
     "output_type": "stream",
     "text": [
      "w\n",
      "o\n",
      "r\n",
      "l\n",
      "d\n"
     ]
    }
   ],
   "source": [
    "#for irrate_var in sequence:\n",
    "# s = 5\n",
    "# for i in range(s):\n",
    "#     print(i,s)\n",
    "a = \"world\"\n",
    "for i in a:\n",
    "    print(i)"
   ]
  },
  {
   "cell_type": "markdown",
   "id": "5c8bd05c",
   "metadata": {},
   "source": [
    "# multiplication of any numvber using loop\n",
    "1. when giving the range always give int value\n",
    "2. for i in range(int value):\n",
    "        print(i)\n"
   ]
  },
  {
   "cell_type": "code",
   "execution_count": 23,
   "id": "c1ae37b9",
   "metadata": {},
   "outputs": [
    {
     "name": "stdout",
     "output_type": "stream",
     "text": [
      "Enter any number to have table =4\n",
      "4 * 1 = 4\n",
      "4 * 2 = 8\n",
      "4 * 3 = 12\n",
      "4 * 4 = 16\n",
      "4 * 5 = 20\n",
      "4 * 6 = 24\n",
      "4 * 7 = 28\n",
      "4 * 8 = 32\n",
      "4 * 9 = 36\n",
      "4 * 10 = 40\n"
     ]
    }
   ],
   "source": [
    "n = int(input(\"Enter any number to have table =\"))\n",
    "for i in range(1,11):\n",
    "    print(n,\"*\",i,\"=\",n*i)"
   ]
  },
  {
   "cell_type": "code",
   "execution_count": 28,
   "id": "d0eec523",
   "metadata": {},
   "outputs": [
    {
     "name": "stdout",
     "output_type": "stream",
     "text": [
      "kiran\n",
      "ram\n",
      "hari\n"
     ]
    }
   ],
   "source": [
    "#list value read\n",
    "list= [\"kiran\",\"ram\",\"hari\"]\n",
    "for i in range(len(list)):\n",
    "    print(\"hello\",list[i])\n",
    "    "
   ]
  },
  {
   "cell_type": "code",
   "execution_count": null,
   "id": "653280c3",
   "metadata": {},
   "outputs": [],
   "source": []
  },
  {
   "cell_type": "code",
   "execution_count": 7,
   "id": "4129a975",
   "metadata": {},
   "outputs": [
    {
     "name": "stdout",
     "output_type": "stream",
     "text": [
      "     *\n",
      "    ***\n",
      "   *****\n",
      "  *******\n"
     ]
    }
   ],
   "source": [
    "n = 5\n",
    "for i in range(1,5):\n",
    "    print((n-i)*\" \",(2*i-1)*\"*\")"
   ]
  },
  {
   "cell_type": "code",
   "execution_count": 17,
   "id": "7cf6e921",
   "metadata": {},
   "outputs": [
    {
     "name": "stdout",
     "output_type": "stream",
     "text": [
      "hellow world i am python"
     ]
    }
   ],
   "source": [
    "a = \"hellow world. i am python!\"\n",
    "for i in a:\n",
    "    if i !=\".\" and i!=\"!\":\n",
    "        print(i, end=\"\")\n",
    "    "
   ]
  },
  {
   "cell_type": "code",
   "execution_count": 14,
   "id": "9758b32f",
   "metadata": {},
   "outputs": [
    {
     "name": "stdout",
     "output_type": "stream",
     "text": [
      "enter a number = kiran \n",
      "enter a number = rai\n",
      "kiran  rai \n"
     ]
    }
   ],
   "source": [
    "s = str()\n",
    "for i in range(2):\n",
    "    a = input(\"enter a number = \")\n",
    "    s += a + \" \"\n",
    "print(s)\n",
    "    "
   ]
  },
  {
   "cell_type": "code",
   "execution_count": 21,
   "id": "78381caf",
   "metadata": {},
   "outputs": [
    {
     "name": "stdout",
     "output_type": "stream",
     "text": [
      "hello orld"
     ]
    }
   ],
   "source": [
    " a = \"hello world\"\n",
    " for i in a :\n",
    "    if i != \"w\": # note not including the any word  in \" \"\n",
    "        print(i, end = \"\") #  note end can print horigental\n",
    "    \n",
    "    "
   ]
  },
  {
   "cell_type": "code",
   "execution_count": null,
   "id": "057a2651",
   "metadata": {},
   "outputs": [],
   "source": []
  }
 ],
 "metadata": {
  "kernelspec": {
   "display_name": "Python 3 (ipykernel)",
   "language": "python",
   "name": "python3"
  },
  "language_info": {
   "codemirror_mode": {
    "name": "ipython",
    "version": 3
   },
   "file_extension": ".py",
   "mimetype": "text/x-python",
   "name": "python",
   "nbconvert_exporter": "python",
   "pygments_lexer": "ipython3",
   "version": "3.11.3"
  }
 },
 "nbformat": 4,
 "nbformat_minor": 5
}
