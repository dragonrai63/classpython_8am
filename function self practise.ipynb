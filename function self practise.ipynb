{
 "cells": [
  {
   "cell_type": "markdown",
   "id": "f39b83bb",
   "metadata": {},
   "source": [
    "# Function\n"
   ]
  },
  {
   "cell_type": "code",
   "execution_count": 1,
   "id": "f552768e",
   "metadata": {},
   "outputs": [
    {
     "ename": "SyntaxError",
     "evalue": "invalid syntax (2959520551.py, line 1)",
     "output_type": "error",
     "traceback": [
      "\u001b[1;36m  Cell \u001b[1;32mIn[1], line 1\u001b[1;36m\u001b[0m\n\u001b[1;33m    <fuinction>\u001b[0m\n\u001b[1;37m    ^\u001b[0m\n\u001b[1;31mSyntaxError\u001b[0m\u001b[1;31m:\u001b[0m invalid syntax\n"
     ]
    }
   ],
   "source": [
    "<fuinction>"
   ]
  },
  {
   "cell_type": "code",
   "execution_count": 6,
   "id": "6b631b29",
   "metadata": {},
   "outputs": [
    {
     "name": "stdout",
     "output_type": "stream",
     "text": [
      "enter l =5\n",
      "enter b =5\n",
      "enter h =45]\n"
     ]
    },
    {
     "ename": "ValueError",
     "evalue": "invalid literal for int() with base 10: '45]'",
     "output_type": "error",
     "traceback": [
      "\u001b[1;31m---------------------------------------------------------------------------\u001b[0m",
      "\u001b[1;31mValueError\u001b[0m                                Traceback (most recent call last)",
      "Cell \u001b[1;32mIn[6], line 8\u001b[0m\n\u001b[0;32m      6\u001b[0m     v \u001b[38;5;241m=\u001b[39m l\u001b[38;5;241m*\u001b[39mb\u001b[38;5;241m*\u001b[39mh\n\u001b[0;32m      7\u001b[0m     \u001b[38;5;28mprint\u001b[39m(v)\n\u001b[1;32m----> 8\u001b[0m \u001b[43mcal\u001b[49m\u001b[43m(\u001b[49m\u001b[43m)\u001b[49m\n",
      "Cell \u001b[1;32mIn[6], line 4\u001b[0m, in \u001b[0;36mcal\u001b[1;34m()\u001b[0m\n\u001b[0;32m      2\u001b[0m l \u001b[38;5;241m=\u001b[39m \u001b[38;5;28mint\u001b[39m(\u001b[38;5;28minput\u001b[39m(\u001b[38;5;124m\"\u001b[39m\u001b[38;5;124menter l =\u001b[39m\u001b[38;5;124m\"\u001b[39m))\u001b[38;5;66;03m# local variable\u001b[39;00m\n\u001b[0;32m      3\u001b[0m b \u001b[38;5;241m=\u001b[39m \u001b[38;5;28mint\u001b[39m(\u001b[38;5;28minput\u001b[39m(\u001b[38;5;124m\"\u001b[39m\u001b[38;5;124menter b =\u001b[39m\u001b[38;5;124m\"\u001b[39m))\n\u001b[1;32m----> 4\u001b[0m h \u001b[38;5;241m=\u001b[39m \u001b[38;5;28;43mint\u001b[39;49m\u001b[43m(\u001b[49m\u001b[38;5;28;43minput\u001b[39;49m\u001b[43m(\u001b[49m\u001b[38;5;124;43m\"\u001b[39;49m\u001b[38;5;124;43menter h =\u001b[39;49m\u001b[38;5;124;43m\"\u001b[39;49m\u001b[43m)\u001b[49m\u001b[43m)\u001b[49m\n\u001b[0;32m      5\u001b[0m a \u001b[38;5;241m=\u001b[39m l\u001b[38;5;241m*\u001b[39mb\n\u001b[0;32m      6\u001b[0m v \u001b[38;5;241m=\u001b[39m l\u001b[38;5;241m*\u001b[39mb\u001b[38;5;241m*\u001b[39mh\n",
      "\u001b[1;31mValueError\u001b[0m: invalid literal for int() with base 10: '45]'"
     ]
    }
   ],
   "source": [
    "def cal():\n",
    "    l = int(input(\"enter l =\"))# local variable\n",
    "    b = int(input(\"enter b =\"))\n",
    "    h = int(input(\"enter h =\"))\n",
    "    a = l*b\n",
    "    v = l*b*h\n",
    "    print(v)\n",
    "cal()\n"
   ]
  },
  {
   "cell_type": "markdown",
   "id": "91eae3ae",
   "metadata": {},
   "source": [
    "function divided into 4\n",
    "but mostly two\n",
    "1. argument\n",
    "2. return"
   ]
  },
  {
   "cell_type": "code",
   "execution_count": 7,
   "id": "b0691230",
   "metadata": {},
   "outputs": [
    {
     "ename": "SyntaxError",
     "evalue": "invalid syntax (1477422345.py, line 2)",
     "output_type": "error",
     "traceback": [
      "\u001b[1;36m  Cell \u001b[1;32mIn[7], line 2\u001b[1;36m\u001b[0m\n\u001b[1;33m    1. like form\u001b[0m\n\u001b[1;37m       ^\u001b[0m\n\u001b[1;31mSyntaxError\u001b[0m\u001b[1;31m:\u001b[0m invalid syntax\n"
     ]
    }
   ],
   "source": [
    "#function with argummnet\n",
    "1. like form \n",
    "2."
   ]
  },
  {
   "cell_type": "code",
   "execution_count": 8,
   "id": "3fbc0310",
   "metadata": {},
   "outputs": [
    {
     "ename": "IndentationError",
     "evalue": "unexpected indent (3497137978.py, line 4)",
     "output_type": "error",
     "traceback": [
      "\u001b[1;36m  Cell \u001b[1;32mIn[8], line 4\u001b[1;36m\u001b[0m\n\u001b[1;33m    df cal(l,b,h):\u001b[0m\n\u001b[1;37m    ^\u001b[0m\n\u001b[1;31mIndentationError\u001b[0m\u001b[1;31m:\u001b[0m unexpected indent\n"
     ]
    }
   ],
   "source": [
    " l = int(input(\"enter l =\"))# local variable\n",
    " b = int(input(\"enter b =\"))\n",
    " h = int(input(\"enter h =\"))\n",
    "  df cal(l,b,h):\n",
    "    a = l* b\n",
    "    v= l*b*h"
   ]
  },
  {
   "cell_type": "code",
   "execution_count": 13,
   "id": "e458ad2c",
   "metadata": {},
   "outputs": [
    {
     "name": "stdout",
     "output_type": "stream",
     "text": [
      "c\n",
      "c++\n",
      "s\n",
      "a\n",
      "python\n"
     ]
    }
   ],
   "source": [
    "def language(lan= \"python\"):# parametre in fuction\n",
    "    print(lan)\n",
    "language(\"c\")\n",
    "language(\"c++\")\n",
    "language(\"s\")\n",
    "language(\"a\")\n",
    "language() # argument in function\n",
    "\n"
   ]
  },
  {
   "cell_type": "code",
   "execution_count": 15,
   "id": "2d63ed5a",
   "metadata": {},
   "outputs": [
    {
     "name": "stdout",
     "output_type": "stream",
     "text": [
      "hello world\n",
      "hello world i am python\n"
     ]
    }
   ],
   "source": [
    "#Returm type function\n",
    "def hello():\n",
    "    return\"hello world\"\n",
    "x = hello()\n",
    "print(x)\n",
    "print(x,\"i am python\")"
   ]
  },
  {
   "cell_type": "code",
   "execution_count": 18,
   "id": "43ff2908",
   "metadata": {},
   "outputs": [
    {
     "name": "stdout",
     "output_type": "stream",
     "text": [
      "enter l =5\n",
      "enter b =5\n",
      "enter h =5\n",
      "25\n",
      "125\n"
     ]
    }
   ],
   "source": [
    "l = int(input(\"enter l =\"))# local variable\n",
    "b = int(input(\"enter b =\"))\n",
    "h = int(input(\"enter h =\"))\n",
    "def cal():\n",
    "    v= l*b*h\n",
    "    a = l*b\n",
    "    return a,v\n",
    "area,volume=cal()\n",
    "volume= area*h\n",
    "print(area)\n",
    "print(volume)\n",
    "\n"
   ]
  },
  {
   "cell_type": "code",
   "execution_count": null,
   "id": "79acd5cd",
   "metadata": {},
   "outputs": [],
   "source": []
  }
 ],
 "metadata": {
  "kernelspec": {
   "display_name": "Python 3 (ipykernel)",
   "language": "python",
   "name": "python3"
  },
  "language_info": {
   "codemirror_mode": {
    "name": "ipython",
    "version": 3
   },
   "file_extension": ".py",
   "mimetype": "text/x-python",
   "name": "python",
   "nbconvert_exporter": "python",
   "pygments_lexer": "ipython3",
   "version": "3.11.3"
  }
 },
 "nbformat": 4,
 "nbformat_minor": 5
}
